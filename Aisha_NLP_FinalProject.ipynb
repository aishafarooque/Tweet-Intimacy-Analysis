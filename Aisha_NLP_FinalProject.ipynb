{
  "cells": [
    {
      "cell_type": "markdown",
      "metadata": {
        "id": "view-in-github",
        "colab_type": "text"
      },
      "source": [
        "<a href=\"https://colab.research.google.com/github/aishafarooque/Tweet-Intimacy-Analysis/blob/main/Aisha_NLP_FinalProject.ipynb\" target=\"_parent\"><img src=\"https://colab.research.google.com/assets/colab-badge.svg\" alt=\"Open In Colab\"/></a>"
      ]
    },
    {
      "cell_type": "markdown",
      "metadata": {
        "id": "LtL71rUgcQBu"
      },
      "source": [
        "# Multilingual Tweet Intimacy Analysis\n",
        "\n",
        "## Introduction\n",
        "\n",
        "Dataset created by: Jiaxin Pei, Francesco Barbieri, Vítor Silva, Maarten Bos, Yozen Liu, Leonardo Neves, David Jurgens\n",
        "\n",
        "The goal of this project is to train machine learning (ML) models to recognize \"intimacy\" in text communications. The authors of this paper define intimacy as \"closeness and interdependence, self-disclosure, and warmth or affection” expressed in the language used to communicate.\n",
        "\n",
        "We have used two datasets, Reddit questions and Multilingual tweets, in this notebook. They have both been compiled by Pei et al. and are used to study if knowledge about intimacy levels of text communication can be transferred easily from tweets to questions or vice versa. \n",
        "\n",
        "(Aisha) leaving these sections here (out-of-order and brainstormed) to help us write the report. \n",
        "\n",
        "## Related Work\n",
        "(Aisha) Fill in any related work if applicable. This should probably go in the report.\n",
        "\n",
        "Leaving some links to clean and well-written notebooks we can use as references:\n",
        "* https://github.com/nlptown/nlp-notebooks/blob/master/An%20Introduction%20to%20Word%20Embeddings.ipynb \n",
        "* https://github.com/nlptown/nlp-notebooks/blob/master/Discovering%20and%20Visualizing%20Topics%20in%20Texts%20with%20LDA.ipynb \n"
      ]
    },
    {
      "cell_type": "markdown",
      "metadata": {
        "id": "F7y6c09Dof8j"
      },
      "source": [
        "Install dependencies"
      ]
    },
    {
      "cell_type": "code",
      "execution_count": null,
      "metadata": {
        "id": "HBMquumpocGx"
      },
      "outputs": [],
      "source": [
        "from IPython.display import clear_output \n",
        "\n",
        "! pip install --upgrade pip\n",
        "! pip install transformers\n",
        "! pip install tqdm\n",
        "\n",
        "# (Aisha) Clear output because it tends to get long. \n",
        "# But these libraries are always successfully installed.\n",
        "clear_output()"
      ]
    },
    {
      "cell_type": "markdown",
      "metadata": {
        "id": "kpHFYYTKKuLP"
      },
      "source": [
        "## Data"
      ]
    },
    {
      "cell_type": "markdown",
      "metadata": {
        "id": "b0oPGqR4Hq_r"
      },
      "source": [
        "Downloading the Twitter dataset from the Multilingual Tweet Intimacy Analysis Codalab competition ([source](https://codalab.lisn.upsaclay.fr/competitions/7096#learn_the_details-overview))."
      ]
    },
    {
      "cell_type": "code",
      "execution_count": null,
      "metadata": {
        "colab": {
          "base_uri": "https://localhost:8080/"
        },
        "id": "_5UYoLaAaF5E",
        "outputId": "1bc593f4-6299-47e9-967d-ebbadc33f5b3"
      },
      "outputs": [
        {
          "output_type": "stream",
          "name": "stdout",
          "text": [
            "--2022-12-03 22:05:50--  https://raw.githubusercontent.com/aishafarooque/Tweet-Intimacy-Analysis/main/train.csv\n",
            "Resolving raw.githubusercontent.com (raw.githubusercontent.com)... 185.199.108.133, 185.199.109.133, 185.199.110.133, ...\n",
            "Connecting to raw.githubusercontent.com (raw.githubusercontent.com)|185.199.108.133|:443... connected.\n",
            "HTTP request sent, awaiting response... 200 OK\n",
            "Length: 813066 (794K) [text/plain]\n",
            "Saving to: ‘train.csv’\n",
            "\n",
            "\rtrain.csv             0%[                    ]       0  --.-KB/s               \rtrain.csv           100%[===================>] 794.01K  --.-KB/s    in 0.05s   \n",
            "\n",
            "2022-12-03 22:05:50 (16.9 MB/s) - ‘train.csv’ saved [813066/813066]\n",
            "\n"
          ]
        }
      ],
      "source": [
        "# Remove Twitter's train.csv if it already exists\n",
        "! rm -rf train.csv\n",
        "\n",
        "# Download Twitter's training data\n",
        "! wget https://raw.githubusercontent.com/aishafarooque/Tweet-Intimacy-Analysis/main/train.csv\n",
        "\n",
        "# Rename train.csv -> twitter_train.csv for more clarity\n",
        "! mv train.csv twitter_train.csv"
      ]
    },
    {
      "cell_type": "markdown",
      "metadata": {
        "id": "nDC_-zTmH4-X"
      },
      "source": [
        "Downloading the Reddit dataset from the author's GitHub repository: Quantifying-Intimacy-in-Language\n",
        " ([source](https://github.com/Jiaxin-Pei/Quantifying-Intimacy-in-Language/blob/main/data/annotated_question_intimacy_data.zip))."
      ]
    },
    {
      "cell_type": "code",
      "execution_count": null,
      "metadata": {
        "colab": {
          "base_uri": "https://localhost:8080/"
        },
        "id": "bWDkJH8tH_tD",
        "outputId": "98a92a67-d4c6-467a-97fc-32532fd751df"
      },
      "outputs": [
        {
          "output_type": "stream",
          "name": "stdout",
          "text": [
            "--2022-12-03 22:05:51--  https://raw.githubusercontent.com/Jiaxin%2DPei/Quantifying%2DIntimacy%2Din%2DLanguage/main/data/annotated_question_intimacy_data.zip\n",
            "Resolving raw.githubusercontent.com (raw.githubusercontent.com)... 185.199.108.133, 185.199.110.133, 185.199.109.133, ...\n",
            "Connecting to raw.githubusercontent.com (raw.githubusercontent.com)|185.199.108.133|:443... connected.\n",
            "HTTP request sent, awaiting response... 200 OK\n",
            "Length: 94741 (93K) [application/zip]\n",
            "Saving to: ‘annotated_question_intimacy_data.zip’\n",
            "\n",
            "\r          annotated   0%[                    ]       0  --.-KB/s               \rannotated_question_ 100%[===================>]  92.52K  --.-KB/s    in 0.01s   \n",
            "\n",
            "2022-12-03 22:05:51 (6.41 MB/s) - ‘annotated_question_intimacy_data.zip’ saved [94741/94741]\n",
            "\n",
            "Archive:  /content/annotated_question_intimacy_data.zip\n",
            "   creating: annotated_question_intimacy_data/\n",
            "  inflating: annotated_question_intimacy_data/final_train.txt  \n",
            "   creating: __MACOSX/\n",
            "   creating: __MACOSX/annotated_question_intimacy_data/\n",
            "  inflating: __MACOSX/annotated_question_intimacy_data/._final_train.txt  \n",
            "  inflating: annotated_question_intimacy_data/final_val.txt  \n",
            "  inflating: __MACOSX/annotated_question_intimacy_data/._final_val.txt  \n",
            "  inflating: annotated_question_intimacy_data/final_test.txt  \n",
            "  inflating: __MACOSX/annotated_question_intimacy_data/._final_test.txt  \n",
            "  inflating: annotated_question_intimacy_data/final_external.txt  \n"
          ]
        }
      ],
      "source": [
        "# Sanitze working directory\n",
        "! rm -rf /content/__MACOSX\n",
        "! rm -rf /content/annotated_question_intimacy_data\n",
        "\n",
        "# Removing the .zip file if it already exists.\n",
        "! rm -rf annotated_question_intimacy_data.zip\n",
        "\n",
        "# Download the dataset from the author's GitHub repository.\n",
        "! wget https://raw.githubusercontent.com/Jiaxin%2DPei/Quantifying%2DIntimacy%2Din%2DLanguage/main/data/annotated_question_intimacy_data.zip\n",
        "\n",
        "# Unzip the file. \n",
        "! unzip /content/annotated_question_intimacy_data.zip"
      ]
    },
    {
      "cell_type": "markdown",
      "metadata": {
        "id": "Opsn06XGc9z5"
      },
      "source": [
        "## Data fact study"
      ]
    },
    {
      "cell_type": "markdown",
      "metadata": {
        "id": "mv0p2FnOS2XK"
      },
      "source": [
        "### Twitter Dataset"
      ]
    },
    {
      "cell_type": "markdown",
      "metadata": {
        "id": "z0UHCkZzMSso"
      },
      "source": [
        "The Twitter dataset has a total of 9491 rows and 3 columns which are:\n",
        "* Tweet - Textual content of the tweet\n",
        "* Intimacy Label - Intimacy score of the tweet, ranging from 1 (least intimate) to 5 (most intimate).\n",
        "* Language - The language the tweet is written in. There are six languages in this datasset:  English, Spanish, Italian, Portuguese, French, and Chinese."
      ]
    },
    {
      "cell_type": "code",
      "execution_count": null,
      "metadata": {
        "colab": {
          "base_uri": "https://localhost:8080/"
        },
        "id": "eKCYp1TGbX7i",
        "outputId": "fa1da8b1-728b-4028-8822-741b9eb417a6"
      },
      "outputs": [
        {
          "output_type": "stream",
          "name": "stdout",
          "text": [
            "Dataset size: 9491 \n",
            "\n",
            "<class 'pandas.core.frame.DataFrame'>\n",
            "RangeIndex: 9491 entries, 0 to 9490\n",
            "Data columns (total 3 columns):\n",
            " #   Column    Non-Null Count  Dtype  \n",
            "---  ------    --------------  -----  \n",
            " 0   document  9491 non-null   object \n",
            " 1   label     9491 non-null   float64\n",
            " 2   language  9491 non-null   object \n",
            "dtypes: float64(1), object(2)\n",
            "memory usage: 222.6+ KB\n"
          ]
        }
      ],
      "source": [
        "import pandas as pd\n",
        "\n",
        "twitter_df_train = pd.read_csv('/content/twitter_train.csv', on_bad_lines='skip')\n",
        "twitter_df_train = twitter_df_train.rename(columns={'text': 'document', 'label': 'label'})\n",
        "\n",
        "print(\"Dataset size:\", len(twitter_df_train), '\\n')\n",
        "twitter_df_train.info()"
      ]
    },
    {
      "cell_type": "code",
      "execution_count": null,
      "metadata": {
        "colab": {
          "base_uri": "https://localhost:8080/",
          "height": 206
        },
        "id": "Sh0Jytk4MNHZ",
        "outputId": "f1b2492d-7837-4af5-db0a-66ebb0118a2d"
      },
      "outputs": [
        {
          "output_type": "execute_result",
          "data": {
            "text/plain": [
              "                                               document  label    language\n",
              "6935  @user Maxala en plus d’être toxique dans notre...    3.2      French\n",
              "872   @user So can a bunch of NATO countries withdra...    1.0     English\n",
              "397   @user Fine I'll just play rebirth with my 0 fr...    2.4     English\n",
              "3411  @user Eu voto por #Dynamite do @BTS_twt pelo c...    1.0  Portuguese\n",
              "1936  @user @user @TigresOficial Bien dicho no te ll...    1.8     Spanish"
            ],
            "text/html": [
              "\n",
              "  <div id=\"df-16ed9a3a-d340-43bc-9cea-25a06e7bb983\">\n",
              "    <div class=\"colab-df-container\">\n",
              "      <div>\n",
              "<style scoped>\n",
              "    .dataframe tbody tr th:only-of-type {\n",
              "        vertical-align: middle;\n",
              "    }\n",
              "\n",
              "    .dataframe tbody tr th {\n",
              "        vertical-align: top;\n",
              "    }\n",
              "\n",
              "    .dataframe thead th {\n",
              "        text-align: right;\n",
              "    }\n",
              "</style>\n",
              "<table border=\"1\" class=\"dataframe\">\n",
              "  <thead>\n",
              "    <tr style=\"text-align: right;\">\n",
              "      <th></th>\n",
              "      <th>document</th>\n",
              "      <th>label</th>\n",
              "      <th>language</th>\n",
              "    </tr>\n",
              "  </thead>\n",
              "  <tbody>\n",
              "    <tr>\n",
              "      <th>6935</th>\n",
              "      <td>@user Maxala en plus d’être toxique dans notre...</td>\n",
              "      <td>3.2</td>\n",
              "      <td>French</td>\n",
              "    </tr>\n",
              "    <tr>\n",
              "      <th>872</th>\n",
              "      <td>@user So can a bunch of NATO countries withdra...</td>\n",
              "      <td>1.0</td>\n",
              "      <td>English</td>\n",
              "    </tr>\n",
              "    <tr>\n",
              "      <th>397</th>\n",
              "      <td>@user Fine I'll just play rebirth with my 0 fr...</td>\n",
              "      <td>2.4</td>\n",
              "      <td>English</td>\n",
              "    </tr>\n",
              "    <tr>\n",
              "      <th>3411</th>\n",
              "      <td>@user Eu voto por #Dynamite do @BTS_twt pelo c...</td>\n",
              "      <td>1.0</td>\n",
              "      <td>Portuguese</td>\n",
              "    </tr>\n",
              "    <tr>\n",
              "      <th>1936</th>\n",
              "      <td>@user @user @TigresOficial Bien dicho no te ll...</td>\n",
              "      <td>1.8</td>\n",
              "      <td>Spanish</td>\n",
              "    </tr>\n",
              "  </tbody>\n",
              "</table>\n",
              "</div>\n",
              "      <button class=\"colab-df-convert\" onclick=\"convertToInteractive('df-16ed9a3a-d340-43bc-9cea-25a06e7bb983')\"\n",
              "              title=\"Convert this dataframe to an interactive table.\"\n",
              "              style=\"display:none;\">\n",
              "        \n",
              "  <svg xmlns=\"http://www.w3.org/2000/svg\" height=\"24px\"viewBox=\"0 0 24 24\"\n",
              "       width=\"24px\">\n",
              "    <path d=\"M0 0h24v24H0V0z\" fill=\"none\"/>\n",
              "    <path d=\"M18.56 5.44l.94 2.06.94-2.06 2.06-.94-2.06-.94-.94-2.06-.94 2.06-2.06.94zm-11 1L8.5 8.5l.94-2.06 2.06-.94-2.06-.94L8.5 2.5l-.94 2.06-2.06.94zm10 10l.94 2.06.94-2.06 2.06-.94-2.06-.94-.94-2.06-.94 2.06-2.06.94z\"/><path d=\"M17.41 7.96l-1.37-1.37c-.4-.4-.92-.59-1.43-.59-.52 0-1.04.2-1.43.59L10.3 9.45l-7.72 7.72c-.78.78-.78 2.05 0 2.83L4 21.41c.39.39.9.59 1.41.59.51 0 1.02-.2 1.41-.59l7.78-7.78 2.81-2.81c.8-.78.8-2.07 0-2.86zM5.41 20L4 18.59l7.72-7.72 1.47 1.35L5.41 20z\"/>\n",
              "  </svg>\n",
              "      </button>\n",
              "      \n",
              "  <style>\n",
              "    .colab-df-container {\n",
              "      display:flex;\n",
              "      flex-wrap:wrap;\n",
              "      gap: 12px;\n",
              "    }\n",
              "\n",
              "    .colab-df-convert {\n",
              "      background-color: #E8F0FE;\n",
              "      border: none;\n",
              "      border-radius: 50%;\n",
              "      cursor: pointer;\n",
              "      display: none;\n",
              "      fill: #1967D2;\n",
              "      height: 32px;\n",
              "      padding: 0 0 0 0;\n",
              "      width: 32px;\n",
              "    }\n",
              "\n",
              "    .colab-df-convert:hover {\n",
              "      background-color: #E2EBFA;\n",
              "      box-shadow: 0px 1px 2px rgba(60, 64, 67, 0.3), 0px 1px 3px 1px rgba(60, 64, 67, 0.15);\n",
              "      fill: #174EA6;\n",
              "    }\n",
              "\n",
              "    [theme=dark] .colab-df-convert {\n",
              "      background-color: #3B4455;\n",
              "      fill: #D2E3FC;\n",
              "    }\n",
              "\n",
              "    [theme=dark] .colab-df-convert:hover {\n",
              "      background-color: #434B5C;\n",
              "      box-shadow: 0px 1px 3px 1px rgba(0, 0, 0, 0.15);\n",
              "      filter: drop-shadow(0px 1px 2px rgba(0, 0, 0, 0.3));\n",
              "      fill: #FFFFFF;\n",
              "    }\n",
              "  </style>\n",
              "\n",
              "      <script>\n",
              "        const buttonEl =\n",
              "          document.querySelector('#df-16ed9a3a-d340-43bc-9cea-25a06e7bb983 button.colab-df-convert');\n",
              "        buttonEl.style.display =\n",
              "          google.colab.kernel.accessAllowed ? 'block' : 'none';\n",
              "\n",
              "        async function convertToInteractive(key) {\n",
              "          const element = document.querySelector('#df-16ed9a3a-d340-43bc-9cea-25a06e7bb983');\n",
              "          const dataTable =\n",
              "            await google.colab.kernel.invokeFunction('convertToInteractive',\n",
              "                                                     [key], {});\n",
              "          if (!dataTable) return;\n",
              "\n",
              "          const docLinkHtml = 'Like what you see? Visit the ' +\n",
              "            '<a target=\"_blank\" href=https://colab.research.google.com/notebooks/data_table.ipynb>data table notebook</a>'\n",
              "            + ' to learn more about interactive tables.';\n",
              "          element.innerHTML = '';\n",
              "          dataTable['output_type'] = 'display_data';\n",
              "          await google.colab.output.renderOutput(dataTable, element);\n",
              "          const docLink = document.createElement('div');\n",
              "          docLink.innerHTML = docLinkHtml;\n",
              "          element.appendChild(docLink);\n",
              "        }\n",
              "      </script>\n",
              "    </div>\n",
              "  </div>\n",
              "  "
            ]
          },
          "metadata": {},
          "execution_count": 62
        }
      ],
      "source": [
        "twitter_df_train.sample(5)"
      ]
    },
    {
      "cell_type": "markdown",
      "metadata": {
        "id": "yhpoAUc_P1y3"
      },
      "source": [
        "Looking at the distribution of tweets in the dataset we can see that, approximately, there are equal number of tweets across all six languages."
      ]
    },
    {
      "cell_type": "code",
      "execution_count": null,
      "metadata": {
        "colab": {
          "base_uri": "https://localhost:8080/",
          "height": 238
        },
        "id": "aJQ8hf5OP1Hs",
        "outputId": "777dfbf2-d853-4866-e42f-450bbc92d2db"
      },
      "outputs": [
        {
          "output_type": "execute_result",
          "data": {
            "text/plain": [
              "<pandas.io.formats.style.Styler at 0x7f40d67268e0>"
            ],
            "text/html": [
              "<style type=\"text/css\">\n",
              "#T_4f012_row0_col1, #T_4f012_row1_col1 {\n",
              "  background-color: #023858;\n",
              "  color: #f1f1f1;\n",
              "}\n",
              "#T_4f012_row2_col1 {\n",
              "  background-color: #034871;\n",
              "  color: #f1f1f1;\n",
              "}\n",
              "#T_4f012_row3_col1 {\n",
              "  background-color: #04598c;\n",
              "  color: #f1f1f1;\n",
              "}\n",
              "#T_4f012_row4_col1 {\n",
              "  background-color: #045c90;\n",
              "  color: #f1f1f1;\n",
              "}\n",
              "#T_4f012_row5_col1 {\n",
              "  background-color: #fff7fb;\n",
              "  color: #000000;\n",
              "}\n",
              "</style>\n",
              "<table id=\"T_4f012_\" class=\"dataframe\">\n",
              "  <thead>\n",
              "    <tr>\n",
              "      <th class=\"blank level0\" >&nbsp;</th>\n",
              "      <th class=\"col_heading level0 col0\" >language</th>\n",
              "      <th class=\"col_heading level0 col1\" >document</th>\n",
              "    </tr>\n",
              "  </thead>\n",
              "  <tbody>\n",
              "    <tr>\n",
              "      <th id=\"T_4f012_level0_row0\" class=\"row_heading level0 row0\" >0</th>\n",
              "      <td id=\"T_4f012_row0_col0\" class=\"data row0 col0\" >Chinese</td>\n",
              "      <td id=\"T_4f012_row0_col1\" class=\"data row0 col1\" >1596</td>\n",
              "    </tr>\n",
              "    <tr>\n",
              "      <th id=\"T_4f012_level0_row1\" class=\"row_heading level0 row1\" >4</th>\n",
              "      <td id=\"T_4f012_row1_col0\" class=\"data row1 col0\" >Portuguese</td>\n",
              "      <td id=\"T_4f012_row1_col1\" class=\"data row1 col1\" >1596</td>\n",
              "    </tr>\n",
              "    <tr>\n",
              "      <th id=\"T_4f012_level0_row2\" class=\"row_heading level0 row2\" >5</th>\n",
              "      <td id=\"T_4f012_row2_col0\" class=\"data row2 col0\" >Spanish</td>\n",
              "      <td id=\"T_4f012_row2_col1\" class=\"data row2 col1\" >1592</td>\n",
              "    </tr>\n",
              "    <tr>\n",
              "      <th id=\"T_4f012_level0_row3\" class=\"row_heading level0 row3\" >2</th>\n",
              "      <td id=\"T_4f012_row3_col0\" class=\"data row3 col0\" >French</td>\n",
              "      <td id=\"T_4f012_row3_col1\" class=\"data row3 col1\" >1588</td>\n",
              "    </tr>\n",
              "    <tr>\n",
              "      <th id=\"T_4f012_level0_row4\" class=\"row_heading level0 row4\" >1</th>\n",
              "      <td id=\"T_4f012_row4_col0\" class=\"data row4 col0\" >English</td>\n",
              "      <td id=\"T_4f012_row4_col1\" class=\"data row4 col1\" >1587</td>\n",
              "    </tr>\n",
              "    <tr>\n",
              "      <th id=\"T_4f012_level0_row5\" class=\"row_heading level0 row5\" >3</th>\n",
              "      <td id=\"T_4f012_row5_col0\" class=\"data row5 col0\" >Italian</td>\n",
              "      <td id=\"T_4f012_row5_col1\" class=\"data row5 col1\" >1532</td>\n",
              "    </tr>\n",
              "  </tbody>\n",
              "</table>\n"
            ]
          },
          "metadata": {},
          "execution_count": 63
        }
      ],
      "source": [
        "tweet_distribution = twitter_df_train.groupby('language').count()['document']\\\n",
        "                      .reset_index().sort_values(by='document',ascending=False)\n",
        "tweet_distribution.style.background_gradient()"
      ]
    },
    {
      "cell_type": "code",
      "source": [
        "import seaborn as sns\n",
        "sns.set_theme(style=\"whitegrid\")\n",
        "tips = sns.load_dataset(\"tips\")\n",
        "\n",
        "df1 = twitter_df_train\n",
        "bins = [0,1,2,3,4,5]\n",
        "group_names=['1','2','3','4','5']\n",
        "df1['numberOfTweets']=pd.cut(twitter_df_train['label'], bins, labels=group_names)\n",
        "\n",
        "ax = sns.barplot(x=df1.numberOfTweets.value_counts().index, \n",
        "                 y=df1.numberOfTweets.value_counts(), \n",
        "                 data=df1)"
      ],
      "metadata": {
        "colab": {
          "base_uri": "https://localhost:8080/",
          "height": 268
        },
        "id": "zkyhFKbb-FRU",
        "outputId": "bcebe445-0619-401d-8d50-15fff9036caa"
      },
      "execution_count": null,
      "outputs": [
        {
          "output_type": "display_data",
          "data": {
            "text/plain": [
              "<Figure size 432x288 with 1 Axes>"
            ],
            "image/png": "[encoded data removed]"
          },
          "metadata": {}
        }
      ]
    },
    {
      "cell_type": "markdown",
      "metadata": {
        "id": "-ILpCzzegdmC"
      },
      "source": [
        "### Reddit Dataset"
      ]
    },
    {
      "cell_type": "markdown",
      "metadata": {
        "id": "SPYMYQV6kWDA"
      },
      "source": [
        "The Reddit dataset has a total of 1797 rows and 2 columns which are:\n",
        "* Question - Textual content of the Reddit question in English\n",
        "* Intimacy Score - Intimacy score of the tweet, ranging from -1 (least intimate) to 1 (most intimate)."
      ]
    },
    {
      "cell_type": "code",
      "execution_count": null,
      "metadata": {
        "colab": {
          "base_uri": "https://localhost:8080/"
        },
        "id": "Eq7g0U-gjApY",
        "outputId": "03419a2f-28e0-496d-c36a-5fa804467e5b"
      },
      "outputs": [
        {
          "output_type": "stream",
          "name": "stdout",
          "text": [
            "Dataset size: 1797 \n",
            "\n",
            "<class 'pandas.core.frame.DataFrame'>\n",
            "RangeIndex: 1797 entries, 0 to 1796\n",
            "Data columns (total 2 columns):\n",
            " #   Column    Non-Null Count  Dtype  \n",
            "---  ------    --------------  -----  \n",
            " 0   document  1797 non-null   object \n",
            " 1   label     1797 non-null   float64\n",
            "dtypes: float64(1), object(1)\n",
            "memory usage: 28.2+ KB\n"
          ]
        }
      ],
      "source": [
        "reddit_df_train = pd.read_csv('/content/annotated_question_intimacy_data/final_train.txt', \n",
        "                              sep='\\t', header=None, names=['document', 'label'])\n",
        "\n",
        "print(\"Dataset size:\", len(reddit_df_train), '\\n')\n",
        "reddit_df_train.info()"
      ]
    },
    {
      "cell_type": "code",
      "execution_count": null,
      "metadata": {
        "colab": {
          "base_uri": "https://localhost:8080/",
          "height": 206
        },
        "id": "EjEPL_CmkuNt",
        "outputId": "86bab7ed-053d-4209-fa66-5ab17bc2a497"
      },
      "outputs": [
        {
          "output_type": "execute_result",
          "data": {
            "text/plain": [
              "                                            document     label\n",
              "0  What are the most mediocre animals in the anim... -0.338354\n",
              "1  What's the difference between an allergic reac...  0.035508\n",
              "2  What is your favorite subreddit that not every...  0.047134\n",
              "3  What's the most disgusting meal you've ever ea...  0.247764\n",
              "4           Whats one question you hate being asked?  0.516920"
            ],
            "text/html": [
              "\n",
              "  <div id=\"df-314d766d-6ba3-49a1-aa6f-1eb2bf764e2b\">\n",
              "    <div class=\"colab-df-container\">\n",
              "      <div>\n",
              "<style scoped>\n",
              "    .dataframe tbody tr th:only-of-type {\n",
              "        vertical-align: middle;\n",
              "    }\n",
              "\n",
              "    .dataframe tbody tr th {\n",
              "        vertical-align: top;\n",
              "    }\n",
              "\n",
              "    .dataframe thead th {\n",
              "        text-align: right;\n",
              "    }\n",
              "</style>\n",
              "<table border=\"1\" class=\"dataframe\">\n",
              "  <thead>\n",
              "    <tr style=\"text-align: right;\">\n",
              "      <th></th>\n",
              "      <th>document</th>\n",
              "      <th>label</th>\n",
              "    </tr>\n",
              "  </thead>\n",
              "  <tbody>\n",
              "    <tr>\n",
              "      <th>0</th>\n",
              "      <td>What are the most mediocre animals in the anim...</td>\n",
              "      <td>-0.338354</td>\n",
              "    </tr>\n",
              "    <tr>\n",
              "      <th>1</th>\n",
              "      <td>What's the difference between an allergic reac...</td>\n",
              "      <td>0.035508</td>\n",
              "    </tr>\n",
              "    <tr>\n",
              "      <th>2</th>\n",
              "      <td>What is your favorite subreddit that not every...</td>\n",
              "      <td>0.047134</td>\n",
              "    </tr>\n",
              "    <tr>\n",
              "      <th>3</th>\n",
              "      <td>What's the most disgusting meal you've ever ea...</td>\n",
              "      <td>0.247764</td>\n",
              "    </tr>\n",
              "    <tr>\n",
              "      <th>4</th>\n",
              "      <td>Whats one question you hate being asked?</td>\n",
              "      <td>0.516920</td>\n",
              "    </tr>\n",
              "  </tbody>\n",
              "</table>\n",
              "</div>\n",
              "      <button class=\"colab-df-convert\" onclick=\"convertToInteractive('df-314d766d-6ba3-49a1-aa6f-1eb2bf764e2b')\"\n",
              "              title=\"Convert this dataframe to an interactive table.\"\n",
              "              style=\"display:none;\">\n",
              "        \n",
              "  <svg xmlns=\"http://www.w3.org/2000/svg\" height=\"24px\"viewBox=\"0 0 24 24\"\n",
              "       width=\"24px\">\n",
              "    <path d=\"M0 0h24v24H0V0z\" fill=\"none\"/>\n",
              "    <path d=\"M18.56 5.44l.94 2.06.94-2.06 2.06-.94-2.06-.94-.94-2.06-.94 2.06-2.06.94zm-11 1L8.5 8.5l.94-2.06 2.06-.94-2.06-.94L8.5 2.5l-.94 2.06-2.06.94zm10 10l.94 2.06.94-2.06 2.06-.94-2.06-.94-.94-2.06-.94 2.06-2.06.94z\"/><path d=\"M17.41 7.96l-1.37-1.37c-.4-.4-.92-.59-1.43-.59-.52 0-1.04.2-1.43.59L10.3 9.45l-7.72 7.72c-.78.78-.78 2.05 0 2.83L4 21.41c.39.39.9.59 1.41.59.51 0 1.02-.2 1.41-.59l7.78-7.78 2.81-2.81c.8-.78.8-2.07 0-2.86zM5.41 20L4 18.59l7.72-7.72 1.47 1.35L5.41 20z\"/>\n",
              "  </svg>\n",
              "      </button>\n",
              "      \n",
              "  <style>\n",
              "    .colab-df-container {\n",
              "      display:flex;\n",
              "      flex-wrap:wrap;\n",
              "      gap: 12px;\n",
              "    }\n",
              "\n",
              "    .colab-df-convert {\n",
              "      background-color: #E8F0FE;\n",
              "      border: none;\n",
              "      border-radius: 50%;\n",
              "      cursor: pointer;\n",
              "      display: none;\n",
              "      fill: #1967D2;\n",
              "      height: 32px;\n",
              "      padding: 0 0 0 0;\n",
              "      width: 32px;\n",
              "    }\n",
              "\n",
              "    .colab-df-convert:hover {\n",
              "      background-color: #E2EBFA;\n",
              "      box-shadow: 0px 1px 2px rgba(60, 64, 67, 0.3), 0px 1px 3px 1px rgba(60, 64, 67, 0.15);\n",
              "      fill: #174EA6;\n",
              "    }\n",
              "\n",
              "    [theme=dark] .colab-df-convert {\n",
              "      background-color: #3B4455;\n",
              "      fill: #D2E3FC;\n",
              "    }\n",
              "\n",
              "    [theme=dark] .colab-df-convert:hover {\n",
              "      background-color: #434B5C;\n",
              "      box-shadow: 0px 1px 3px 1px rgba(0, 0, 0, 0.15);\n",
              "      filter: drop-shadow(0px 1px 2px rgba(0, 0, 0, 0.3));\n",
              "      fill: #FFFFFF;\n",
              "    }\n",
              "  </style>\n",
              "\n",
              "      <script>\n",
              "        const buttonEl =\n",
              "          document.querySelector('#df-314d766d-6ba3-49a1-aa6f-1eb2bf764e2b button.colab-df-convert');\n",
              "        buttonEl.style.display =\n",
              "          google.colab.kernel.accessAllowed ? 'block' : 'none';\n",
              "\n",
              "        async function convertToInteractive(key) {\n",
              "          const element = document.querySelector('#df-314d766d-6ba3-49a1-aa6f-1eb2bf764e2b');\n",
              "          const dataTable =\n",
              "            await google.colab.kernel.invokeFunction('convertToInteractive',\n",
              "                                                     [key], {});\n",
              "          if (!dataTable) return;\n",
              "\n",
              "          const docLinkHtml = 'Like what you see? Visit the ' +\n",
              "            '<a target=\"_blank\" href=https://colab.research.google.com/notebooks/data_table.ipynb>data table notebook</a>'\n",
              "            + ' to learn more about interactive tables.';\n",
              "          element.innerHTML = '';\n",
              "          dataTable['output_type'] = 'display_data';\n",
              "          await google.colab.output.renderOutput(dataTable, element);\n",
              "          const docLink = document.createElement('div');\n",
              "          docLink.innerHTML = docLinkHtml;\n",
              "          element.appendChild(docLink);\n",
              "        }\n",
              "      </script>\n",
              "    </div>\n",
              "  </div>\n",
              "  "
            ]
          },
          "metadata": {},
          "execution_count": 66
        }
      ],
      "source": [
        "reddit_df_train.head()"
      ]
    },
    {
      "cell_type": "markdown",
      "metadata": {
        "id": "gkGy0Ypl8I-y"
      },
      "source": [
        "#### Performing Linear Mapping on the Reddit Dataset\n",
        "\n",
        "Since the ```intimacy_scores``` in the Reddit dataset is on a range from -1 to 1, we will linearly map them from 1 to 5. The linear mapping with maintain a constant ratio between the points. \n",
        "\n",
        "We will perform the following:\n",
        "- A scaling operation to adjust the ranges to the same size, and\n",
        "- An offset operation to adjust range alignment. \n",
        "\n",
        "Source: http://learnwebgl.brown37.net/08_projections/projections_mapping.html "
      ]
    },
    {
      "cell_type": "code",
      "execution_count": null,
      "metadata": {
        "colab": {
          "base_uri": "https://localhost:8080/",
          "height": 206
        },
        "id": "gsOU_Stk9bSn",
        "outputId": "622139af-f259-42e5-8daf-5287575b67e3"
      },
      "outputs": [
        {
          "output_type": "execute_result",
          "data": {
            "text/plain": [
              "                                            document  label\n",
              "0  What are the most mediocre animals in the anim...    2.3\n",
              "1  What's the difference between an allergic reac...    3.1\n",
              "2  What is your favorite subreddit that not every...    3.1\n",
              "3  What's the most disgusting meal you've ever ea...    3.5\n",
              "4           Whats one question you hate being asked?    4.0"
            ],
            "text/html": [
              "\n",
              "  <div id=\"df-6f8d29ee-e6f4-43c5-b3d5-be3bf7262da0\">\n",
              "    <div class=\"colab-df-container\">\n",
              "      <div>\n",
              "<style scoped>\n",
              "    .dataframe tbody tr th:only-of-type {\n",
              "        vertical-align: middle;\n",
              "    }\n",
              "\n",
              "    .dataframe tbody tr th {\n",
              "        vertical-align: top;\n",
              "    }\n",
              "\n",
              "    .dataframe thead th {\n",
              "        text-align: right;\n",
              "    }\n",
              "</style>\n",
              "<table border=\"1\" class=\"dataframe\">\n",
              "  <thead>\n",
              "    <tr style=\"text-align: right;\">\n",
              "      <th></th>\n",
              "      <th>document</th>\n",
              "      <th>label</th>\n",
              "    </tr>\n",
              "  </thead>\n",
              "  <tbody>\n",
              "    <tr>\n",
              "      <th>0</th>\n",
              "      <td>What are the most mediocre animals in the anim...</td>\n",
              "      <td>2.3</td>\n",
              "    </tr>\n",
              "    <tr>\n",
              "      <th>1</th>\n",
              "      <td>What's the difference between an allergic reac...</td>\n",
              "      <td>3.1</td>\n",
              "    </tr>\n",
              "    <tr>\n",
              "      <th>2</th>\n",
              "      <td>What is your favorite subreddit that not every...</td>\n",
              "      <td>3.1</td>\n",
              "    </tr>\n",
              "    <tr>\n",
              "      <th>3</th>\n",
              "      <td>What's the most disgusting meal you've ever ea...</td>\n",
              "      <td>3.5</td>\n",
              "    </tr>\n",
              "    <tr>\n",
              "      <th>4</th>\n",
              "      <td>Whats one question you hate being asked?</td>\n",
              "      <td>4.0</td>\n",
              "    </tr>\n",
              "  </tbody>\n",
              "</table>\n",
              "</div>\n",
              "      <button class=\"colab-df-convert\" onclick=\"convertToInteractive('df-6f8d29ee-e6f4-43c5-b3d5-be3bf7262da0')\"\n",
              "              title=\"Convert this dataframe to an interactive table.\"\n",
              "              style=\"display:none;\">\n",
              "        \n",
              "  <svg xmlns=\"http://www.w3.org/2000/svg\" height=\"24px\"viewBox=\"0 0 24 24\"\n",
              "       width=\"24px\">\n",
              "    <path d=\"M0 0h24v24H0V0z\" fill=\"none\"/>\n",
              "    <path d=\"M18.56 5.44l.94 2.06.94-2.06 2.06-.94-2.06-.94-.94-2.06-.94 2.06-2.06.94zm-11 1L8.5 8.5l.94-2.06 2.06-.94-2.06-.94L8.5 2.5l-.94 2.06-2.06.94zm10 10l.94 2.06.94-2.06 2.06-.94-2.06-.94-.94-2.06-.94 2.06-2.06.94z\"/><path d=\"M17.41 7.96l-1.37-1.37c-.4-.4-.92-.59-1.43-.59-.52 0-1.04.2-1.43.59L10.3 9.45l-7.72 7.72c-.78.78-.78 2.05 0 2.83L4 21.41c.39.39.9.59 1.41.59.51 0 1.02-.2 1.41-.59l7.78-7.78 2.81-2.81c.8-.78.8-2.07 0-2.86zM5.41 20L4 18.59l7.72-7.72 1.47 1.35L5.41 20z\"/>\n",
              "  </svg>\n",
              "      </button>\n",
              "      \n",
              "  <style>\n",
              "    .colab-df-container {\n",
              "      display:flex;\n",
              "      flex-wrap:wrap;\n",
              "      gap: 12px;\n",
              "    }\n",
              "\n",
              "    .colab-df-convert {\n",
              "      background-color: #E8F0FE;\n",
              "      border: none;\n",
              "      border-radius: 50%;\n",
              "      cursor: pointer;\n",
              "      display: none;\n",
              "      fill: #1967D2;\n",
              "      height: 32px;\n",
              "      padding: 0 0 0 0;\n",
              "      width: 32px;\n",
              "    }\n",
              "\n",
              "    .colab-df-convert:hover {\n",
              "      background-color: #E2EBFA;\n",
              "      box-shadow: 0px 1px 2px rgba(60, 64, 67, 0.3), 0px 1px 3px 1px rgba(60, 64, 67, 0.15);\n",
              "      fill: #174EA6;\n",
              "    }\n",
              "\n",
              "    [theme=dark] .colab-df-convert {\n",
              "      background-color: #3B4455;\n",
              "      fill: #D2E3FC;\n",
              "    }\n",
              "\n",
              "    [theme=dark] .colab-df-convert:hover {\n",
              "      background-color: #434B5C;\n",
              "      box-shadow: 0px 1px 3px 1px rgba(0, 0, 0, 0.15);\n",
              "      filter: drop-shadow(0px 1px 2px rgba(0, 0, 0, 0.3));\n",
              "      fill: #FFFFFF;\n",
              "    }\n",
              "  </style>\n",
              "\n",
              "      <script>\n",
              "        const buttonEl =\n",
              "          document.querySelector('#df-6f8d29ee-e6f4-43c5-b3d5-be3bf7262da0 button.colab-df-convert');\n",
              "        buttonEl.style.display =\n",
              "          google.colab.kernel.accessAllowed ? 'block' : 'none';\n",
              "\n",
              "        async function convertToInteractive(key) {\n",
              "          const element = document.querySelector('#df-6f8d29ee-e6f4-43c5-b3d5-be3bf7262da0');\n",
              "          const dataTable =\n",
              "            await google.colab.kernel.invokeFunction('convertToInteractive',\n",
              "                                                     [key], {});\n",
              "          if (!dataTable) return;\n",
              "\n",
              "          const docLinkHtml = 'Like what you see? Visit the ' +\n",
              "            '<a target=\"_blank\" href=https://colab.research.google.com/notebooks/data_table.ipynb>data table notebook</a>'\n",
              "            + ' to learn more about interactive tables.';\n",
              "          element.innerHTML = '';\n",
              "          dataTable['output_type'] = 'display_data';\n",
              "          await google.colab.output.renderOutput(dataTable, element);\n",
              "          const docLink = document.createElement('div');\n",
              "          docLink.innerHTML = docLinkHtml;\n",
              "          element.appendChild(docLink);\n",
              "        }\n",
              "      </script>\n",
              "    </div>\n",
              "  </div>\n",
              "  "
            ]
          },
          "metadata": {},
          "execution_count": 67
        }
      ],
      "source": [
        "A, B, C, D = -1, 1, 1, 5\n",
        "scale = (D-C)/(B-A)\n",
        "offset = -A*(D-C)/(B-A) + C\n",
        "\n",
        "for index, row in reddit_df_train.iterrows():\n",
        "  iScore = row['label']\n",
        "\n",
        "  # If the cell is re-run without clearing local variables, we'll\n",
        "  # double convert the values between the 1-5 range resulting in values between\n",
        "  # 5-10. This condition makes sure original scores from Reddit are not already\n",
        "  #  greater than 1. \n",
        "  if iScore > 1:\n",
        "    break\n",
        "\n",
        "  q = iScore * scale + offset\n",
        "  reddit_df_train.at[index, 'label'] = round(q, 1)\n",
        "  \n",
        "reddit_df_train.head()"
      ]
    },
    {
      "cell_type": "code",
      "source": [
        "df1 = reddit_df_train\n",
        "bins = [0,1,2,3,4,5]\n",
        "group_names=['1','2','3','4','5']\n",
        "df1['redditQuestions']=pd.cut(reddit_df_train['label'],bins,labels=group_names)\n",
        "\n",
        "ax = sns.barplot(x=df1.redditQuestions.value_counts().index, \n",
        "                 y=df1.redditQuestions.value_counts(), \n",
        "                 data=df1)"
      ],
      "metadata": {
        "colab": {
          "base_uri": "https://localhost:8080/",
          "height": 268
        },
        "id": "jdncmKcoBb89",
        "outputId": "db34f7ff-8cb4-4759-82e1-f057a96045ae"
      },
      "execution_count": null,
      "outputs": [
        {
          "output_type": "display_data",
          "data": {
            "text/plain": [
              "<Figure size 432x288 with 1 Axes>"
            ],
            "image/png": "[encoded data removed]"
          },
          "metadata": {}
        }
      ]
    },
    {
      "cell_type": "markdown",
      "metadata": {
        "id": "C18zWc2ytm1y"
      },
      "source": [
        "## Define the Tokenizer"
      ]
    },
    {
      "cell_type": "code",
      "execution_count": null,
      "metadata": {
        "id": "cJgSdTICDnVY"
      },
      "outputs": [],
      "source": [
        "! pip install sentencepiece\n",
        "! pip install transformers\n",
        "! pip install seqeval\n",
        "! pip install bertviz\n",
        "! pip install datasets\n",
        "\n",
        "# (Aisha) Clear output because it tends to get long. \n",
        "# But these libraries are always successfully installed.\n",
        "clear_output()"
      ]
    },
    {
      "cell_type": "code",
      "execution_count": null,
      "metadata": {
        "id": "pA_etpKruiSs"
      },
      "outputs": [],
      "source": [
        "import datasets\n",
        "import transformers\n",
        "\n",
        "# set up verbosity of libraries\n",
        "datasets.utils.logging.set_verbosity_error()\n",
        "transformers.utils.logging.set_verbosity_error()"
      ]
    },
    {
      "cell_type": "code",
      "execution_count": null,
      "metadata": {
        "id": "AIOjqyZNoHzb"
      },
      "outputs": [],
      "source": [
        "import torch\n",
        "\n",
        "# Set up device. Recommend to use GPU to accelerate training\n",
        "DEVICE = 'cuda:0' if torch.cuda.is_available() else 'cpu'"
      ]
    },
    {
      "cell_type": "code",
      "execution_count": null,
      "metadata": {
        "id": "1Vdt36Ofu1Oq"
      },
      "outputs": [],
      "source": [
        "PRETRAINED_MODEL_NAME = f\"cardiffnlp/twitter-xlm-roberta-base-sentiment\"\n",
        "\n",
        "IGNORE_INDEX = -100"
      ]
    },
    {
      "cell_type": "code",
      "execution_count": null,
      "metadata": {
        "colab": {
          "base_uri": "https://localhost:8080/",
          "referenced_widgets": [
            "710c695868cb4013b54b4afe7f1f4c02",
            "1b0fba2478a94292bece889399182dbf",
            "d343d00b2b534a22bd4bd8b9b73d0322",
            "9ad46be902164a11b8a8ac37c70434db",
            "3ced1e5a21c44f9f94cd1b184c9827a8",
            "3cf9872f361d4bfabe25c0404dbeb512",
            "7073b678f140439e9531b8045cb10c73",
            "43386549d3634f0ba853d262e79d9be6",
            "de7e836acd64486980402e899c5abd3b",
            "0dd28cf3396840fd975abccdf990c759",
            "c9da18ff0f2a4a118a7bc426e3dcc425",
            "4432a5532771412488a4b8ccfdfc2a45",
            "fbd37b311f0d43338748cdb0476868a3",
            "e016248ce0634980bc7ad3c39529d67d",
            "1c3bfedb8eb5471c81076cee67fc7f49",
            "c7ae4873e7bb40a189deff596e8045ec",
            "798cd04c1f3e471dafbbe271d2f37420",
            "b707df624ee446558511f510c933d5b1",
            "f7bb983f1bea4120a663d657535c6214",
            "b830b337695d46c2b294809c9d82150c",
            "2ea62eb00bbf4415ba71c85b26378b31",
            "de1bfc32e63e4c70bb2eab4f61e73f0f",
            "0271f9eed87740e7bda88bb5401dc9d4",
            "40dd07ac4425489c9232ae89534db314",
            "a0ebbd985ba34126b99583146ed7166d",
            "b5aa1fa3a62b4602b87f12f6369d2e57",
            "40dad415ca074529800d18486701cf57",
            "b63ef6fbd01a433e8a4143bf9aab00f7",
            "3e422e67dea6400892aae7913f046af6",
            "5424a39e75444a959ad730b212c80390",
            "935d5d5aba6643a4ba600fa240a8613f",
            "ae3bb35da74c42f080162a528e93547a",
            "bcd34fbe8f884a8284ae9b5e69a34ab6"
          ]
        },
        "id": "KYDyN1-Lurnf",
        "outputId": "ed5808a2-bd55-4443-9c8f-6b7f85988305"
      },
      "outputs": [
        {
          "output_type": "display_data",
          "data": {
            "text/plain": [
              "Downloading:   0%|          | 0.00/841 [00:00<?, ?B/s]"
            ],
            "application/vnd.jupyter.widget-view+json": {
              "version_major": 2,
              "version_minor": 0,
              "model_id": "710c695868cb4013b54b4afe7f1f4c02"
            }
          },
          "metadata": {}
        },
        {
          "output_type": "display_data",
          "data": {
            "text/plain": [
              "Downloading:   0%|          | 0.00/5.07M [00:00<?, ?B/s]"
            ],
            "application/vnd.jupyter.widget-view+json": {
              "version_major": 2,
              "version_minor": 0,
              "model_id": "4432a5532771412488a4b8ccfdfc2a45"
            }
          },
          "metadata": {}
        },
        {
          "output_type": "display_data",
          "data": {
            "text/plain": [
              "Downloading:   0%|          | 0.00/150 [00:00<?, ?B/s]"
            ],
            "application/vnd.jupyter.widget-view+json": {
              "version_major": 2,
              "version_minor": 0,
              "model_id": "0271f9eed87740e7bda88bb5401dc9d4"
            }
          },
          "metadata": {}
        },
        {
          "output_type": "execute_result",
          "data": {
            "text/plain": [
              "PreTrainedTokenizerFast(name_or_path='cardiffnlp/twitter-xlm-roberta-base-sentiment', vocab_size=250002, model_max_len=1000000000000000019884624838656, is_fast=True, padding_side='right', truncation_side='right', special_tokens={'bos_token': '<s>', 'eos_token': '</s>', 'unk_token': '<unk>', 'sep_token': '</s>', 'pad_token': '<pad>', 'cls_token': '<s>', 'mask_token': '<mask>'})"
            ]
          },
          "metadata": {},
          "execution_count": 14
        }
      ],
      "source": [
        "from transformers import AutoTokenizer\n",
        "\n",
        "tokenizer = AutoTokenizer.from_pretrained(PRETRAINED_MODEL_NAME)\n",
        "tokenizer"
      ]
    },
    {
      "cell_type": "markdown",
      "metadata": {
        "id": "psgQJz7bdFGB"
      },
      "source": [
        "## Data split\n",
        "\n",
        "The data will be split into training and testing datasets.\n",
        "The training dataset will be 80% of the data from the Reddit and Twitter datasets. This dataset will be used to fine tune the model. "
      ]
    },
    {
      "cell_type": "code",
      "execution_count": null,
      "metadata": {
        "id": "mNynH9HWQxIH"
      },
      "outputs": [],
      "source": [
        "# Declare constants for commonly used strings\n",
        "TWEET = 'tweet'\n",
        "REDDIT = 'reddit'\n",
        "TRAIN = 'train'\n",
        "TEST = 'test'\n",
        "COMBINED = 'combined'"
      ]
    },
    {
      "cell_type": "code",
      "execution_count": null,
      "metadata": {
        "id": "eo1bIjE8grhU"
      },
      "outputs": [],
      "source": [
        "def split_dataset(dataset, train_size, test_size):\n",
        "  X = dataset['document']\n",
        "  y = dataset['label']\n",
        "\n",
        "  # Bin size = 1.0\n",
        "  bins = np.linspace(start=1.0, stop=5.0, num=5)\n",
        "\n",
        "  binned_y = np.digitize(y, bins)\n",
        "  X_train, X_rem, y_train, y_rem = train_test_split(X, y, \n",
        "                                                    stratify=binned_y, \n",
        "                                                    train_size=train_size)\n",
        "\n",
        "  binned_y_rem = np.digitize(y_rem, bins)\n",
        "  X_test, X_valid, y_test, y_valid = train_test_split(X_rem, y_rem, \n",
        "                                                      stratify=binned_y_rem, \n",
        "                                                      test_size=test_size)\n",
        "  \n",
        "  print (f'X_train: {X_train.shape}, X_rem: {X_rem.shape}, y_train: {y_train.shape}, y_rem: {y_rem.shape}')\n",
        "  print (f'X_test: {X_test.shape}, X_valid: {X_valid.shape}, y_test: {y_test.shape}, y_valid: {y_valid.shape}')\n",
        "  \n",
        "  return {'train': {'X': X_train, 'y': y_train},\n",
        "          'test': {'X': X_test, 'y': y_test},\n",
        "          'valid': {'X': X_valid, 'y': y_valid}}"
      ]
    },
    {
      "cell_type": "code",
      "execution_count": null,
      "metadata": {
        "id": "NVRW-Cy1kI4q"
      },
      "outputs": [],
      "source": [
        "\"\"\"\n",
        "Combines collections from the same split of two datasets into one collection to use as a split of the combined dataset.\n",
        "\"\"\"\n",
        "def combine_sets(a, b):\n",
        "  # Simple concatenation. Is there another way we want to try combining them\n",
        "  #  (e.g. zipping/mixing them together?)\n",
        "  return [a_item for a_item in a] + [b_item for b_item in b]\n",
        "  \"\"\"\n",
        "  Note(Orion:) this doesn't work because the documents are not simple lists!\n",
        "  \"\"\"\n",
        "\n",
        "def combine_splits(a_split, b_split):\n",
        "  return {split_name: {variable: combine_sets(a_split[split_name][variable], b_split[split_name][variable]) \n",
        "                       for variable in a_split[split_name]} \n",
        "          for split_name in a_split}"
      ]
    },
    {
      "cell_type": "code",
      "execution_count": null,
      "metadata": {
        "colab": {
          "base_uri": "https://localhost:8080/"
        },
        "id": "DJk6fqGMIWvm",
        "outputId": "b2c4ee4b-bbd1-4a8d-e503-b447cf260fb7"
      },
      "outputs": [
        {
          "output_type": "stream",
          "name": "stdout",
          "text": [
            "X_train: (7592,), X_rem: (1899,), y_train: (7592,), y_rem: (1899,)\n",
            "X_test: (949,), X_valid: (950,), y_test: (949,), y_valid: (950,)\n",
            "X_train: (1437,), X_rem: (360,), y_train: (1437,), y_rem: (360,)\n",
            "X_test: (180,), X_valid: (180,), y_test: (180,), y_valid: (180,)\n"
          ]
        }
      ],
      "source": [
        "from sklearn.model_selection import train_test_split\n",
        "import numpy as np\n",
        "\n",
        "# Pull x and y values from dataframe\n",
        "datasets = {'tweet': twitter_df_train, 'reddit': reddit_df_train}\n",
        "\n",
        "# Define train:test:valid split ratios\n",
        "split_ratios = {'tweet': {'train_total_ratio': 0.8,\n",
        "                          'test_rem_ratio': 0.5},\n",
        "                \n",
        "                # Train:test:valid ratio of 8:1:1 for Reddit dataset\n",
        "                'reddit': {'train_total_ratio': 0.8,\n",
        "                           'test_rem_ratio': 0.5}}\n",
        "\n",
        "# Split individual tweet/reddit datasets\n",
        "split_datasets = {key: split_dataset(datasets[key], \n",
        "                                     split_ratios[key]['train_total_ratio'],\n",
        "                                     split_ratios[key]['test_rem_ratio'])\n",
        "                  for key in datasets}\n",
        "\n",
        "# Create and split combined dataset\n",
        "split_datasets['combined'] = combine_splits(split_datasets['tweet'], \n",
        "                                            split_datasets['reddit'])"
      ]
    },
    {
      "cell_type": "code",
      "execution_count": null,
      "metadata": {
        "colab": {
          "base_uri": "https://localhost:8080/"
        },
        "id": "4ka5_qlfBr5W",
        "outputId": "6ad79447-4230-497d-cad7-e306307b9450"
      },
      "outputs": [
        {
          "output_type": "execute_result",
          "data": {
            "text/plain": [
              "dict_keys(['tweet', 'reddit', 'combined'])"
            ]
          },
          "metadata": {},
          "execution_count": 19
        }
      ],
      "source": [
        "split_datasets.keys()"
      ]
    },
    {
      "cell_type": "code",
      "execution_count": null,
      "metadata": {
        "colab": {
          "base_uri": "https://localhost:8080/"
        },
        "id": "P4ukVb0RB0Tf",
        "outputId": "caaa75fe-6342-45c9-f8fb-042e9541aeb7"
      },
      "outputs": [
        {
          "output_type": "stream",
          "name": "stdout",
          "text": [
            "Keys in tweet are dict_keys(['train', 'test', 'valid'])\n",
            "Keys in reddit are dict_keys(['train', 'test', 'valid'])\n",
            "Keys in combined are dict_keys(['train', 'test', 'valid'])\n"
          ]
        }
      ],
      "source": [
        "print (f'Keys in {TWEET} are {split_datasets[TWEET].keys()}')\n",
        "print (f'Keys in {REDDIT} are {split_datasets[REDDIT].keys()}')\n",
        "print (f'Keys in {COMBINED} are {split_datasets[COMBINED].keys()}')"
      ]
    },
    {
      "cell_type": "code",
      "execution_count": null,
      "metadata": {
        "id": "O2T_2R1dCS0J"
      },
      "outputs": [],
      "source": [
        "# Ensure the features were correctly combines\n",
        "features_in_twitter = len(split_datasets[TWEET][TRAIN]['X'])\n",
        "features_in_reddit = len(split_datasets[REDDIT][TRAIN]['X'])\n",
        "features_in_combined = len(split_datasets[COMBINED][TRAIN]['X'])\n",
        "\n",
        "assert features_in_combined == (features_in_twitter + features_in_reddit), f'Features do not match'\n",
        "\n",
        "# Ensure the labels were correctly combined\n",
        "labels_in_twitter = len(split_datasets[TWEET][TRAIN]['y'])\n",
        "labels_in_reddit = len(split_datasets[REDDIT][TRAIN]['y'])\n",
        "labels_in_combined = len(split_datasets[COMBINED][TRAIN]['y'])\n",
        "\n",
        "assert labels_in_combined == (labels_in_twitter + labels_in_reddit), f'Labels do not match'"
      ]
    },
    {
      "cell_type": "markdown",
      "metadata": {
        "id": "-jjesZVYGUcp"
      },
      "source": [
        "After splitting the dataset, we will be left with the following structure:\n",
        "\n",
        "```\n",
        "split_datasets\n",
        "├── tweet\n",
        "│   ├── train\n",
        "│   │   ├── X\n",
        "│   │   └── y\n",
        "│   ├── test\n",
        "│   └── valid\n",
        "├── reddit\n",
        "│   ├── train\n",
        "│   ├── test\n",
        "│   └── valid\n",
        "└── combined\n",
        "    ├── train\n",
        "    ├── test\n",
        "    └── valid\n",
        "```\n",
        "\n",
        "\n",
        "\n"
      ]
    },
    {
      "cell_type": "markdown",
      "metadata": {
        "id": "CG3BOzbvFVZi"
      },
      "source": [
        "## Research regarding data and data split\n",
        "\n",
        "Pei and Jurgens (2020) conducted analyses for an issue in pre-processing, where they were only able to do it for 1,000 tweets. They found that the distribution of the final annotated intimacy scores are not changed much while the fine-tuned XLM-T only achieved a Pearson’s r of 0.43 on the random sample, suggesting that the model trained on Reddit questions may not be reliable enough to detect intimacy in tweets. A potential goal of ours is too improve upon this making the model reliable for even reddit questions.\n",
        "\n",
        "(Liu et al., 2019) include two variants: one which is fine-tuned on 3M unannotated questions on a masked language modeling task, and a second which uses the default parameters in RoBERTa. Training uses only the 2,247 annotated Reddit questions, split 8:1:1 into training, validation, and test.\n"
      ]
    },
    {
      "cell_type": "markdown",
      "metadata": {
        "id": "f8UBMZXFiBkl"
      },
      "source": [
        "## Preparing data"
      ]
    },
    {
      "cell_type": "markdown",
      "metadata": {
        "id": "5qhe6gW2vQKx"
      },
      "source": [
        "Before sending the data to the model, we will preprocess it."
      ]
    },
    {
      "cell_type": "code",
      "execution_count": null,
      "metadata": {
        "colab": {
          "base_uri": "https://localhost:8080/"
        },
        "id": "9VQjKXJnojzV",
        "outputId": "1309af8b-7342-4506-a859-9b2cb62c4841"
      },
      "outputs": [
        {
          "output_type": "stream",
          "name": "stdout",
          "text": [
            "Mounted at /content/drive\n"
          ]
        }
      ],
      "source": [
        "from google.colab import drive\n",
        "drive.mount('/content/drive')"
      ]
    },
    {
      "cell_type": "markdown",
      "metadata": {
        "id": "9XVIQKO4yUlA"
      },
      "source": [
        "### Define the datasets"
      ]
    },
    {
      "cell_type": "markdown",
      "metadata": {
        "id": "tYVVj8TCkdhE"
      },
      "source": [
        "We will have identifiers for each word in a language produced by tokenization. During this process, chunks of words, such as a sentence or a phrase, are broken down into smaller units. Each unit is called a token which could be words, numbers, or punctuation marks. \n",
        "\n",
        "Any word not in our dictionary will be replaced with the `unknown` token. \n",
        "\n",
        "Reference:\n",
        "- [Tokenizer - huggingface.co](https://huggingface.co/docs/transformers/main_classes/tokenizer)"
      ]
    },
    {
      "cell_type": "code",
      "execution_count": null,
      "metadata": {
        "id": "ntGh4lzSiT1V"
      },
      "outputs": [],
      "source": [
        "def tokenize_catch_unknown(word, tokenizer, vocab):\n",
        "  \"\"\"\n",
        "  Description: Tokenizes a word if it is known, but catches unknown words and replaces it with unknown tokens.\n",
        "  \n",
        "  \"\"\"\n",
        "  if vocab.get(word):\n",
        "    return tokenizer.tokenize(word)\n",
        "  else:\n",
        "    return [tokenizer.unk_token]"
      ]
    },
    {
      "cell_type": "code",
      "execution_count": null,
      "metadata": {
        "id": "_ve1a_GBqSDW"
      },
      "outputs": [],
      "source": [
        "def prepare_document_encoding(document, tokenizer, vocab):\n",
        "  \"\"\"\n",
        "  Description: Converts one document (a tweet or other text) into tokens in the model's vocabulary.\n",
        "  Returns a dictionary containing the tokens as text, the numerical ids of the tokens, and the score label for the document (already numerical here)\n",
        "\n",
        "  \"\"\"\n",
        "  tokenized = [tokenizer.cls_token] + [token for word in document for token in tokenize_catch_unknown(word, tokenizer, vocab)]\n",
        "  input_ids = [tokenizer.convert_tokens_to_ids(token) for token in tokenized]\n",
        "\n",
        "  return {\"tokenized\": tokenized, \n",
        "          \"input_ids\": input_ids}\n"
      ]
    },
    {
      "cell_type": "code",
      "execution_count": null,
      "metadata": {
        "id": "QxXyCQs_pA8B"
      },
      "outputs": [],
      "source": [
        "def prepare_data(data, tokenizer, vocab):\n",
        "  \"\"\"\n",
        "  Description: Converts the documents in the data into tokens in the model's vocabulary.\n",
        "\n",
        "  \"\"\"\n",
        "  for split in data:\n",
        "    data[split]['tokenized'] = []\n",
        "    data[split]['input_ids'] = []\n",
        "    data[split]['labels'] = []\n",
        "\n",
        "    for document, label in zip(data[split]['X'], data[split]['y']):\n",
        "      prepared_document = prepare_document_encoding(document, tokenizer, vocab)\n",
        "\n",
        "      data[split]['tokenized'] += [prepared_document['tokenized']]\n",
        "      data[split]['input_ids'] += [prepared_document['input_ids']]\n",
        "      data[split]['labels'] += [label]\n",
        "\n",
        "  return data\n"
      ]
    },
    {
      "cell_type": "code",
      "execution_count": null,
      "metadata": {
        "id": "0tBXz_-gvv1c"
      },
      "outputs": [],
      "source": [
        "import torch\n",
        "from torch.utils.data import Dataset\n",
        "\n",
        "class IADataset(Dataset):\n",
        "  def __init__(self, data, pad_token_id):\n",
        "        self.tokenized = data['tokenized']\n",
        "        self.input_ids = data['input_ids']\n",
        "        self.labels = data['labels']\n",
        "\n",
        "        self.pad_token_id = pad_token_id\n",
        "  \n",
        "  def __len__(self):\n",
        "        return len(self.input_ids)\n",
        "\n",
        "  def __getitem__(self, index):\n",
        "        return self.input_ids[index], self.labels[index]\n",
        "\n",
        "  # Try without batch collation\n",
        "  def collate_fn(self, batch):\n",
        "        \"\"\"\n",
        "        Description:\n",
        "            This function collates lists of samples into batches. It should be passed as the `collate_fn` argument when creating dataloaders.\n",
        "        Inputs:\n",
        "            - batch (List[Tuple]): a list of tuples. The tuple (Tuple[List]) in the batch is the return value (List[List]) of \n",
        "              `__getitem(self, index)` function. The elements are: 1) a List[int] (input_ids) and 2) a real (label).\n",
        "        Outputs:\n",
        "            - input_dict (Dict[str, torch.LongTensor]): a dictionary containing a mapping between input names and input values. The `input_ids` \n",
        "              (torch.LongTensor of shape (batch_size, sequence_length)) and `labels` (torch.FloatTensor of shape (batch_size, sequence_length)) \n",
        "              in the dictionary are token indexes and label values, respectively.\n",
        "        \"\"\"\n",
        "\n",
        "        # unwrap the batch into every field\n",
        "        input_ids, labels = map(list, zip(*batch))\n",
        "\n",
        "        max_length = max(map(len, input_ids))\n",
        "\n",
        "        padded_input_ids = [i + [self.pad_token_id] * (max_length - len(i)) for i in input_ids]\n",
        "        attention_masks = [[1 for id in i] + [0] * (max_length - len(i)) for i in input_ids]\n",
        "\n",
        "        input_dict = {\n",
        "            'input_ids': torch.tensor(padded_input_ids).long(),\n",
        "            'attention_masks': torch.tensor(attention_masks).long(),\n",
        "            'labels': torch.tensor(labels).to(torch.float64)\n",
        "        }\n",
        "\n",
        "        return input_dict"
      ]
    },
    {
      "cell_type": "code",
      "execution_count": null,
      "metadata": {
        "id": "TvHaduy9yDyp"
      },
      "outputs": [],
      "source": [
        "def get_ia_splits(data, pad_token_id):\n",
        "  \"\"\"\n",
        "  Description: Creates IADatasets around each split of the dataset.\n",
        "  \"\"\"\n",
        "  ia_splits = {split: IADataset(data[split], pad_token_id)\n",
        "                  for split in data}\n",
        "\n",
        "  return ia_splits"
      ]
    },
    {
      "cell_type": "code",
      "execution_count": null,
      "metadata": {
        "id": "LB7ox430t3bx",
        "colab": {
          "base_uri": "https://localhost:8080/"
        },
        "outputId": "42b31863-bfdc-41dd-d865-3387d974554f"
      },
      "outputs": [
        {
          "output_type": "execute_result",
          "data": {
            "text/plain": [
              "dict_keys(['tweet', 'reddit', 'combined'])"
            ]
          },
          "metadata": {},
          "execution_count": 28
        }
      ],
      "source": [
        "# Convert the documents into sequences of input ids in the model's vocabulary\n",
        "vocab = tokenizer.get_vocab()\n",
        "\n",
        "# prepared_datasets = {key: prepare_data(split_datasets[key], tokenizer, vocab) for key in split_datasets}\n",
        "\n",
        "import pickle\n",
        "with open('/content/drive/Shareddrives/tesrt/nlp_final/objs.pkl', 'rb') as f:  # Python 3: open(..., 'rb')\n",
        "    prepared_datasets = pickle.load(f)\n",
        "\n",
        "prepared_datasets.keys()"
      ]
    },
    {
      "cell_type": "code",
      "execution_count": null,
      "metadata": {
        "id": "kW_b35tDED9u"
      },
      "outputs": [],
      "source": [
        "assert len(prepared_datasets[TWEET][TRAIN]['X']) == features_in_twitter, f\"Mismatched sizes, expected {features_in_twitter}, got {len(prepared_datasets[TWEET][TRAIN]['X'])}\"\n",
        "assert len(prepared_datasets[REDDIT][TRAIN]['X']) == features_in_reddit, f\"Mismatched sizes, expected {features_in_reddit}, got {len(prepared_datasets[REDDIT][TRAIN]['X'])}\"\n",
        "assert len(prepared_datasets[COMBINED][TRAIN]['X']) == features_in_combined, f\"Mismatched sizes, expected {features_in_combined}, got {len(prepared_datasets[COMBINED][TRAIN]['X'])}\"\n",
        "\n",
        "assert len(prepared_datasets[TWEET][TRAIN]['y']) == labels_in_twitter, f\"Mismatched sizes, expected {labels_in_twitter}, got {len(prepared_datasets[TWEET][TRAIN]['y'])}\"\n",
        "assert len(prepared_datasets[REDDIT][TRAIN]['y']) == labels_in_reddit, f\"Mismatched sizes, expected {labels_in_reddit}, got {len(prepared_datasets[REDDIT][TRAIN]['y'])}\"\n",
        "assert len(prepared_datasets[COMBINED][TRAIN]['y']) == labels_in_combined, f\"Mismatched sizes, expected {labels_in_combined}, got {len(prepared_datasets[COMBINED][TRAIN]['y'])}\"\n"
      ]
    },
    {
      "cell_type": "code",
      "execution_count": null,
      "metadata": {
        "colab": {
          "base_uri": "https://localhost:8080/"
        },
        "id": "q_zb4zynba0N",
        "outputId": "67e0001b-f797-4480-8fb4-a57ce0c6774d"
      },
      "outputs": [
        {
          "output_type": "execute_result",
          "data": {
            "text/plain": [
              "{'tweet': {'train': <__main__.IADataset at 0x7f2e988fbbb0>,\n",
              "  'test': <__main__.IADataset at 0x7f2e988fbd00>,\n",
              "  'valid': <__main__.IADataset at 0x7f2e988fb1f0>},\n",
              " 'reddit': {'train': <__main__.IADataset at 0x7f2e988fbdc0>,\n",
              "  'test': <__main__.IADataset at 0x7f2dcd099f40>,\n",
              "  'valid': <__main__.IADataset at 0x7f2dcd099c10>},\n",
              " 'combined': {'train': <__main__.IADataset at 0x7f2dcd099520>,\n",
              "  'test': <__main__.IADataset at 0x7f2dcd099370>,\n",
              "  'valid': <__main__.IADataset at 0x7f2dcd099550>}}"
            ]
          },
          "metadata": {},
          "execution_count": 30
        }
      ],
      "source": [
        "ia_datasets = {key: get_ia_splits(prepared_datasets[key], \n",
        "                                    pad_token_id=tokenizer.pad_token_id) \n",
        "               for key in prepared_datasets}\n",
        "ia_datasets"
      ]
    },
    {
      "cell_type": "code",
      "execution_count": null,
      "metadata": {
        "colab": {
          "base_uri": "https://localhost:8080/"
        },
        "id": "4Pmai-1BKwC2",
        "outputId": "83396bee-0024-4e95-bede-12db5c606521"
      },
      "outputs": [
        {
          "output_type": "stream",
          "name": "stdout",
          "text": [
            "--TRAIN--\n",
            "IA Dataset Twitter length: 7592\n",
            "IA Dataset Reddit length: 1437\n",
            "IA Dataset combined length: 9029\n",
            "--TEST--\n",
            "IA Dataset Twitter length: 949\n",
            "IA Dataset Reddit length: 180\n",
            "IA Dataset combined length: 1129\n"
          ]
        }
      ],
      "source": [
        "print ('--TRAIN--')\n",
        "print (f'IA Dataset Twitter length: {len(ia_datasets[TWEET][TRAIN].tokenized)}')\n",
        "print (f'IA Dataset Reddit length: {len(ia_datasets[REDDIT][TRAIN].tokenized)}')\n",
        "print (f'IA Dataset combined length: {len(ia_datasets[COMBINED][TRAIN].tokenized)}')\n",
        "\n",
        "print ('--TEST--')\n",
        "print (f'IA Dataset Twitter length: {len(ia_datasets[TWEET][TEST].tokenized)}')\n",
        "print (f'IA Dataset Reddit length: {len(ia_datasets[REDDIT][TEST].tokenized)}')\n",
        "print (f'IA Dataset combined length: {len(ia_datasets[COMBINED][TEST].tokenized)}')\n",
        "\n",
        "assert len(ia_datasets[TWEET][TRAIN].tokenized) == features_in_twitter, f\"Mismatched sizes, expected {features_in_twitter}, got {len(ia_datasets[TWEET][TRAIN].tokenized)}\"\n",
        "assert len(ia_datasets[REDDIT][TRAIN].tokenized) == features_in_reddit, f\"Mismatched sizes, expected {features_in_reddit}, got {len(ia_datasets[REDDIT][TRAIN].tokenized)}\"\n",
        "assert len(ia_datasets[COMBINED][TRAIN].tokenized) == features_in_combined, f\"Mismatched sizes, expected {features_in_combined}, got {len(ia_datasets[COMBINED][TRAIN].tokenized)}\""
      ]
    },
    {
      "cell_type": "markdown",
      "metadata": {
        "id": "TbHVI5-LMV7S"
      },
      "source": [
        "The folder structure for `ia_datasets` will be:\n",
        "```\n",
        "ia_datasets\n",
        "├── tweet\n",
        "│   ├── train\n",
        "│   │   ├── tokenized\n",
        "│   │   ├── input_ids\n",
        "│   │   ├── labels\n",
        "│   │   └── pad_token_ids\n",
        "│   ├── test\n",
        "│   └── valid\n",
        "├── reddit\n",
        "└── combined\n",
        "```"
      ]
    },
    {
      "cell_type": "code",
      "execution_count": null,
      "metadata": {
        "colab": {
          "base_uri": "https://localhost:8080/"
        },
        "id": "Kc2y6CjmjOkk",
        "outputId": "0144d6ab-957d-4fae-8914-c214c1166983"
      },
      "outputs": [
        {
          "output_type": "execute_result",
          "data": {
            "text/plain": [
              "0"
            ]
          },
          "metadata": {},
          "execution_count": 32
        }
      ],
      "source": [
        "# Cleanup to save RAM\n",
        "del prepared_datasets\n",
        "del split_datasets\n",
        "del reddit_df_train\n",
        "del twitter_df_train\n",
        "\n",
        "import gc\n",
        "\n",
        "gc.collect()"
      ]
    },
    {
      "cell_type": "markdown",
      "metadata": {
        "id": "wGYgcEyZyfBd"
      },
      "source": [
        "### Define the DataLoaders"
      ]
    },
    {
      "cell_type": "markdown",
      "metadata": {
        "id": "lKGXEDu2vX4j"
      },
      "source": [
        "Dataloaders are constructs of the PyTorch library which define and control data preprocessing. The data will be fed in batches to the model. This is important because it is inefficient to load the data altogether in memory at once. The size of the data loaded at any given time into memory is controlled by the `batch_size` which is 32 for the training, validation and testing datasets.  \n",
        "\n",
        "Every DataLoader has a Sampler which is used internally to get the indices for each batch. \n",
        "\n",
        "The `SequentialSampler` iterates over the dataset in a sequential order. For example: `[1,2,3]` -> `1,2,3`. Here the `shuffle` parameter is set to `false`.\n",
        "\n",
        "The `RandomSampler` is just like it's sequential counterpart, but with `shuffle=True`.\n",
        "\n",
        "\n",
        "References:\n",
        "- [torch.utils.data — PyTorch 1.13 documentation](https://pytorch.org/docs/stable/data.html)\n",
        "- [SequentialSampler](https://www.scottcondron.com/jupyter/visualisation/audio/2020/12/02/dataloaders-samplers-collate.html#SequentialSampler)"
      ]
    },
    {
      "cell_type": "code",
      "execution_count": null,
      "metadata": {
        "colab": {
          "base_uri": "https://localhost:8080/"
        },
        "id": "69lZIC8YyeRQ",
        "outputId": "cdcecef8-ae35-4d32-ebbf-52cb3f42a4ba"
      },
      "outputs": [
        {
          "output_type": "execute_result",
          "data": {
            "text/plain": [
              "{'tweet': {'train': <torch.utils.data.dataloader.DataLoader at 0x7f2dbd3b5730>,\n",
              "  'test': <torch.utils.data.dataloader.DataLoader at 0x7f2dbd3b5880>,\n",
              "  'valid': <torch.utils.data.dataloader.DataLoader at 0x7f2dbd3b5910>},\n",
              " 'reddit': {'train': <torch.utils.data.dataloader.DataLoader at 0x7f2dbd3b5be0>,\n",
              "  'test': <torch.utils.data.dataloader.DataLoader at 0x7f2dbd3b5c70>,\n",
              "  'valid': <torch.utils.data.dataloader.DataLoader at 0x7f2dbd3b5d00>},\n",
              " 'combined': {'train': <torch.utils.data.dataloader.DataLoader at 0x7f2dbd3b5fd0>,\n",
              "  'test': <torch.utils.data.dataloader.DataLoader at 0x7f2dbd3410a0>,\n",
              "  'valid': <torch.utils.data.dataloader.DataLoader at 0x7f2dbd341130>}}"
            ]
          },
          "metadata": {},
          "execution_count": 33
        }
      ],
      "source": [
        "from torch.utils.data import BatchSampler, DataLoader, RandomSampler, SequentialSampler\n",
        "\n",
        "def get_dataloaders(datasets, train_batch_size, eval_batch_size):\n",
        "    \"\"\"\n",
        "    Description:\n",
        "        This function implements batch training by creating dataloaders for datasets to acclerate training.\n",
        "    Inputs:\n",
        "        - datasets (Dict[str, Dict]): a dictionary containing a mapping between dataset names and dataset values. \n",
        "        - train_batch_size (int): an integer which is used as the batch size when creating the train dataloader\n",
        "        - eval_batch_size (int): an integer which is used as the batch size when creating the validation and test dataloader\n",
        "    \"\"\"\n",
        "    # Retrieve the dataset split labels (\"train\", \"validation\", \"test\")\n",
        "    splits = datasets.keys()\n",
        "\n",
        "    # Choose different parameters for each dataset split\n",
        "    sampler_classes = {split: \n",
        "                       (RandomSampler if split == \"train\" else SequentialSampler) \n",
        "                       for split in splits}\n",
        "\n",
        "    batch_sizes = {split: \n",
        "                   (train_batch_size if split == \"train\" else eval_batch_size) \n",
        "                   for split in splits}\n",
        "\n",
        "    # Initialize the BatchSamplers with the differentiated parameters\n",
        "    batch_samplers = {split: \n",
        "                      BatchSampler(sampler_classes[split](datasets[split]),\n",
        "                                   batch_sizes[split],\n",
        "                                   drop_last=False)\n",
        "                      for split in splits}\n",
        "\n",
        "    # Build the dataloaders from the initialized BatchSamplers and the custom collate_fn\n",
        "    dataloaders = {split: \n",
        "                   DataLoader(datasets[split], \n",
        "                              batch_sampler=batch_samplers[split],\n",
        "                              collate_fn=datasets[split].collate_fn)\n",
        "                   for split in splits}\n",
        "\n",
        "    return dataloaders\n",
        "\n",
        "TRAIN_BATCH_SIZE = 16\n",
        "EVAL_BATCH_SIZE = 16\n",
        "\n",
        "dataloaders = {key: get_dataloaders(ia_datasets[key], train_batch_size=TRAIN_BATCH_SIZE, eval_batch_size=EVAL_BATCH_SIZE) \n",
        "               for key in ia_datasets}\n",
        "dataloaders"
      ]
    },
    {
      "cell_type": "markdown",
      "metadata": {
        "id": "vcE3nPt_REtM"
      },
      "source": [
        "Check to ensure that lengths of dataset are as expected."
      ]
    },
    {
      "cell_type": "code",
      "execution_count": null,
      "metadata": {
        "colab": {
          "base_uri": "https://localhost:8080/"
        },
        "id": "En9tAuxiM3rJ",
        "outputId": "5a2ae86f-9962-4760-89e6-3b26964af9d7"
      },
      "outputs": [
        {
          "output_type": "stream",
          "name": "stdout",
          "text": [
            "tweet's train length is 475.\n",
            "tweet's test length is 60.\n",
            "tweet's valid length is 60.\n",
            "tweet is good.\n",
            "\n",
            "reddit's train length is 90.\n",
            "reddit's test length is 12.\n",
            "reddit's valid length is 12.\n",
            "reddit is good.\n",
            "\n",
            "combined's train length is 565.\n",
            "combined's test length is 71.\n",
            "combined's valid length is 71.\n",
            "combined is good.\n",
            "\n",
            "All good - sizes are as expected!\n"
          ]
        }
      ],
      "source": [
        "import math \n",
        "\n",
        "def check_size(dataType, partitionType):\n",
        "  if partitionType == TRAIN: batchSize = TRAIN_BATCH_SIZE\n",
        "  else: batchSize = EVAL_BATCH_SIZE\n",
        "\n",
        "  got = len(dataloaders[dataType][partitionType])\n",
        "  expected = math.ceil(len(ia_datasets[dataType][partitionType].tokenized)/batchSize)\n",
        "  assert got == expected, f'Got {got}, expected {expected}'\n",
        "\n",
        "  print (f'{dataType}\\'s {partitionType} length is {expected}.')\n",
        "\n",
        "for d in [TWEET, REDDIT, COMBINED]:\n",
        "  for p in [TRAIN, TEST, 'valid']:\n",
        "    check_size(d, p)\n",
        "  print (f'{d} is good.\\n')\n",
        "    \n",
        "print ('All good - sizes are as expected!')"
      ]
    },
    {
      "cell_type": "markdown",
      "metadata": {
        "id": "k0rmOLQcDI7C"
      },
      "source": [
        "## RoBERTa Model Architecture"
      ]
    },
    {
      "cell_type": "code",
      "execution_count": null,
      "metadata": {
        "colab": {
          "base_uri": "https://localhost:8080/"
        },
        "id": "2-tiBzI6yFW4",
        "outputId": "bcf3aabb-b9d5-4b53-897b-7a41b03831de"
      },
      "outputs": [
        {
          "output_type": "execute_result",
          "data": {
            "text/plain": [
              "XLMRobertaConfig {\n",
              "  \"_name_or_path\": \"cardiffnlp/twitter-xlm-roberta-base-sentiment\",\n",
              "  \"architectures\": [\n",
              "    \"XLMRobertaForSequenceClassification\"\n",
              "  ],\n",
              "  \"attention_probs_dropout_prob\": 0.1,\n",
              "  \"bos_token_id\": 0,\n",
              "  \"classifier_dropout\": null,\n",
              "  \"eos_token_id\": 2,\n",
              "  \"gradient_checkpointing\": false,\n",
              "  \"hidden_act\": \"gelu\",\n",
              "  \"hidden_dropout_prob\": 0.1,\n",
              "  \"hidden_size\": 768,\n",
              "  \"id2label\": {\n",
              "    \"0\": \"negative\",\n",
              "    \"1\": \"neutral\",\n",
              "    \"2\": \"positive\"\n",
              "  },\n",
              "  \"initializer_range\": 0.02,\n",
              "  \"intermediate_size\": 3072,\n",
              "  \"label2id\": {\n",
              "    \"negative\": 0,\n",
              "    \"neutral\": 1,\n",
              "    \"positive\": 2\n",
              "  },\n",
              "  \"layer_norm_eps\": 1e-05,\n",
              "  \"max_position_embeddings\": 514,\n",
              "  \"model_type\": \"xlm-roberta\",\n",
              "  \"num_attention_heads\": 12,\n",
              "  \"num_hidden_layers\": 12,\n",
              "  \"output_past\": true,\n",
              "  \"pad_token_id\": 1,\n",
              "  \"position_embedding_type\": \"absolute\",\n",
              "  \"transformers_version\": \"4.25.1\",\n",
              "  \"type_vocab_size\": 1,\n",
              "  \"use_cache\": true,\n",
              "  \"vocab_size\": 250002\n",
              "}"
            ]
          },
          "metadata": {},
          "execution_count": 35
        }
      ],
      "source": [
        "from transformers import AutoConfig\n",
        "\n",
        "# set up the configuration for BERT model\n",
        "config = AutoConfig.from_pretrained(PRETRAINED_MODEL_NAME)\n",
        "config"
      ]
    },
    {
      "cell_type": "markdown",
      "metadata": {
        "id": "I-bXQPBBVyEH"
      },
      "source": [
        "#### RobERTa Regressor - New"
      ]
    },
    {
      "cell_type": "code",
      "execution_count": null,
      "metadata": {
        "colab": {
          "base_uri": "https://localhost:8080/",
          "height": 35
        },
        "id": "75IywPoWi9F3",
        "outputId": "18550c21-9951-447e-b2e0-1ab1e8fe27e4"
      },
      "outputs": [
        {
          "output_type": "execute_result",
          "data": {
            "text/plain": [
              "'cpu'"
            ],
            "application/vnd.google.colaboratory.intrinsic+json": {
              "type": "string"
            }
          },
          "metadata": {},
          "execution_count": 36
        }
      ],
      "source": [
        "import torch\n",
        "\n",
        "PRETRAINED_MODEL_NAME = f\"cardiffnlp/twitter-xlm-roberta-base-sentiment\"\n",
        "\n",
        "DEVICE = 'cuda:0' if torch.cuda.is_available() else 'cpu'\n",
        "DEVICE"
      ]
    },
    {
      "cell_type": "code",
      "execution_count": null,
      "metadata": {
        "id": "_FmHWfNOV1iv",
        "colab": {
          "base_uri": "https://localhost:8080/",
          "height": 49,
          "referenced_widgets": [
            "17ff0d288a814efe9903512e037a0891",
            "3daf43d76ba1410db2c3991adcf5c1a7",
            "b75a499d513546418dd734814746061d",
            "a2f2f0c15cca480a9a7a692d35e631a6",
            "a6602002a81147d98ee336efcd457c0d",
            "01e95db9d3e040258a94186b6569fc4c",
            "ce92976c6c9648e6904fe1b0fd15cbe6",
            "92b4f88d66884c96974d94bd410dc1d4",
            "4404e524ce8440908830a75bd7b36728",
            "eee6ea388c3c453c89e154d5f7c3cf13",
            "14db1e7834da44229dad0b3a9146993b"
          ]
        },
        "outputId": "e6fade89-2607-415e-8c5e-c6d0b620dcfa"
      },
      "outputs": [
        {
          "output_type": "display_data",
          "data": {
            "text/plain": [
              "Downloading:   0%|          | 0.00/1.11G [00:00<?, ?B/s]"
            ],
            "application/vnd.jupyter.widget-view+json": {
              "version_major": 2,
              "version_minor": 0,
              "model_id": "17ff0d288a814efe9903512e037a0891"
            }
          },
          "metadata": {}
        }
      ],
      "source": [
        "import torch.nn as nn\n",
        "from transformers import XLMRobertaModel, XLMRobertaPreTrainedModel\n",
        "\n",
        "class XLMRobertaRegressor(nn.Module):\n",
        "    \n",
        "    def __init__(self, pretrained_model_name_or_path, drop_rate=0.2, freeze_camembert=False):\n",
        "      # super().__init__(config)\n",
        "\n",
        "      # self.hidden_size = config.hidden_size\n",
        "\n",
        "      # self.n_classes = 1\n",
        "\n",
        "      # self.xlmroberta = XLMRobertaModel.from_pretrained(pretrained_model_name_or_path)\n",
        "\n",
        "      # self.regressor = nn.Sequential(\n",
        "      #       nn.Dropout(drop_rate),\n",
        "      #       nn.Linear(self.hidden_size, self.n_classes))\n",
        "        \n",
        "      # self.loss_fct = nn.CrossEntropyLoss(reduction='sum')\n",
        "\n",
        "        super(XLMRobertaRegressor, self).__init__()\n",
        "        D_in, D_out = 768, 1\n",
        "        \n",
        "        self.xlmroberta = XLMRobertaModel.from_pretrained(pretrained_model_name_or_path)\n",
        "        self.regressor = nn.Sequential(\n",
        "            nn.Dropout(drop_rate),\n",
        "            nn.Linear(D_in, D_out))\n",
        "\n",
        "\n",
        "    def forward(self, input_ids, attention_masks):\n",
        "        # outputs = self.xlmroberta(input_ids, attention_masks)\n",
        "        # sequence_output = outputs[0]\n",
        "        \n",
        "        # logits = self.regressor(sequence_output)\n",
        "\n",
        "        # loss = self.loss_fct(logits.view(-1), labels.view(-1))\n",
        "        # return loss, logits\n",
        "\n",
        "        outputs = self.xlmroberta(input_ids, attention_masks)\n",
        "        class_label_output = outputs[1]\n",
        "        outputs = self.regressor(class_label_output)\n",
        "        return outputs\n",
        "\n",
        "model = XLMRobertaRegressor(PRETRAINED_MODEL_NAME, drop_rate=0.2).to(DEVICE)"
      ]
    },
    {
      "cell_type": "markdown",
      "metadata": {
        "id": "TLSbvhNJe7xg"
      },
      "source": [
        "## Training and Evaluation"
      ]
    },
    {
      "cell_type": "code",
      "execution_count": null,
      "metadata": {
        "colab": {
          "base_uri": "https://localhost:8080/"
        },
        "id": "dzT7utCFi_1v",
        "outputId": "3522246c-1241-4bd5-a77e-f68833d52947"
      },
      "outputs": [
        {
          "output_type": "stream",
          "name": "stderr",
          "text": [
            "/usr/local/lib/python3.8/dist-packages/transformers/optimization.py:306: FutureWarning: This implementation of AdamW is deprecated and will be removed in a future version. Use the PyTorch implementation torch.optim.AdamW instead, or set `no_deprecation_warning=True` to disable this warning\n",
            "  warnings.warn(\n"
          ]
        }
      ],
      "source": [
        "from transformers import AdamW\n",
        "optimizer = AdamW(model.parameters(),\n",
        "                  lr=5e-5,\n",
        "                  eps=1e-8)"
      ]
    },
    {
      "cell_type": "code",
      "execution_count": null,
      "metadata": {
        "id": "TePYzTAAjBPg"
      },
      "outputs": [],
      "source": [
        "from transformers import get_linear_schedule_with_warmup\n",
        "epochs = 5\n",
        "total_steps = len(dataloaders[TWEET][TRAIN]) * epochs\n",
        "scheduler = get_linear_schedule_with_warmup(optimizer,       \n",
        "                 num_warmup_steps=0, num_training_steps=total_steps)\n",
        "\n",
        "loss_function = nn.MSELoss()"
      ]
    },
    {
      "cell_type": "markdown",
      "source": [
        "#### Training Loop"
      ],
      "metadata": {
        "id": "MIhkV6Rbd2ju"
      }
    },
    {
      "cell_type": "code",
      "execution_count": null,
      "metadata": {
        "colab": {
          "base_uri": "https://localhost:8080/"
        },
        "id": "_QPeFT3JX75f",
        "outputId": "f8ef54d9-d1fb-4f3b-b653-6352e66f10d0"
      },
      "outputs": [
        {
          "output_type": "stream",
          "name": "stdout",
          "text": [
            "Training on tweet\n",
            "Epoch #0\n"
          ]
        },
        {
          "output_type": "stream",
          "name": "stderr",
          "text": [
            "  0%|          | 0/475 [00:00<?, ?it/s]<ipython-input-40-c693810ae34a>:30: UserWarning: torch.nn.utils.clip_grad_norm is now deprecated in favor of torch.nn.utils.clip_grad_norm_.\n",
            "  clip_grad_norm(model.parameters(), clip_value)\n",
            "100%|██████████| 475/475 [04:00<00:00,  1.98it/s]\n"
          ]
        },
        {
          "output_type": "stream",
          "name": "stdout",
          "text": [
            "Epoch #1\n"
          ]
        },
        {
          "output_type": "stream",
          "name": "stderr",
          "text": [
            "100%|██████████| 475/475 [04:01<00:00,  1.96it/s]\n"
          ]
        },
        {
          "output_type": "stream",
          "name": "stdout",
          "text": [
            "Epoch #2\n"
          ]
        },
        {
          "output_type": "stream",
          "name": "stderr",
          "text": [
            "100%|██████████| 475/475 [04:03<00:00,  1.95it/s]\n"
          ]
        },
        {
          "output_type": "stream",
          "name": "stdout",
          "text": [
            "Epoch #3\n"
          ]
        },
        {
          "output_type": "stream",
          "name": "stderr",
          "text": [
            "100%|██████████| 475/475 [04:03<00:00,  1.95it/s]\n"
          ]
        },
        {
          "output_type": "stream",
          "name": "stdout",
          "text": [
            "Epoch #4\n"
          ]
        },
        {
          "output_type": "stream",
          "name": "stderr",
          "text": [
            "100%|██████████| 475/475 [04:03<00:00,  1.95it/s]\n"
          ]
        },
        {
          "output_type": "stream",
          "name": "stdout",
          "text": [
            "Training on reddit\n",
            "Epoch #0\n"
          ]
        },
        {
          "output_type": "stream",
          "name": "stderr",
          "text": [
            "100%|██████████| 90/90 [00:43<00:00,  2.07it/s]\n"
          ]
        },
        {
          "output_type": "stream",
          "name": "stdout",
          "text": [
            "Epoch #1\n"
          ]
        },
        {
          "output_type": "stream",
          "name": "stderr",
          "text": [
            "100%|██████████| 90/90 [00:43<00:00,  2.06it/s]\n"
          ]
        },
        {
          "output_type": "stream",
          "name": "stdout",
          "text": [
            "Epoch #2\n"
          ]
        },
        {
          "output_type": "stream",
          "name": "stderr",
          "text": [
            "100%|██████████| 90/90 [00:43<00:00,  2.07it/s]\n"
          ]
        },
        {
          "output_type": "stream",
          "name": "stdout",
          "text": [
            "Epoch #3\n"
          ]
        },
        {
          "output_type": "stream",
          "name": "stderr",
          "text": [
            "100%|██████████| 90/90 [00:44<00:00,  2.04it/s]\n"
          ]
        },
        {
          "output_type": "stream",
          "name": "stdout",
          "text": [
            "Epoch #4\n"
          ]
        },
        {
          "output_type": "stream",
          "name": "stderr",
          "text": [
            "100%|██████████| 90/90 [00:43<00:00,  2.07it/s]\n"
          ]
        }
      ],
      "source": [
        "from torch.nn.utils.clip_grad import clip_grad_norm\n",
        "from tqdm import tqdm\n",
        "\n",
        "def train(model, optimizer, scheduler, loss_function, epochs,       \n",
        "          train_dataloader, device, clip_value=2):\n",
        "  \n",
        "\n",
        "    for epoch in range(epochs):\n",
        "        print(f'Epoch #{epoch}')\n",
        "\n",
        "        best_loss = 1e10\n",
        "        model.train()\n",
        "\n",
        "        for step, batch in enumerate(tqdm(train_dataloader)): \n",
        "\n",
        "            batch_inputs, batch_masks, batch_labels = \\\n",
        "                               tuple(batch[field].to(device) for field in batch)\n",
        "\n",
        "\n",
        "            model.zero_grad()\n",
        "            outputs = model(batch_inputs, batch_masks)           \n",
        "            \n",
        "            outputs = outputs.to(torch.float64)\n",
        "            batch_masks = batch_masks.to(torch.float64)\n",
        "\n",
        "            loss = loss_function(outputs.squeeze(), \n",
        "                             batch_labels.squeeze())\n",
        "\n",
        "            loss.backward()\n",
        "            clip_grad_norm(model.parameters(), clip_value)\n",
        "            optimizer.step()\n",
        "            scheduler.step()\n",
        "                \n",
        "    return model\n",
        "\n",
        "\n",
        "model_variants = {}\n",
        "\n",
        "for datasetType in [TWEET, REDDIT]:\n",
        "  print (f'Training on {datasetType}')\n",
        "  model_variants[datasetType] = train(model, optimizer, scheduler, loss_function, epochs, \n",
        "              dataloaders[datasetType][TRAIN], DEVICE, clip_value=2)\n",
        "\n"
      ]
    },
    {
      "cell_type": "markdown",
      "source": [
        "Save models locally."
      ],
      "metadata": {
        "id": "ufDKWVDzWBN8"
      }
    },
    {
      "cell_type": "code",
      "source": [
        "# for name in [TWEET, REDDIT]:\n",
        "#   torch.save(model_variants[name].state_dict(), '/content/drive/Shareddrives/tesrt/nlp_final/twitter_reddit_trained/model_state_dict_' + name)"
      ],
      "metadata": {
        "id": "kEvP8JNf0MgR"
      },
      "execution_count": null,
      "outputs": []
    },
    {
      "cell_type": "markdown",
      "source": [
        "#### Evaluation Loop"
      ],
      "metadata": {
        "id": "78jPntFQd6eY"
      }
    },
    {
      "cell_type": "code",
      "execution_count": null,
      "metadata": {
        "id": "srRkqr5nBk2L"
      },
      "outputs": [],
      "source": [
        "def evaluate(model, dataloader, device):\n",
        "    with torch.no_grad():\n",
        "\n",
        "      model.to(device)\n",
        "\n",
        "      model.eval()\n",
        "\n",
        "      all_preds, all_truth = [], []\n",
        "      for step, batch in enumerate(tqdm(dataloader)):\n",
        "          batch_inputs, batch_masks, batch_labels = tuple(\n",
        "              batch[field].to(device) for field in batch)\n",
        "\n",
        "          preds = model(batch_inputs, batch_masks)\n",
        "\n",
        "          for i in range(len(preds)):\n",
        "              preds_i = preds[i]\n",
        "              truth_i = batch['labels'][i].data.detach().cpu().tolist()\n",
        "\n",
        "              all_preds.append(preds_i)\n",
        "              all_truth.append(truth_i)\n",
        "\n",
        "              del preds_i, truth_i\n",
        "          \n",
        "          del batch_inputs, batch_masks, batch_labels\n",
        "          del preds\n",
        "        \n",
        "      return all_preds, all_truth"
      ]
    },
    {
      "cell_type": "markdown",
      "metadata": {
        "id": "TeWs14NTCxgB"
      },
      "source": [
        "## Fine tuning\n",
        "\n",
        "In the report (Liu et al., 2019)\n",
        "\n",
        "Parameters \n",
        "batch size as 128 and learning rate as 0.0001 w/ max length set to 50\n",
        "Adam (Kingma and Ba, 2014) used for optimization.\n",
        "All the other hyperparameters and the model size are the same as the default roberta-base model\n",
        "\n",
        "Training\n",
        "trained model for 30 epochs selecting model with lowest MSE on validation set\n",
        "fine-tuning process: followed all default settings recommended by Hugging Face.\n",
        "\n",
        "tunning learning rate: \n",
        "0.0001 and 0.00001 both achieved good scores regarding MSE and Pearson r."
      ]
    },
    {
      "cell_type": "markdown",
      "metadata": {
        "id": "q5jT3UfZM8Q0"
      },
      "source": [
        "**Note:** here is where you can adjust the parameters for `learning_rate` and `num_epochs`."
      ]
    },
    {
      "cell_type": "markdown",
      "source": [
        "#### Load pretrained model"
      ],
      "metadata": {
        "id": "D3L-jqfgTMYt"
      }
    },
    {
      "cell_type": "code",
      "source": [
        "model_variants = {}\n",
        "\n",
        "SAVED_MODEL_PATH = '/content/drive/Shareddrives/tesrt/nlp_final/twitter_reddit_trained/model_state_dict_'\n",
        "\n",
        "for name in [TWEET, REDDIT]:\n",
        "  model = XLMRobertaRegressor(PRETRAINED_MODEL_NAME, drop_rate=0.2).to(DEVICE)\n",
        "  model.load_state_dict(torch.load(SAVED_MODEL_PATH + name,  map_location=torch.device('cpu')))\n",
        "  model.eval()\n",
        "\n",
        "  model_variants[name] = model\n",
        "\n",
        "model_variants.keys()"
      ],
      "metadata": {
        "colab": {
          "base_uri": "https://localhost:8080/"
        },
        "id": "6-Mq1wqjRm-C",
        "outputId": "5f00c169-5a74-41f2-c264-074a08013abd"
      },
      "execution_count": null,
      "outputs": [
        {
          "output_type": "execute_result",
          "data": {
            "text/plain": [
              "dict_keys(['tweet', 'reddit'])"
            ]
          },
          "metadata": {},
          "execution_count": 43
        }
      ]
    },
    {
      "cell_type": "code",
      "execution_count": null,
      "metadata": {
        "id": "FKb9nIL4Bk2R",
        "colab": {
          "base_uri": "https://localhost:8080/",
          "height": 389
        },
        "outputId": "4f7ddc94-433d-45d8-856c-fd5982582a01"
      },
      "outputs": [
        {
          "output_type": "stream",
          "name": "stderr",
          "text": [
            "100%|██████████| 12/12 [01:29<00:00,  7.42s/it]"
          ]
        },
        {
          "output_type": "stream",
          "name": "stdout",
          "text": [
            "Classification Report for %s model on %s test set: tweet reddit\n"
          ]
        },
        {
          "output_type": "stream",
          "name": "stderr",
          "text": [
            "\n"
          ]
        },
        {
          "output_type": "error",
          "ename": "AttributeError",
          "evalue": "ignored",
          "traceback": [
            "\u001b[0;31m---------------------------------------------------------------------------\u001b[0m",
            "\u001b[0;31mAttributeError\u001b[0m                            Traceback (most recent call last)",
            "\u001b[0;32m<ipython-input-53-6383b05434e8>\u001b[0m in \u001b[0;36m<module>\u001b[0;34m\u001b[0m\n\u001b[1;32m      7\u001b[0m   \u001b[0mtest_preds\u001b[0m\u001b[0;34m,\u001b[0m \u001b[0mtest_truth\u001b[0m \u001b[0;34m=\u001b[0m \u001b[0mevaluate\u001b[0m\u001b[0;34m(\u001b[0m\u001b[0mmodel_variants\u001b[0m\u001b[0;34m[\u001b[0m\u001b[0mname\u001b[0m\u001b[0;34m]\u001b[0m\u001b[0;34m,\u001b[0m \u001b[0mdataloaders\u001b[0m\u001b[0;34m[\u001b[0m\u001b[0mother_name\u001b[0m\u001b[0;34m]\u001b[0m\u001b[0;34m[\u001b[0m\u001b[0;34m'test'\u001b[0m\u001b[0;34m]\u001b[0m\u001b[0;34m,\u001b[0m \u001b[0mdevice\u001b[0m\u001b[0;34m=\u001b[0m\u001b[0mDEVICE\u001b[0m\u001b[0;34m)\u001b[0m\u001b[0;34m\u001b[0m\u001b[0;34m\u001b[0m\u001b[0m\n\u001b[1;32m      8\u001b[0m   \u001b[0mprint\u001b[0m\u001b[0;34m(\u001b[0m\u001b[0;34mf\"Classification Report for %s model on %s test set:\"\u001b[0m\u001b[0;34m,\u001b[0m \u001b[0mname\u001b[0m\u001b[0;34m,\u001b[0m \u001b[0mother_name\u001b[0m\u001b[0;34m)\u001b[0m\u001b[0;34m\u001b[0m\u001b[0;34m\u001b[0m\u001b[0m\n\u001b[0;32m----> 9\u001b[0;31m   \u001b[0mprint\u001b[0m\u001b[0;34m(\u001b[0m\u001b[0mclassification_report\u001b[0m\u001b[0;34m(\u001b[0m\u001b[0mtest_truth\u001b[0m\u001b[0;34m,\u001b[0m \u001b[0mtest_preds\u001b[0m\u001b[0;34m,\u001b[0m \u001b[0mdigits\u001b[0m\u001b[0;34m=\u001b[0m\u001b[0;36m5\u001b[0m\u001b[0;34m,\u001b[0m \u001b[0mzero_division\u001b[0m\u001b[0;34m=\u001b[0m\u001b[0;36m0\u001b[0m\u001b[0;34m)\u001b[0m\u001b[0;34m)\u001b[0m\u001b[0;34m\u001b[0m\u001b[0;34m\u001b[0m\u001b[0m\n\u001b[0m",
            "\u001b[0;32m/usr/local/lib/python3.8/dist-packages/seqeval/metrics/sequence_labeling.py\u001b[0m in \u001b[0;36mclassification_report\u001b[0;34m(y_true, y_pred, digits, suffix, output_dict, mode, sample_weight, zero_division, scheme)\u001b[0m\n\u001b[1;32m    677\u001b[0m                   )\n\u001b[1;32m    678\u001b[0m \u001b[0;34m\u001b[0m\u001b[0m\n\u001b[0;32m--> 679\u001b[0;31m     \u001b[0mtarget_names_true\u001b[0m \u001b[0;34m=\u001b[0m \u001b[0;34m{\u001b[0m\u001b[0mtype_name\u001b[0m \u001b[0;32mfor\u001b[0m \u001b[0mtype_name\u001b[0m\u001b[0;34m,\u001b[0m \u001b[0m_\u001b[0m\u001b[0;34m,\u001b[0m \u001b[0m_\u001b[0m \u001b[0;32min\u001b[0m \u001b[0mget_entities\u001b[0m\u001b[0;34m(\u001b[0m\u001b[0my_true\u001b[0m\u001b[0;34m,\u001b[0m \u001b[0msuffix\u001b[0m\u001b[0;34m)\u001b[0m\u001b[0;34m}\u001b[0m\u001b[0;34m\u001b[0m\u001b[0;34m\u001b[0m\u001b[0m\n\u001b[0m\u001b[1;32m    680\u001b[0m     \u001b[0mtarget_names_pred\u001b[0m \u001b[0;34m=\u001b[0m \u001b[0;34m{\u001b[0m\u001b[0mtype_name\u001b[0m \u001b[0;32mfor\u001b[0m \u001b[0mtype_name\u001b[0m\u001b[0;34m,\u001b[0m \u001b[0m_\u001b[0m\u001b[0;34m,\u001b[0m \u001b[0m_\u001b[0m \u001b[0;32min\u001b[0m \u001b[0mget_entities\u001b[0m\u001b[0;34m(\u001b[0m\u001b[0my_pred\u001b[0m\u001b[0;34m,\u001b[0m \u001b[0msuffix\u001b[0m\u001b[0;34m)\u001b[0m\u001b[0;34m}\u001b[0m\u001b[0;34m\u001b[0m\u001b[0;34m\u001b[0m\u001b[0m\n\u001b[1;32m    681\u001b[0m     \u001b[0mtarget_names\u001b[0m \u001b[0;34m=\u001b[0m \u001b[0msorted\u001b[0m\u001b[0;34m(\u001b[0m\u001b[0mtarget_names_true\u001b[0m \u001b[0;34m|\u001b[0m \u001b[0mtarget_names_pred\u001b[0m\u001b[0;34m)\u001b[0m\u001b[0;34m\u001b[0m\u001b[0;34m\u001b[0m\u001b[0m\n",
            "\u001b[0;32m/usr/local/lib/python3.8/dist-packages/seqeval/metrics/sequence_labeling.py\u001b[0m in \u001b[0;36mget_entities\u001b[0;34m(seq, suffix)\u001b[0m\n\u001b[1;32m    180\u001b[0m     \u001b[0mchunks\u001b[0m \u001b[0;34m=\u001b[0m \u001b[0;34m[\u001b[0m\u001b[0;34m]\u001b[0m\u001b[0;34m\u001b[0m\u001b[0;34m\u001b[0m\u001b[0m\n\u001b[1;32m    181\u001b[0m     \u001b[0;32mfor\u001b[0m \u001b[0mi\u001b[0m\u001b[0;34m,\u001b[0m \u001b[0mchunk\u001b[0m \u001b[0;32min\u001b[0m \u001b[0menumerate\u001b[0m\u001b[0;34m(\u001b[0m\u001b[0mseq\u001b[0m \u001b[0;34m+\u001b[0m \u001b[0;34m[\u001b[0m\u001b[0;34m'O'\u001b[0m\u001b[0;34m]\u001b[0m\u001b[0;34m)\u001b[0m\u001b[0;34m:\u001b[0m\u001b[0;34m\u001b[0m\u001b[0;34m\u001b[0m\u001b[0m\n\u001b[0;32m--> 182\u001b[0;31m         \u001b[0m_validate_chunk\u001b[0m\u001b[0;34m(\u001b[0m\u001b[0mchunk\u001b[0m\u001b[0;34m,\u001b[0m \u001b[0msuffix\u001b[0m\u001b[0;34m)\u001b[0m\u001b[0;34m\u001b[0m\u001b[0;34m\u001b[0m\u001b[0m\n\u001b[0m\u001b[1;32m    183\u001b[0m \u001b[0;34m\u001b[0m\u001b[0m\n\u001b[1;32m    184\u001b[0m         \u001b[0;32mif\u001b[0m \u001b[0msuffix\u001b[0m\u001b[0;34m:\u001b[0m\u001b[0;34m\u001b[0m\u001b[0;34m\u001b[0m\u001b[0m\n",
            "\u001b[0;32m/usr/local/lib/python3.8/dist-packages/seqeval/metrics/sequence_labeling.py\u001b[0m in \u001b[0;36m_validate_chunk\u001b[0;34m(chunk, suffix)\u001b[0m\n\u001b[1;32m    168\u001b[0m \u001b[0;34m\u001b[0m\u001b[0m\n\u001b[1;32m    169\u001b[0m         \u001b[0;32melse\u001b[0m\u001b[0;34m:\u001b[0m\u001b[0;34m\u001b[0m\u001b[0;34m\u001b[0m\u001b[0m\n\u001b[0;32m--> 170\u001b[0;31m             \u001b[0;32mif\u001b[0m \u001b[0;32mnot\u001b[0m \u001b[0mchunk\u001b[0m\u001b[0;34m.\u001b[0m\u001b[0mstartswith\u001b[0m\u001b[0;34m(\u001b[0m\u001b[0;34m(\u001b[0m\u001b[0;34m'B-'\u001b[0m\u001b[0;34m,\u001b[0m \u001b[0;34m'I-'\u001b[0m\u001b[0;34m,\u001b[0m \u001b[0;34m'E-'\u001b[0m\u001b[0;34m,\u001b[0m \u001b[0;34m'S-'\u001b[0m\u001b[0;34m)\u001b[0m\u001b[0;34m)\u001b[0m\u001b[0;34m:\u001b[0m\u001b[0;34m\u001b[0m\u001b[0;34m\u001b[0m\u001b[0m\n\u001b[0m\u001b[1;32m    171\u001b[0m                 \u001b[0mwarnings\u001b[0m\u001b[0;34m.\u001b[0m\u001b[0mwarn\u001b[0m\u001b[0;34m(\u001b[0m\u001b[0;34m'{} seems not to be NE tag.'\u001b[0m\u001b[0;34m.\u001b[0m\u001b[0mformat\u001b[0m\u001b[0;34m(\u001b[0m\u001b[0mchunk\u001b[0m\u001b[0;34m)\u001b[0m\u001b[0;34m)\u001b[0m\u001b[0;34m\u001b[0m\u001b[0;34m\u001b[0m\u001b[0m\n\u001b[1;32m    172\u001b[0m \u001b[0;34m\u001b[0m\u001b[0m\n",
            "\u001b[0;31mAttributeError\u001b[0m: 'float' object has no attribute 'startswith'"
          ]
        }
      ],
      "source": [
        "from seqeval.metrics import classification_report\n",
        "from tqdm import tqdm \n",
        "\n",
        "for name in [TWEET, REDDIT]:\n",
        "  # Evaluate the model on the other dataset than the one it's trained on.\n",
        "  other_name = (REDDIT if name is TWEET else TWEET)\n",
        "  test_preds, test_truth = evaluate(model_variants[name], dataloaders[other_name]['test'], device=DEVICE)\n",
        "  print(f\"Classification Report for %s model on %s test set:\", name, other_name)\n",
        "  print(classification_report(test_truth, test_preds, digits=5, zero_division=0))"
      ]
    },
    {
      "cell_type": "markdown",
      "metadata": {
        "id": "KQKXVas1LzW_"
      },
      "source": [
        "## Base Line\n",
        "\n",
        "From 11/03's class during project proposal feedback\n",
        "\n",
        "## State of the Art\n",
        "From 11/03's class during project proposal feedback\n",
        "\n",
        "State of the art model should be regarded as XLM-T mode : Multilingual RoBERTa model trained over 200M tweets. Although this model in particular perfromed poorly on languages; Chinese, Hindi, Dutch, Korean,"
      ]
    },
    {
      "cell_type": "markdown",
      "metadata": {
        "id": "_T59PctT1Pk9"
      },
      "source": [
        "## Experiment "
      ]
    },
    {
      "cell_type": "markdown",
      "metadata": {
        "id": "Djjtifb61X6h"
      },
      "source": [
        "Baseline models to test:\n",
        "1. BERT (Devlin et al., 2018): multilingual\n",
        "BERT model.\n",
        "2. XLM-R (Conneau et al., 2019): multilingual\n",
        "RoBERTa model.\n",
        "3. XLM-T (Barbieri et al., 2021): Multilingual\n",
        "RoBERTa model trained over 200M tweets.\n",
        "4. DistillBERT (Sanh et al., 2019): Multilingual\n",
        "distilled BERT model.\n",
        "5. MiniLM (Wang et al., 2020): Multilingual\n",
        "MiniLM model.\n",
        "\n",
        "(Liu et al., 2019) found that XLM-T achieved the best performance over 7 languages, suggesting that domain specific language model training is beneficial for our tweet intimacy analysis task\n",
        "(Liu et al., 2019) found that for zero-shot tasks, models has varying performances for different languages: The zero-shot performance is generally lower compared with the tasks with in-domain training. This suggests that the zero-shot task is challenging. We should explore different strategies to improve the zero-shot intimacy prediction performance.\n"
      ]
    },
    {
      "cell_type": "code",
      "execution_count": null,
      "metadata": {
        "id": "UfrB2okCjYVn"
      },
      "outputs": [],
      "source": [
        "! pip install transformers\n",
        "! pip install seqeval\n",
        "! pip install bertviz"
      ]
    },
    {
      "cell_type": "code",
      "execution_count": null,
      "metadata": {
        "id": "3KXdAzrI1XVN"
      },
      "outputs": [],
      "source": [
        "import torch\n",
        "\n",
        "# Set up device. Recommend to use GPU to accelerate training\n",
        "DEVICE = 'cuda:0' if torch.cuda.is_available() else 'cpu'\n",
        "DEVICE"
      ]
    },
    {
      "cell_type": "code",
      "execution_count": null,
      "metadata": {
        "id": "mlP_zziGj1lG"
      },
      "outputs": [],
      "source": [
        "# specify which pre-trained BERT model to use\n",
        "PRETRAINED_MODEL_NAME_OR_PATH = 'bert-base-cased'\n",
        "\n",
        "# specify the value of `ignore_index`\n",
        "IGNORE_INDEX = -100"
      ]
    },
    {
      "cell_type": "code",
      "execution_count": null,
      "metadata": {
        "id": "xKG3tBvaj25K"
      },
      "outputs": [],
      "source": [
        "from transformers import BertTokenizer\n",
        "\n",
        "tokenizer = BertTokenizer.from_pretrained(PRETRAINED_MODEL_NAME_OR_PATH)\n",
        "tokenizer"
      ]
    },
    {
      "cell_type": "markdown",
      "metadata": {
        "id": "JmHosmNwkvQt"
      },
      "source": [
        "## Testing"
      ]
    },
    {
      "cell_type": "markdown",
      "metadata": {
        "id": "ODRgIpruC2cF"
      },
      "source": [
        "## Conclusion\n",
        "\n",
        "Notes from 11/15's class Bias in NLP - \n",
        "- Are there are biases in this model?\n",
        "- Are there subsets of human factors which we may encounter in these datasets that may contribute to biases?"
      ]
    },
    {
      "cell_type": "markdown",
      "metadata": {
        "id": "jUwDRyhuC4I7"
      },
      "source": [
        "## References"
      ]
    }
  ],
  "metadata": {
    "colab": {
      "collapsed_sections": [
        "kpHFYYTKKuLP",
        "Opsn06XGc9z5",
        "_T59PctT1Pk9"
      ],
      "provenance": [],
      "include_colab_link": true
    },
    "gpuClass": "standard",
    "kernelspec": {
      "display_name": "Python 3",
      "name": "python3"
    },
    "language_info": {
      "name": "python"
    },
    "widgets": {
      "application/vnd.jupyter.widget-state+json": {
        "17ff0d288a814efe9903512e037a0891": {
          "model_module": "@jupyter-widgets/controls",
          "model_name": "HBoxModel",
          "model_module_version": "1.5.0",
          "state": {
            "_dom_classes": [],
            "_model_module": "@jupyter-widgets/controls",
            "_model_module_version": "1.5.0",
            "_model_name": "HBoxModel",
            "_view_count": null,
            "_view_module": "@jupyter-widgets/controls",
            "_view_module_version": "1.5.0",
            "_view_name": "HBoxView",
            "box_style": "",
            "children": [
              "IPY_MODEL_3daf43d76ba1410db2c3991adcf5c1a7",
              "IPY_MODEL_b75a499d513546418dd734814746061d",
              "IPY_MODEL_a2f2f0c15cca480a9a7a692d35e631a6"
            ],
            "layout": "IPY_MODEL_a6602002a81147d98ee336efcd457c0d"
          }
        },
        "3daf43d76ba1410db2c3991adcf5c1a7": {
          "model_module": "@jupyter-widgets/controls",
          "model_name": "HTMLModel",
          "model_module_version": "1.5.0",
          "state": {
            "_dom_classes": [],
            "_model_module": "@jupyter-widgets/controls",
            "_model_module_version": "1.5.0",
            "_model_name": "HTMLModel",
            "_view_count": null,
            "_view_module": "@jupyter-widgets/controls",
            "_view_module_version": "1.5.0",
            "_view_name": "HTMLView",
            "description": "",
            "description_tooltip": null,
            "layout": "IPY_MODEL_01e95db9d3e040258a94186b6569fc4c",
            "placeholder": "​",
            "style": "IPY_MODEL_ce92976c6c9648e6904fe1b0fd15cbe6",
            "value": "Downloading: 100%"
          }
        },
        "b75a499d513546418dd734814746061d": {
          "model_module": "@jupyter-widgets/controls",
          "model_name": "FloatProgressModel",
          "model_module_version": "1.5.0",
          "state": {
            "_dom_classes": [],
            "_model_module": "@jupyter-widgets/controls",
            "_model_module_version": "1.5.0",
            "_model_name": "FloatProgressModel",
            "_view_count": null,
            "_view_module": "@jupyter-widgets/controls",
            "_view_module_version": "1.5.0",
            "_view_name": "ProgressView",
            "bar_style": "success",
            "description": "",
            "description_tooltip": null,
            "layout": "IPY_MODEL_92b4f88d66884c96974d94bd410dc1d4",
            "max": 1112271561,
            "min": 0,
            "orientation": "horizontal",
            "style": "IPY_MODEL_4404e524ce8440908830a75bd7b36728",
            "value": 1112271561
          }
        },
        "a2f2f0c15cca480a9a7a692d35e631a6": {
          "model_module": "@jupyter-widgets/controls",
          "model_name": "HTMLModel",
          "model_module_version": "1.5.0",
          "state": {
            "_dom_classes": [],
            "_model_module": "@jupyter-widgets/controls",
            "_model_module_version": "1.5.0",
            "_model_name": "HTMLModel",
            "_view_count": null,
            "_view_module": "@jupyter-widgets/controls",
            "_view_module_version": "1.5.0",
            "_view_name": "HTMLView",
            "description": "",
            "description_tooltip": null,
            "layout": "IPY_MODEL_eee6ea388c3c453c89e154d5f7c3cf13",
            "placeholder": "​",
            "style": "IPY_MODEL_14db1e7834da44229dad0b3a9146993b",
            "value": " 1.11G/1.11G [00:19&lt;00:00, 61.4MB/s]"
          }
        },
        "a6602002a81147d98ee336efcd457c0d": {
          "model_module": "@jupyter-widgets/base",
          "model_name": "LayoutModel",
          "model_module_version": "1.2.0",
          "state": {
            "_model_module": "@jupyter-widgets/base",
            "_model_module_version": "1.2.0",
            "_model_name": "LayoutModel",
            "_view_count": null,
            "_view_module": "@jupyter-widgets/base",
            "_view_module_version": "1.2.0",
            "_view_name": "LayoutView",
            "align_content": null,
            "align_items": null,
            "align_self": null,
            "border": null,
            "bottom": null,
            "display": null,
            "flex": null,
            "flex_flow": null,
            "grid_area": null,
            "grid_auto_columns": null,
            "grid_auto_flow": null,
            "grid_auto_rows": null,
            "grid_column": null,
            "grid_gap": null,
            "grid_row": null,
            "grid_template_areas": null,
            "grid_template_columns": null,
            "grid_template_rows": null,
            "height": null,
            "justify_content": null,
            "justify_items": null,
            "left": null,
            "margin": null,
            "max_height": null,
            "max_width": null,
            "min_height": null,
            "min_width": null,
            "object_fit": null,
            "object_position": null,
            "order": null,
            "overflow": null,
            "overflow_x": null,
            "overflow_y": null,
            "padding": null,
            "right": null,
            "top": null,
            "visibility": null,
            "width": null
          }
        },
        "01e95db9d3e040258a94186b6569fc4c": {
          "model_module": "@jupyter-widgets/base",
          "model_name": "LayoutModel",
          "model_module_version": "1.2.0",
          "state": {
            "_model_module": "@jupyter-widgets/base",
            "_model_module_version": "1.2.0",
            "_model_name": "LayoutModel",
            "_view_count": null,
            "_view_module": "@jupyter-widgets/base",
            "_view_module_version": "1.2.0",
            "_view_name": "LayoutView",
            "align_content": null,
            "align_items": null,
            "align_self": null,
            "border": null,
            "bottom": null,
            "display": null,
            "flex": null,
            "flex_flow": null,
            "grid_area": null,
            "grid_auto_columns": null,
            "grid_auto_flow": null,
            "grid_auto_rows": null,
            "grid_column": null,
            "grid_gap": null,
            "grid_row": null,
            "grid_template_areas": null,
            "grid_template_columns": null,
            "grid_template_rows": null,
            "height": null,
            "justify_content": null,
            "justify_items": null,
            "left": null,
            "margin": null,
            "max_height": null,
            "max_width": null,
            "min_height": null,
            "min_width": null,
            "object_fit": null,
            "object_position": null,
            "order": null,
            "overflow": null,
            "overflow_x": null,
            "overflow_y": null,
            "padding": null,
            "right": null,
            "top": null,
            "visibility": null,
            "width": null
          }
        },
        "ce92976c6c9648e6904fe1b0fd15cbe6": {
          "model_module": "@jupyter-widgets/controls",
          "model_name": "DescriptionStyleModel",
          "model_module_version": "1.5.0",
          "state": {
            "_model_module": "@jupyter-widgets/controls",
            "_model_module_version": "1.5.0",
            "_model_name": "DescriptionStyleModel",
            "_view_count": null,
            "_view_module": "@jupyter-widgets/base",
            "_view_module_version": "1.2.0",
            "_view_name": "StyleView",
            "description_width": ""
          }
        },
        "92b4f88d66884c96974d94bd410dc1d4": {
          "model_module": "@jupyter-widgets/base",
          "model_name": "LayoutModel",
          "model_module_version": "1.2.0",
          "state": {
            "_model_module": "@jupyter-widgets/base",
            "_model_module_version": "1.2.0",
            "_model_name": "LayoutModel",
            "_view_count": null,
            "_view_module": "@jupyter-widgets/base",
            "_view_module_version": "1.2.0",
            "_view_name": "LayoutView",
            "align_content": null,
            "align_items": null,
            "align_self": null,
            "border": null,
            "bottom": null,
            "display": null,
            "flex": null,
            "flex_flow": null,
            "grid_area": null,
            "grid_auto_columns": null,
            "grid_auto_flow": null,
            "grid_auto_rows": null,
            "grid_column": null,
            "grid_gap": null,
            "grid_row": null,
            "grid_template_areas": null,
            "grid_template_columns": null,
            "grid_template_rows": null,
            "height": null,
            "justify_content": null,
            "justify_items": null,
            "left": null,
            "margin": null,
            "max_height": null,
            "max_width": null,
            "min_height": null,
            "min_width": null,
            "object_fit": null,
            "object_position": null,
            "order": null,
            "overflow": null,
            "overflow_x": null,
            "overflow_y": null,
            "padding": null,
            "right": null,
            "top": null,
            "visibility": null,
            "width": null
          }
        },
        "4404e524ce8440908830a75bd7b36728": {
          "model_module": "@jupyter-widgets/controls",
          "model_name": "ProgressStyleModel",
          "model_module_version": "1.5.0",
          "state": {
            "_model_module": "@jupyter-widgets/controls",
            "_model_module_version": "1.5.0",
            "_model_name": "ProgressStyleModel",
            "_view_count": null,
            "_view_module": "@jupyter-widgets/base",
            "_view_module_version": "1.2.0",
            "_view_name": "StyleView",
            "bar_color": null,
            "description_width": ""
          }
        },
        "eee6ea388c3c453c89e154d5f7c3cf13": {
          "model_module": "@jupyter-widgets/base",
          "model_name": "LayoutModel",
          "model_module_version": "1.2.0",
          "state": {
            "_model_module": "@jupyter-widgets/base",
            "_model_module_version": "1.2.0",
            "_model_name": "LayoutModel",
            "_view_count": null,
            "_view_module": "@jupyter-widgets/base",
            "_view_module_version": "1.2.0",
            "_view_name": "LayoutView",
            "align_content": null,
            "align_items": null,
            "align_self": null,
            "border": null,
            "bottom": null,
            "display": null,
            "flex": null,
            "flex_flow": null,
            "grid_area": null,
            "grid_auto_columns": null,
            "grid_auto_flow": null,
            "grid_auto_rows": null,
            "grid_column": null,
            "grid_gap": null,
            "grid_row": null,
            "grid_template_areas": null,
            "grid_template_columns": null,
            "grid_template_rows": null,
            "height": null,
            "justify_content": null,
            "justify_items": null,
            "left": null,
            "margin": null,
            "max_height": null,
            "max_width": null,
            "min_height": null,
            "min_width": null,
            "object_fit": null,
            "object_position": null,
            "order": null,
            "overflow": null,
            "overflow_x": null,
            "overflow_y": null,
            "padding": null,
            "right": null,
            "top": null,
            "visibility": null,
            "width": null
          }
        },
        "14db1e7834da44229dad0b3a9146993b": {
          "model_module": "@jupyter-widgets/controls",
          "model_name": "DescriptionStyleModel",
          "model_module_version": "1.5.0",
          "state": {
            "_model_module": "@jupyter-widgets/controls",
            "_model_module_version": "1.5.0",
            "_model_name": "DescriptionStyleModel",
            "_view_count": null,
            "_view_module": "@jupyter-widgets/base",
            "_view_module_version": "1.2.0",
            "_view_name": "StyleView",
            "description_width": ""
          }
        },
        "710c695868cb4013b54b4afe7f1f4c02": {
          "model_module": "@jupyter-widgets/controls",
          "model_name": "HBoxModel",
          "model_module_version": "1.5.0",
          "state": {
            "_dom_classes": [],
            "_model_module": "@jupyter-widgets/controls",
            "_model_module_version": "1.5.0",
            "_model_name": "HBoxModel",
            "_view_count": null,
            "_view_module": "@jupyter-widgets/controls",
            "_view_module_version": "1.5.0",
            "_view_name": "HBoxView",
            "box_style": "",
            "children": [
              "IPY_MODEL_1b0fba2478a94292bece889399182dbf",
              "IPY_MODEL_d343d00b2b534a22bd4bd8b9b73d0322",
              "IPY_MODEL_9ad46be902164a11b8a8ac37c70434db"
            ],
            "layout": "IPY_MODEL_3ced1e5a21c44f9f94cd1b184c9827a8"
          }
        },
        "1b0fba2478a94292bece889399182dbf": {
          "model_module": "@jupyter-widgets/controls",
          "model_name": "HTMLModel",
          "model_module_version": "1.5.0",
          "state": {
            "_dom_classes": [],
            "_model_module": "@jupyter-widgets/controls",
            "_model_module_version": "1.5.0",
            "_model_name": "HTMLModel",
            "_view_count": null,
            "_view_module": "@jupyter-widgets/controls",
            "_view_module_version": "1.5.0",
            "_view_name": "HTMLView",
            "description": "",
            "description_tooltip": null,
            "layout": "IPY_MODEL_3cf9872f361d4bfabe25c0404dbeb512",
            "placeholder": "​",
            "style": "IPY_MODEL_7073b678f140439e9531b8045cb10c73",
            "value": "Downloading: 100%"
          }
        },
        "d343d00b2b534a22bd4bd8b9b73d0322": {
          "model_module": "@jupyter-widgets/controls",
          "model_name": "FloatProgressModel",
          "model_module_version": "1.5.0",
          "state": {
            "_dom_classes": [],
            "_model_module": "@jupyter-widgets/controls",
            "_model_module_version": "1.5.0",
            "_model_name": "FloatProgressModel",
            "_view_count": null,
            "_view_module": "@jupyter-widgets/controls",
            "_view_module_version": "1.5.0",
            "_view_name": "ProgressView",
            "bar_style": "success",
            "description": "",
            "description_tooltip": null,
            "layout": "IPY_MODEL_43386549d3634f0ba853d262e79d9be6",
            "max": 841,
            "min": 0,
            "orientation": "horizontal",
            "style": "IPY_MODEL_de7e836acd64486980402e899c5abd3b",
            "value": 841
          }
        },
        "9ad46be902164a11b8a8ac37c70434db": {
          "model_module": "@jupyter-widgets/controls",
          "model_name": "HTMLModel",
          "model_module_version": "1.5.0",
          "state": {
            "_dom_classes": [],
            "_model_module": "@jupyter-widgets/controls",
            "_model_module_version": "1.5.0",
            "_model_name": "HTMLModel",
            "_view_count": null,
            "_view_module": "@jupyter-widgets/controls",
            "_view_module_version": "1.5.0",
            "_view_name": "HTMLView",
            "description": "",
            "description_tooltip": null,
            "layout": "IPY_MODEL_0dd28cf3396840fd975abccdf990c759",
            "placeholder": "​",
            "style": "IPY_MODEL_c9da18ff0f2a4a118a7bc426e3dcc425",
            "value": " 841/841 [00:00&lt;00:00, 7.76kB/s]"
          }
        },
        "3ced1e5a21c44f9f94cd1b184c9827a8": {
          "model_module": "@jupyter-widgets/base",
          "model_name": "LayoutModel",
          "model_module_version": "1.2.0",
          "state": {
            "_model_module": "@jupyter-widgets/base",
            "_model_module_version": "1.2.0",
            "_model_name": "LayoutModel",
            "_view_count": null,
            "_view_module": "@jupyter-widgets/base",
            "_view_module_version": "1.2.0",
            "_view_name": "LayoutView",
            "align_content": null,
            "align_items": null,
            "align_self": null,
            "border": null,
            "bottom": null,
            "display": null,
            "flex": null,
            "flex_flow": null,
            "grid_area": null,
            "grid_auto_columns": null,
            "grid_auto_flow": null,
            "grid_auto_rows": null,
            "grid_column": null,
            "grid_gap": null,
            "grid_row": null,
            "grid_template_areas": null,
            "grid_template_columns": null,
            "grid_template_rows": null,
            "height": null,
            "justify_content": null,
            "justify_items": null,
            "left": null,
            "margin": null,
            "max_height": null,
            "max_width": null,
            "min_height": null,
            "min_width": null,
            "object_fit": null,
            "object_position": null,
            "order": null,
            "overflow": null,
            "overflow_x": null,
            "overflow_y": null,
            "padding": null,
            "right": null,
            "top": null,
            "visibility": null,
            "width": null
          }
        },
        "3cf9872f361d4bfabe25c0404dbeb512": {
          "model_module": "@jupyter-widgets/base",
          "model_name": "LayoutModel",
          "model_module_version": "1.2.0",
          "state": {
            "_model_module": "@jupyter-widgets/base",
            "_model_module_version": "1.2.0",
            "_model_name": "LayoutModel",
            "_view_count": null,
            "_view_module": "@jupyter-widgets/base",
            "_view_module_version": "1.2.0",
            "_view_name": "LayoutView",
            "align_content": null,
            "align_items": null,
            "align_self": null,
            "border": null,
            "bottom": null,
            "display": null,
            "flex": null,
            "flex_flow": null,
            "grid_area": null,
            "grid_auto_columns": null,
            "grid_auto_flow": null,
            "grid_auto_rows": null,
            "grid_column": null,
            "grid_gap": null,
            "grid_row": null,
            "grid_template_areas": null,
            "grid_template_columns": null,
            "grid_template_rows": null,
            "height": null,
            "justify_content": null,
            "justify_items": null,
            "left": null,
            "margin": null,
            "max_height": null,
            "max_width": null,
            "min_height": null,
            "min_width": null,
            "object_fit": null,
            "object_position": null,
            "order": null,
            "overflow": null,
            "overflow_x": null,
            "overflow_y": null,
            "padding": null,
            "right": null,
            "top": null,
            "visibility": null,
            "width": null
          }
        },
        "7073b678f140439e9531b8045cb10c73": {
          "model_module": "@jupyter-widgets/controls",
          "model_name": "DescriptionStyleModel",
          "model_module_version": "1.5.0",
          "state": {
            "_model_module": "@jupyter-widgets/controls",
            "_model_module_version": "1.5.0",
            "_model_name": "DescriptionStyleModel",
            "_view_count": null,
            "_view_module": "@jupyter-widgets/base",
            "_view_module_version": "1.2.0",
            "_view_name": "StyleView",
            "description_width": ""
          }
        },
        "43386549d3634f0ba853d262e79d9be6": {
          "model_module": "@jupyter-widgets/base",
          "model_name": "LayoutModel",
          "model_module_version": "1.2.0",
          "state": {
            "_model_module": "@jupyter-widgets/base",
            "_model_module_version": "1.2.0",
            "_model_name": "LayoutModel",
            "_view_count": null,
            "_view_module": "@jupyter-widgets/base",
            "_view_module_version": "1.2.0",
            "_view_name": "LayoutView",
            "align_content": null,
            "align_items": null,
            "align_self": null,
            "border": null,
            "bottom": null,
            "display": null,
            "flex": null,
            "flex_flow": null,
            "grid_area": null,
            "grid_auto_columns": null,
            "grid_auto_flow": null,
            "grid_auto_rows": null,
            "grid_column": null,
            "grid_gap": null,
            "grid_row": null,
            "grid_template_areas": null,
            "grid_template_columns": null,
            "grid_template_rows": null,
            "height": null,
            "justify_content": null,
            "justify_items": null,
            "left": null,
            "margin": null,
            "max_height": null,
            "max_width": null,
            "min_height": null,
            "min_width": null,
            "object_fit": null,
            "object_position": null,
            "order": null,
            "overflow": null,
            "overflow_x": null,
            "overflow_y": null,
            "padding": null,
            "right": null,
            "top": null,
            "visibility": null,
            "width": null
          }
        },
        "de7e836acd64486980402e899c5abd3b": {
          "model_module": "@jupyter-widgets/controls",
          "model_name": "ProgressStyleModel",
          "model_module_version": "1.5.0",
          "state": {
            "_model_module": "@jupyter-widgets/controls",
            "_model_module_version": "1.5.0",
            "_model_name": "ProgressStyleModel",
            "_view_count": null,
            "_view_module": "@jupyter-widgets/base",
            "_view_module_version": "1.2.0",
            "_view_name": "StyleView",
            "bar_color": null,
            "description_width": ""
          }
        },
        "0dd28cf3396840fd975abccdf990c759": {
          "model_module": "@jupyter-widgets/base",
          "model_name": "LayoutModel",
          "model_module_version": "1.2.0",
          "state": {
            "_model_module": "@jupyter-widgets/base",
            "_model_module_version": "1.2.0",
            "_model_name": "LayoutModel",
            "_view_count": null,
            "_view_module": "@jupyter-widgets/base",
            "_view_module_version": "1.2.0",
            "_view_name": "LayoutView",
            "align_content": null,
            "align_items": null,
            "align_self": null,
            "border": null,
            "bottom": null,
            "display": null,
            "flex": null,
            "flex_flow": null,
            "grid_area": null,
            "grid_auto_columns": null,
            "grid_auto_flow": null,
            "grid_auto_rows": null,
            "grid_column": null,
            "grid_gap": null,
            "grid_row": null,
            "grid_template_areas": null,
            "grid_template_columns": null,
            "grid_template_rows": null,
            "height": null,
            "justify_content": null,
            "justify_items": null,
            "left": null,
            "margin": null,
            "max_height": null,
            "max_width": null,
            "min_height": null,
            "min_width": null,
            "object_fit": null,
            "object_position": null,
            "order": null,
            "overflow": null,
            "overflow_x": null,
            "overflow_y": null,
            "padding": null,
            "right": null,
            "top": null,
            "visibility": null,
            "width": null
          }
        },
        "c9da18ff0f2a4a118a7bc426e3dcc425": {
          "model_module": "@jupyter-widgets/controls",
          "model_name": "DescriptionStyleModel",
          "model_module_version": "1.5.0",
          "state": {
            "_model_module": "@jupyter-widgets/controls",
            "_model_module_version": "1.5.0",
            "_model_name": "DescriptionStyleModel",
            "_view_count": null,
            "_view_module": "@jupyter-widgets/base",
            "_view_module_version": "1.2.0",
            "_view_name": "StyleView",
            "description_width": ""
          }
        },
        "4432a5532771412488a4b8ccfdfc2a45": {
          "model_module": "@jupyter-widgets/controls",
          "model_name": "HBoxModel",
          "model_module_version": "1.5.0",
          "state": {
            "_dom_classes": [],
            "_model_module": "@jupyter-widgets/controls",
            "_model_module_version": "1.5.0",
            "_model_name": "HBoxModel",
            "_view_count": null,
            "_view_module": "@jupyter-widgets/controls",
            "_view_module_version": "1.5.0",
            "_view_name": "HBoxView",
            "box_style": "",
            "children": [
              "IPY_MODEL_fbd37b311f0d43338748cdb0476868a3",
              "IPY_MODEL_e016248ce0634980bc7ad3c39529d67d",
              "IPY_MODEL_1c3bfedb8eb5471c81076cee67fc7f49"
            ],
            "layout": "IPY_MODEL_c7ae4873e7bb40a189deff596e8045ec"
          }
        },
        "fbd37b311f0d43338748cdb0476868a3": {
          "model_module": "@jupyter-widgets/controls",
          "model_name": "HTMLModel",
          "model_module_version": "1.5.0",
          "state": {
            "_dom_classes": [],
            "_model_module": "@jupyter-widgets/controls",
            "_model_module_version": "1.5.0",
            "_model_name": "HTMLModel",
            "_view_count": null,
            "_view_module": "@jupyter-widgets/controls",
            "_view_module_version": "1.5.0",
            "_view_name": "HTMLView",
            "description": "",
            "description_tooltip": null,
            "layout": "IPY_MODEL_798cd04c1f3e471dafbbe271d2f37420",
            "placeholder": "​",
            "style": "IPY_MODEL_b707df624ee446558511f510c933d5b1",
            "value": "Downloading: 100%"
          }
        },
        "e016248ce0634980bc7ad3c39529d67d": {
          "model_module": "@jupyter-widgets/controls",
          "model_name": "FloatProgressModel",
          "model_module_version": "1.5.0",
          "state": {
            "_dom_classes": [],
            "_model_module": "@jupyter-widgets/controls",
            "_model_module_version": "1.5.0",
            "_model_name": "FloatProgressModel",
            "_view_count": null,
            "_view_module": "@jupyter-widgets/controls",
            "_view_module_version": "1.5.0",
            "_view_name": "ProgressView",
            "bar_style": "success",
            "description": "",
            "description_tooltip": null,
            "layout": "IPY_MODEL_f7bb983f1bea4120a663d657535c6214",
            "max": 5069051,
            "min": 0,
            "orientation": "horizontal",
            "style": "IPY_MODEL_b830b337695d46c2b294809c9d82150c",
            "value": 5069051
          }
        },
        "1c3bfedb8eb5471c81076cee67fc7f49": {
          "model_module": "@jupyter-widgets/controls",
          "model_name": "HTMLModel",
          "model_module_version": "1.5.0",
          "state": {
            "_dom_classes": [],
            "_model_module": "@jupyter-widgets/controls",
            "_model_module_version": "1.5.0",
            "_model_name": "HTMLModel",
            "_view_count": null,
            "_view_module": "@jupyter-widgets/controls",
            "_view_module_version": "1.5.0",
            "_view_name": "HTMLView",
            "description": "",
            "description_tooltip": null,
            "layout": "IPY_MODEL_2ea62eb00bbf4415ba71c85b26378b31",
            "placeholder": "​",
            "style": "IPY_MODEL_de1bfc32e63e4c70bb2eab4f61e73f0f",
            "value": " 5.07M/5.07M [00:00&lt;00:00, 15.6MB/s]"
          }
        },
        "c7ae4873e7bb40a189deff596e8045ec": {
          "model_module": "@jupyter-widgets/base",
          "model_name": "LayoutModel",
          "model_module_version": "1.2.0",
          "state": {
            "_model_module": "@jupyter-widgets/base",
            "_model_module_version": "1.2.0",
            "_model_name": "LayoutModel",
            "_view_count": null,
            "_view_module": "@jupyter-widgets/base",
            "_view_module_version": "1.2.0",
            "_view_name": "LayoutView",
            "align_content": null,
            "align_items": null,
            "align_self": null,
            "border": null,
            "bottom": null,
            "display": null,
            "flex": null,
            "flex_flow": null,
            "grid_area": null,
            "grid_auto_columns": null,
            "grid_auto_flow": null,
            "grid_auto_rows": null,
            "grid_column": null,
            "grid_gap": null,
            "grid_row": null,
            "grid_template_areas": null,
            "grid_template_columns": null,
            "grid_template_rows": null,
            "height": null,
            "justify_content": null,
            "justify_items": null,
            "left": null,
            "margin": null,
            "max_height": null,
            "max_width": null,
            "min_height": null,
            "min_width": null,
            "object_fit": null,
            "object_position": null,
            "order": null,
            "overflow": null,
            "overflow_x": null,
            "overflow_y": null,
            "padding": null,
            "right": null,
            "top": null,
            "visibility": null,
            "width": null
          }
        },
        "798cd04c1f3e471dafbbe271d2f37420": {
          "model_module": "@jupyter-widgets/base",
          "model_name": "LayoutModel",
          "model_module_version": "1.2.0",
          "state": {
            "_model_module": "@jupyter-widgets/base",
            "_model_module_version": "1.2.0",
            "_model_name": "LayoutModel",
            "_view_count": null,
            "_view_module": "@jupyter-widgets/base",
            "_view_module_version": "1.2.0",
            "_view_name": "LayoutView",
            "align_content": null,
            "align_items": null,
            "align_self": null,
            "border": null,
            "bottom": null,
            "display": null,
            "flex": null,
            "flex_flow": null,
            "grid_area": null,
            "grid_auto_columns": null,
            "grid_auto_flow": null,
            "grid_auto_rows": null,
            "grid_column": null,
            "grid_gap": null,
            "grid_row": null,
            "grid_template_areas": null,
            "grid_template_columns": null,
            "grid_template_rows": null,
            "height": null,
            "justify_content": null,
            "justify_items": null,
            "left": null,
            "margin": null,
            "max_height": null,
            "max_width": null,
            "min_height": null,
            "min_width": null,
            "object_fit": null,
            "object_position": null,
            "order": null,
            "overflow": null,
            "overflow_x": null,
            "overflow_y": null,
            "padding": null,
            "right": null,
            "top": null,
            "visibility": null,
            "width": null
          }
        },
        "b707df624ee446558511f510c933d5b1": {
          "model_module": "@jupyter-widgets/controls",
          "model_name": "DescriptionStyleModel",
          "model_module_version": "1.5.0",
          "state": {
            "_model_module": "@jupyter-widgets/controls",
            "_model_module_version": "1.5.0",
            "_model_name": "DescriptionStyleModel",
            "_view_count": null,
            "_view_module": "@jupyter-widgets/base",
            "_view_module_version": "1.2.0",
            "_view_name": "StyleView",
            "description_width": ""
          }
        },
        "f7bb983f1bea4120a663d657535c6214": {
          "model_module": "@jupyter-widgets/base",
          "model_name": "LayoutModel",
          "model_module_version": "1.2.0",
          "state": {
            "_model_module": "@jupyter-widgets/base",
            "_model_module_version": "1.2.0",
            "_model_name": "LayoutModel",
            "_view_count": null,
            "_view_module": "@jupyter-widgets/base",
            "_view_module_version": "1.2.0",
            "_view_name": "LayoutView",
            "align_content": null,
            "align_items": null,
            "align_self": null,
            "border": null,
            "bottom": null,
            "display": null,
            "flex": null,
            "flex_flow": null,
            "grid_area": null,
            "grid_auto_columns": null,
            "grid_auto_flow": null,
            "grid_auto_rows": null,
            "grid_column": null,
            "grid_gap": null,
            "grid_row": null,
            "grid_template_areas": null,
            "grid_template_columns": null,
            "grid_template_rows": null,
            "height": null,
            "justify_content": null,
            "justify_items": null,
            "left": null,
            "margin": null,
            "max_height": null,
            "max_width": null,
            "min_height": null,
            "min_width": null,
            "object_fit": null,
            "object_position": null,
            "order": null,
            "overflow": null,
            "overflow_x": null,
            "overflow_y": null,
            "padding": null,
            "right": null,
            "top": null,
            "visibility": null,
            "width": null
          }
        },
        "b830b337695d46c2b294809c9d82150c": {
          "model_module": "@jupyter-widgets/controls",
          "model_name": "ProgressStyleModel",
          "model_module_version": "1.5.0",
          "state": {
            "_model_module": "@jupyter-widgets/controls",
            "_model_module_version": "1.5.0",
            "_model_name": "ProgressStyleModel",
            "_view_count": null,
            "_view_module": "@jupyter-widgets/base",
            "_view_module_version": "1.2.0",
            "_view_name": "StyleView",
            "bar_color": null,
            "description_width": ""
          }
        },
        "2ea62eb00bbf4415ba71c85b26378b31": {
          "model_module": "@jupyter-widgets/base",
          "model_name": "LayoutModel",
          "model_module_version": "1.2.0",
          "state": {
            "_model_module": "@jupyter-widgets/base",
            "_model_module_version": "1.2.0",
            "_model_name": "LayoutModel",
            "_view_count": null,
            "_view_module": "@jupyter-widgets/base",
            "_view_module_version": "1.2.0",
            "_view_name": "LayoutView",
            "align_content": null,
            "align_items": null,
            "align_self": null,
            "border": null,
            "bottom": null,
            "display": null,
            "flex": null,
            "flex_flow": null,
            "grid_area": null,
            "grid_auto_columns": null,
            "grid_auto_flow": null,
            "grid_auto_rows": null,
            "grid_column": null,
            "grid_gap": null,
            "grid_row": null,
            "grid_template_areas": null,
            "grid_template_columns": null,
            "grid_template_rows": null,
            "height": null,
            "justify_content": null,
            "justify_items": null,
            "left": null,
            "margin": null,
            "max_height": null,
            "max_width": null,
            "min_height": null,
            "min_width": null,
            "object_fit": null,
            "object_position": null,
            "order": null,
            "overflow": null,
            "overflow_x": null,
            "overflow_y": null,
            "padding": null,
            "right": null,
            "top": null,
            "visibility": null,
            "width": null
          }
        },
        "de1bfc32e63e4c70bb2eab4f61e73f0f": {
          "model_module": "@jupyter-widgets/controls",
          "model_name": "DescriptionStyleModel",
          "model_module_version": "1.5.0",
          "state": {
            "_model_module": "@jupyter-widgets/controls",
            "_model_module_version": "1.5.0",
            "_model_name": "DescriptionStyleModel",
            "_view_count": null,
            "_view_module": "@jupyter-widgets/base",
            "_view_module_version": "1.2.0",
            "_view_name": "StyleView",
            "description_width": ""
          }
        },
        "0271f9eed87740e7bda88bb5401dc9d4": {
          "model_module": "@jupyter-widgets/controls",
          "model_name": "HBoxModel",
          "model_module_version": "1.5.0",
          "state": {
            "_dom_classes": [],
            "_model_module": "@jupyter-widgets/controls",
            "_model_module_version": "1.5.0",
            "_model_name": "HBoxModel",
            "_view_count": null,
            "_view_module": "@jupyter-widgets/controls",
            "_view_module_version": "1.5.0",
            "_view_name": "HBoxView",
            "box_style": "",
            "children": [
              "IPY_MODEL_40dd07ac4425489c9232ae89534db314",
              "IPY_MODEL_a0ebbd985ba34126b99583146ed7166d",
              "IPY_MODEL_b5aa1fa3a62b4602b87f12f6369d2e57"
            ],
            "layout": "IPY_MODEL_40dad415ca074529800d18486701cf57"
          }
        },
        "40dd07ac4425489c9232ae89534db314": {
          "model_module": "@jupyter-widgets/controls",
          "model_name": "HTMLModel",
          "model_module_version": "1.5.0",
          "state": {
            "_dom_classes": [],
            "_model_module": "@jupyter-widgets/controls",
            "_model_module_version": "1.5.0",
            "_model_name": "HTMLModel",
            "_view_count": null,
            "_view_module": "@jupyter-widgets/controls",
            "_view_module_version": "1.5.0",
            "_view_name": "HTMLView",
            "description": "",
            "description_tooltip": null,
            "layout": "IPY_MODEL_b63ef6fbd01a433e8a4143bf9aab00f7",
            "placeholder": "​",
            "style": "IPY_MODEL_3e422e67dea6400892aae7913f046af6",
            "value": "Downloading: 100%"
          }
        },
        "a0ebbd985ba34126b99583146ed7166d": {
          "model_module": "@jupyter-widgets/controls",
          "model_name": "FloatProgressModel",
          "model_module_version": "1.5.0",
          "state": {
            "_dom_classes": [],
            "_model_module": "@jupyter-widgets/controls",
            "_model_module_version": "1.5.0",
            "_model_name": "FloatProgressModel",
            "_view_count": null,
            "_view_module": "@jupyter-widgets/controls",
            "_view_module_version": "1.5.0",
            "_view_name": "ProgressView",
            "bar_style": "success",
            "description": "",
            "description_tooltip": null,
            "layout": "IPY_MODEL_5424a39e75444a959ad730b212c80390",
            "max": 150,
            "min": 0,
            "orientation": "horizontal",
            "style": "IPY_MODEL_935d5d5aba6643a4ba600fa240a8613f",
            "value": 150
          }
        },
        "b5aa1fa3a62b4602b87f12f6369d2e57": {
          "model_module": "@jupyter-widgets/controls",
          "model_name": "HTMLModel",
          "model_module_version": "1.5.0",
          "state": {
            "_dom_classes": [],
            "_model_module": "@jupyter-widgets/controls",
            "_model_module_version": "1.5.0",
            "_model_name": "HTMLModel",
            "_view_count": null,
            "_view_module": "@jupyter-widgets/controls",
            "_view_module_version": "1.5.0",
            "_view_name": "HTMLView",
            "description": "",
            "description_tooltip": null,
            "layout": "IPY_MODEL_ae3bb35da74c42f080162a528e93547a",
            "placeholder": "​",
            "style": "IPY_MODEL_bcd34fbe8f884a8284ae9b5e69a34ab6",
            "value": " 150/150 [00:00&lt;00:00, 1.34kB/s]"
          }
        },
        "40dad415ca074529800d18486701cf57": {
          "model_module": "@jupyter-widgets/base",
          "model_name": "LayoutModel",
          "model_module_version": "1.2.0",
          "state": {
            "_model_module": "@jupyter-widgets/base",
            "_model_module_version": "1.2.0",
            "_model_name": "LayoutModel",
            "_view_count": null,
            "_view_module": "@jupyter-widgets/base",
            "_view_module_version": "1.2.0",
            "_view_name": "LayoutView",
            "align_content": null,
            "align_items": null,
            "align_self": null,
            "border": null,
            "bottom": null,
            "display": null,
            "flex": null,
            "flex_flow": null,
            "grid_area": null,
            "grid_auto_columns": null,
            "grid_auto_flow": null,
            "grid_auto_rows": null,
            "grid_column": null,
            "grid_gap": null,
            "grid_row": null,
            "grid_template_areas": null,
            "grid_template_columns": null,
            "grid_template_rows": null,
            "height": null,
            "justify_content": null,
            "justify_items": null,
            "left": null,
            "margin": null,
            "max_height": null,
            "max_width": null,
            "min_height": null,
            "min_width": null,
            "object_fit": null,
            "object_position": null,
            "order": null,
            "overflow": null,
            "overflow_x": null,
            "overflow_y": null,
            "padding": null,
            "right": null,
            "top": null,
            "visibility": null,
            "width": null
          }
        },
        "b63ef6fbd01a433e8a4143bf9aab00f7": {
          "model_module": "@jupyter-widgets/base",
          "model_name": "LayoutModel",
          "model_module_version": "1.2.0",
          "state": {
            "_model_module": "@jupyter-widgets/base",
            "_model_module_version": "1.2.0",
            "_model_name": "LayoutModel",
            "_view_count": null,
            "_view_module": "@jupyter-widgets/base",
            "_view_module_version": "1.2.0",
            "_view_name": "LayoutView",
            "align_content": null,
            "align_items": null,
            "align_self": null,
            "border": null,
            "bottom": null,
            "display": null,
            "flex": null,
            "flex_flow": null,
            "grid_area": null,
            "grid_auto_columns": null,
            "grid_auto_flow": null,
            "grid_auto_rows": null,
            "grid_column": null,
            "grid_gap": null,
            "grid_row": null,
            "grid_template_areas": null,
            "grid_template_columns": null,
            "grid_template_rows": null,
            "height": null,
            "justify_content": null,
            "justify_items": null,
            "left": null,
            "margin": null,
            "max_height": null,
            "max_width": null,
            "min_height": null,
            "min_width": null,
            "object_fit": null,
            "object_position": null,
            "order": null,
            "overflow": null,
            "overflow_x": null,
            "overflow_y": null,
            "padding": null,
            "right": null,
            "top": null,
            "visibility": null,
            "width": null
          }
        },
        "3e422e67dea6400892aae7913f046af6": {
          "model_module": "@jupyter-widgets/controls",
          "model_name": "DescriptionStyleModel",
          "model_module_version": "1.5.0",
          "state": {
            "_model_module": "@jupyter-widgets/controls",
            "_model_module_version": "1.5.0",
            "_model_name": "DescriptionStyleModel",
            "_view_count": null,
            "_view_module": "@jupyter-widgets/base",
            "_view_module_version": "1.2.0",
            "_view_name": "StyleView",
            "description_width": ""
          }
        },
        "5424a39e75444a959ad730b212c80390": {
          "model_module": "@jupyter-widgets/base",
          "model_name": "LayoutModel",
          "model_module_version": "1.2.0",
          "state": {
            "_model_module": "@jupyter-widgets/base",
            "_model_module_version": "1.2.0",
            "_model_name": "LayoutModel",
            "_view_count": null,
            "_view_module": "@jupyter-widgets/base",
            "_view_module_version": "1.2.0",
            "_view_name": "LayoutView",
            "align_content": null,
            "align_items": null,
            "align_self": null,
            "border": null,
            "bottom": null,
            "display": null,
            "flex": null,
            "flex_flow": null,
            "grid_area": null,
            "grid_auto_columns": null,
            "grid_auto_flow": null,
            "grid_auto_rows": null,
            "grid_column": null,
            "grid_gap": null,
            "grid_row": null,
            "grid_template_areas": null,
            "grid_template_columns": null,
            "grid_template_rows": null,
            "height": null,
            "justify_content": null,
            "justify_items": null,
            "left": null,
            "margin": null,
            "max_height": null,
            "max_width": null,
            "min_height": null,
            "min_width": null,
            "object_fit": null,
            "object_position": null,
            "order": null,
            "overflow": null,
            "overflow_x": null,
            "overflow_y": null,
            "padding": null,
            "right": null,
            "top": null,
            "visibility": null,
            "width": null
          }
        },
        "935d5d5aba6643a4ba600fa240a8613f": {
          "model_module": "@jupyter-widgets/controls",
          "model_name": "ProgressStyleModel",
          "model_module_version": "1.5.0",
          "state": {
            "_model_module": "@jupyter-widgets/controls",
            "_model_module_version": "1.5.0",
            "_model_name": "ProgressStyleModel",
            "_view_count": null,
            "_view_module": "@jupyter-widgets/base",
            "_view_module_version": "1.2.0",
            "_view_name": "StyleView",
            "bar_color": null,
            "description_width": ""
          }
        },
        "ae3bb35da74c42f080162a528e93547a": {
          "model_module": "@jupyter-widgets/base",
          "model_name": "LayoutModel",
          "model_module_version": "1.2.0",
          "state": {
            "_model_module": "@jupyter-widgets/base",
            "_model_module_version": "1.2.0",
            "_model_name": "LayoutModel",
            "_view_count": null,
            "_view_module": "@jupyter-widgets/base",
            "_view_module_version": "1.2.0",
            "_view_name": "LayoutView",
            "align_content": null,
            "align_items": null,
            "align_self": null,
            "border": null,
            "bottom": null,
            "display": null,
            "flex": null,
            "flex_flow": null,
            "grid_area": null,
            "grid_auto_columns": null,
            "grid_auto_flow": null,
            "grid_auto_rows": null,
            "grid_column": null,
            "grid_gap": null,
            "grid_row": null,
            "grid_template_areas": null,
            "grid_template_columns": null,
            "grid_template_rows": null,
            "height": null,
            "justify_content": null,
            "justify_items": null,
            "left": null,
            "margin": null,
            "max_height": null,
            "max_width": null,
            "min_height": null,
            "min_width": null,
            "object_fit": null,
            "object_position": null,
            "order": null,
            "overflow": null,
            "overflow_x": null,
            "overflow_y": null,
            "padding": null,
            "right": null,
            "top": null,
            "visibility": null,
            "width": null
          }
        },
        "bcd34fbe8f884a8284ae9b5e69a34ab6": {
          "model_module": "@jupyter-widgets/controls",
          "model_name": "DescriptionStyleModel",
          "model_module_version": "1.5.0",
          "state": {
            "_model_module": "@jupyter-widgets/controls",
            "_model_module_version": "1.5.0",
            "_model_name": "DescriptionStyleModel",
            "_view_count": null,
            "_view_module": "@jupyter-widgets/base",
            "_view_module_version": "1.2.0",
            "_view_name": "StyleView",
            "description_width": ""
          }
        }
      }
    }
  },
  "nbformat": 4,
  "nbformat_minor": 0
}