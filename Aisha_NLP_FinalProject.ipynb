{
  "cells": [
    {
      "cell_type": "markdown",
      "metadata": {
        "id": "view-in-github",
        "colab_type": "text"
      },
      "source": [
        "<a href=\"https://colab.research.google.com/github/aishafarooque/Tweet-Intimacy-Analysis/blob/main/Aisha_NLP_FinalProject.ipynb\" target=\"_parent\"><img src=\"https://colab.research.google.com/assets/colab-badge.svg\" alt=\"Open In Colab\"/></a>"
      ]
    },
    {
      "cell_type": "markdown",
      "metadata": {
        "id": "LtL71rUgcQBu"
      },
      "source": [
        "# Multilingual Tweet Intimacy Analysis\n",
        "\n",
        "## Introduction\n",
        "\n",
        "Dataset created by: Jiaxin Pei, Francesco Barbieri, Vítor Silva, Maarten Bos, Yozen Liu, Leonardo Neves, David Jurgens\n",
        "\n",
        "The goal of this project is to train machine learning (ML) models to recognize \"intimacy\" in text communications. The authors of this paper define intimacy as \"closeness and interdependence, self-disclosure, and warmth or affection” expressed in the language used to communicate.\n",
        "\n",
        "We have used two datasets, Reddit questions and Multilingual tweets, in this notebook. They have both been compiled by Pei et al. and are used to study if knowledge about intimacy levels of text communication can be transferred easily from tweets to questions or vice versa. \n",
        "\n",
        "(Aisha) leaving these sections here (out-of-order and brainstormed) to help us write the report. \n",
        "\n",
        "## Related Work\n",
        "(Aisha) Fill in any related work if applicable. This should probably go in the report."
      ]
    },
    {
      "cell_type": "markdown",
      "metadata": {
        "id": "F7y6c09Dof8j"
      },
      "source": [
        "Install dependencies"
      ]
    },
    {
      "cell_type": "code",
      "execution_count": null,
      "metadata": {
        "colab": {
          "base_uri": "https://localhost:8080/"
        },
        "id": "HBMquumpocGx",
        "outputId": "05fd97c5-4992-42e7-c406-438c8ebeca83"
      },
      "outputs": [
        {
          "output_type": "stream",
          "name": "stdout",
          "text": [
            "Looking in indexes: https://pypi.org/simple, https://us-python.pkg.dev/colab-wheels/public/simple/\n",
            "Requirement already satisfied: pip in /usr/local/lib/python3.8/dist-packages (22.3.1)\n",
            "\u001b[33mWARNING: Running pip as the 'root' user can result in broken permissions and conflicting behaviour with the system package manager. It is recommended to use a virtual environment instead: https://pip.pypa.io/warnings/venv\u001b[0m\u001b[33m\n",
            "\u001b[0mLooking in indexes: https://pypi.org/simple, https://us-python.pkg.dev/colab-wheels/public/simple/\n",
            "Requirement already satisfied: transformers in /usr/local/lib/python3.8/dist-packages (4.25.1)\n",
            "Requirement already satisfied: packaging>=20.0 in /usr/local/lib/python3.8/dist-packages (from transformers) (21.3)\n",
            "Requirement already satisfied: filelock in /usr/local/lib/python3.8/dist-packages (from transformers) (3.8.0)\n",
            "Requirement already satisfied: pyyaml>=5.1 in /usr/local/lib/python3.8/dist-packages (from transformers) (6.0)\n",
            "Requirement already satisfied: tqdm>=4.27 in /usr/local/lib/python3.8/dist-packages (from transformers) (4.64.1)\n",
            "Requirement already satisfied: huggingface-hub<1.0,>=0.10.0 in /usr/local/lib/python3.8/dist-packages (from transformers) (0.11.1)\n",
            "Requirement already satisfied: requests in /usr/local/lib/python3.8/dist-packages (from transformers) (2.23.0)\n",
            "Requirement already satisfied: tokenizers!=0.11.3,<0.14,>=0.11.1 in /usr/local/lib/python3.8/dist-packages (from transformers) (0.13.2)\n",
            "Requirement already satisfied: numpy>=1.17 in /usr/local/lib/python3.8/dist-packages (from transformers) (1.21.6)\n",
            "Requirement already satisfied: regex!=2019.12.17 in /usr/local/lib/python3.8/dist-packages (from transformers) (2022.6.2)\n",
            "Requirement already satisfied: typing-extensions>=3.7.4.3 in /usr/local/lib/python3.8/dist-packages (from huggingface-hub<1.0,>=0.10.0->transformers) (4.4.0)\n",
            "Requirement already satisfied: pyparsing!=3.0.5,>=2.0.2 in /usr/local/lib/python3.8/dist-packages (from packaging>=20.0->transformers) (3.0.9)\n",
            "Requirement already satisfied: certifi>=2017.4.17 in /usr/local/lib/python3.8/dist-packages (from requests->transformers) (2022.9.24)\n",
            "Requirement already satisfied: idna<3,>=2.5 in /usr/local/lib/python3.8/dist-packages (from requests->transformers) (2.10)\n",
            "Requirement already satisfied: urllib3!=1.25.0,!=1.25.1,<1.26,>=1.21.1 in /usr/local/lib/python3.8/dist-packages (from requests->transformers) (1.25.11)\n",
            "Requirement already satisfied: chardet<4,>=3.0.2 in /usr/local/lib/python3.8/dist-packages (from requests->transformers) (3.0.4)\n",
            "\u001b[33mWARNING: Running pip as the 'root' user can result in broken permissions and conflicting behaviour with the system package manager. It is recommended to use a virtual environment instead: https://pip.pypa.io/warnings/venv\u001b[0m\u001b[33m\n",
            "\u001b[0mLooking in indexes: https://pypi.org/simple, https://us-python.pkg.dev/colab-wheels/public/simple/\n",
            "Requirement already satisfied: tqdm in /usr/local/lib/python3.8/dist-packages (4.64.1)\n",
            "\u001b[33mWARNING: Running pip as the 'root' user can result in broken permissions and conflicting behaviour with the system package manager. It is recommended to use a virtual environment instead: https://pip.pypa.io/warnings/venv\u001b[0m\u001b[33m\n",
            "\u001b[0m"
          ]
        }
      ],
      "source": [
        "! pip install --upgrade pip\n",
        "! pip install transformers\n",
        "! pip install tqdm"
      ]
    },
    {
      "cell_type": "markdown",
      "metadata": {
        "id": "kpHFYYTKKuLP"
      },
      "source": [
        "## Data"
      ]
    },
    {
      "cell_type": "markdown",
      "metadata": {
        "id": "b0oPGqR4Hq_r"
      },
      "source": [
        "Downloading the Twitter dataset from the Multilingual Tweet Intimacy Analysis Codalab competition ([source](https://codalab.lisn.upsaclay.fr/competitions/7096#learn_the_details-overview))."
      ]
    },
    {
      "cell_type": "code",
      "execution_count": null,
      "metadata": {
        "id": "_5UYoLaAaF5E",
        "colab": {
          "base_uri": "https://localhost:8080/"
        },
        "outputId": "a6398612-0964-44b3-aa47-3d5eae116669"
      },
      "outputs": [
        {
          "output_type": "stream",
          "name": "stdout",
          "text": [
            "--2022-12-08 12:58:13--  https://raw.githubusercontent.com/aishafarooque/Tweet-Intimacy-Analysis/main/train.csv\n",
            "Resolving raw.githubusercontent.com (raw.githubusercontent.com)... 185.199.108.133, 185.199.109.133, 185.199.110.133, ...\n",
            "Connecting to raw.githubusercontent.com (raw.githubusercontent.com)|185.199.108.133|:443... connected.\n",
            "HTTP request sent, awaiting response... 200 OK\n",
            "Length: 813066 (794K) [text/plain]\n",
            "Saving to: ‘/content/train.csv’\n",
            "\n",
            "train.csv           100%[===================>] 794.01K  --.-KB/s    in 0.03s   \n",
            "\n",
            "2022-12-08 12:58:13 (24.3 MB/s) - ‘/content/train.csv’ saved [813066/813066]\n",
            "\n"
          ]
        }
      ],
      "source": [
        "# Remove Twitter's train.csv if it already exists\n",
        "! rm -rf train.csv\n",
        "\n",
        "# Download Twitter's training data\n",
        "! wget -P /content https://raw.githubusercontent.com/aishafarooque/Tweet-Intimacy-Analysis/main/train.csv\n",
        "\n",
        "# Rename train.csv -> twitter_train.csv for more clarity\n",
        "! mv /content/train.csv /content/twitter_train.csv"
      ]
    },
    {
      "cell_type": "markdown",
      "metadata": {
        "id": "nDC_-zTmH4-X"
      },
      "source": [
        "Downloading the Reddit dataset from the author's GitHub repository: Quantifying-Intimacy-in-Language\n",
        " ([source](https://github.com/Jiaxin-Pei/Quantifying-Intimacy-in-Language/blob/main/data/annotated_question_intimacy_data.zip))."
      ]
    },
    {
      "cell_type": "code",
      "execution_count": null,
      "metadata": {
        "id": "bWDkJH8tH_tD",
        "colab": {
          "base_uri": "https://localhost:8080/"
        },
        "outputId": "1781534f-b573-4252-fed1-ca09a03086f3"
      },
      "outputs": [
        {
          "output_type": "stream",
          "name": "stdout",
          "text": [
            "--2022-12-08 12:58:15--  https://raw.githubusercontent.com/Jiaxin%2DPei/Quantifying%2DIntimacy%2Din%2DLanguage/main/data/annotated_question_intimacy_data.zip\n",
            "Resolving raw.githubusercontent.com (raw.githubusercontent.com)... 185.199.108.133, 185.199.109.133, 185.199.110.133, ...\n",
            "Connecting to raw.githubusercontent.com (raw.githubusercontent.com)|185.199.108.133|:443... connected.\n",
            "HTTP request sent, awaiting response... 200 OK\n",
            "Length: 94741 (93K) [application/zip]\n",
            "Saving to: ‘/content/annotated_question_intimacy_data.zip’\n",
            "\n",
            "annotated_question_ 100%[===================>]  92.52K  --.-KB/s    in 0.01s   \n",
            "\n",
            "2022-12-08 12:58:15 (9.50 MB/s) - ‘/content/annotated_question_intimacy_data.zip’ saved [94741/94741]\n",
            "\n",
            "Archive:  /content/annotated_question_intimacy_data.zip\n",
            "   creating: /content/annotated_question_intimacy_data/\n",
            "  inflating: /content/annotated_question_intimacy_data/final_train.txt  \n",
            "   creating: /content/__MACOSX/\n",
            "   creating: /content/__MACOSX/annotated_question_intimacy_data/\n",
            "  inflating: /content/__MACOSX/annotated_question_intimacy_data/._final_train.txt  \n",
            "  inflating: /content/annotated_question_intimacy_data/final_val.txt  \n",
            "  inflating: /content/__MACOSX/annotated_question_intimacy_data/._final_val.txt  \n",
            "  inflating: /content/annotated_question_intimacy_data/final_test.txt  \n",
            "  inflating: /content/__MACOSX/annotated_question_intimacy_data/._final_test.txt  \n",
            "  inflating: /content/annotated_question_intimacy_data/final_external.txt  \n"
          ]
        }
      ],
      "source": [
        "# Sanitize working directory\n",
        "! rm -rf /content/__MACOSX\n",
        "! rm -rf /content/annotated_question_intimacy_data\n",
        "\n",
        "# Removing the .zip file if it already exists.\n",
        "! rm -rf /content/annotated_question_intimacy_data.zip\n",
        "\n",
        "# Download the dataset from the author's GitHub repository.\n",
        "! wget -P /content https://raw.githubusercontent.com/Jiaxin%2DPei/Quantifying%2DIntimacy%2Din%2DLanguage/main/data/annotated_question_intimacy_data.zip\n",
        "\n",
        "# Unzip the file. \n",
        "! unzip /content/annotated_question_intimacy_data.zip -d /content/"
      ]
    },
    {
      "cell_type": "markdown",
      "metadata": {
        "id": "Opsn06XGc9z5"
      },
      "source": [
        "## Data fact study"
      ]
    },
    {
      "cell_type": "markdown",
      "metadata": {
        "id": "mv0p2FnOS2XK"
      },
      "source": [
        "### Twitter Dataset"
      ]
    },
    {
      "cell_type": "markdown",
      "metadata": {
        "id": "z0UHCkZzMSso"
      },
      "source": [
        "The Twitter dataset has a total of 9491 rows and 3 columns which are:\n",
        "* Tweet - Textual content of the tweet\n",
        "* Intimacy Label - Intimacy score of the tweet, ranging from 1 (least intimate) to 5 (most intimate).\n",
        "* Language - The language the tweet is written in. There are six languages in this datasset:  English, Spanish, Italian, Portuguese, French, and Chinese."
      ]
    },
    {
      "cell_type": "code",
      "execution_count": null,
      "metadata": {
        "colab": {
          "base_uri": "https://localhost:8080/"
        },
        "id": "eKCYp1TGbX7i",
        "outputId": "a83d5f01-6af8-4452-d4dd-c3883de5980b"
      },
      "outputs": [
        {
          "output_type": "stream",
          "name": "stdout",
          "text": [
            "Dataset size: 9491 \n",
            "\n",
            "<class 'pandas.core.frame.DataFrame'>\n",
            "RangeIndex: 9491 entries, 0 to 9490\n",
            "Data columns (total 3 columns):\n",
            " #   Column    Non-Null Count  Dtype  \n",
            "---  ------    --------------  -----  \n",
            " 0   document  9491 non-null   object \n",
            " 1   label     9491 non-null   float64\n",
            " 2   language  9491 non-null   object \n",
            "dtypes: float64(1), object(2)\n",
            "memory usage: 222.6+ KB\n"
          ]
        }
      ],
      "source": [
        "import pandas as pd\n",
        "\n",
        "twitter_df_train = pd.read_csv('/content/twitter_train.csv', on_bad_lines='skip')\n",
        "twitter_df_train = twitter_df_train.rename(columns={'text': 'document', 'label': 'label'})\n",
        "\n",
        "print(\"Dataset size:\", len(twitter_df_train), '\\n')\n",
        "twitter_df_train.info()"
      ]
    },
    {
      "cell_type": "code",
      "execution_count": null,
      "metadata": {
        "id": "Sh0Jytk4MNHZ",
        "colab": {
          "base_uri": "https://localhost:8080/"
        },
        "outputId": "3b2aa2fb-dec0-4cc9-9e35-bf1d1af9e31c"
      },
      "outputs": [
        {
          "output_type": "execute_result",
          "data": {
            "text/plain": [
              "                                               document  label    language\n",
              "9468  @user @user @user @user @user @user @zlj517 从油...   3.25     Chinese\n",
              "5734        @user Sai quanti tonni ci sono in Italia 😂😂   2.40     Italian\n",
              "3226  @user Cara, revendo o filme pela 50ª vez eu fi...   2.00  Portuguese\n",
              "7839                                   @user T’en a pas   1.00      French\n",
              "8534             @user @user @user @user 🤣🤣🤣還是我拍照把自己拍矮了   2.80     Chinese"
            ],
            "text/html": [
              "\n",
              "  <div id=\"df-023043c8-20dc-43d0-ab12-20bd0982e86a\">\n",
              "    <div class=\"colab-df-container\">\n",
              "      <div>\n",
              "<style scoped>\n",
              "    .dataframe tbody tr th:only-of-type {\n",
              "        vertical-align: middle;\n",
              "    }\n",
              "\n",
              "    .dataframe tbody tr th {\n",
              "        vertical-align: top;\n",
              "    }\n",
              "\n",
              "    .dataframe thead th {\n",
              "        text-align: right;\n",
              "    }\n",
              "</style>\n",
              "<table border=\"1\" class=\"dataframe\">\n",
              "  <thead>\n",
              "    <tr style=\"text-align: right;\">\n",
              "      <th></th>\n",
              "      <th>document</th>\n",
              "      <th>label</th>\n",
              "      <th>language</th>\n",
              "    </tr>\n",
              "  </thead>\n",
              "  <tbody>\n",
              "    <tr>\n",
              "      <th>9468</th>\n",
              "      <td>@user @user @user @user @user @user @zlj517 从油...</td>\n",
              "      <td>3.25</td>\n",
              "      <td>Chinese</td>\n",
              "    </tr>\n",
              "    <tr>\n",
              "      <th>5734</th>\n",
              "      <td>@user Sai quanti tonni ci sono in Italia 😂😂</td>\n",
              "      <td>2.40</td>\n",
              "      <td>Italian</td>\n",
              "    </tr>\n",
              "    <tr>\n",
              "      <th>3226</th>\n",
              "      <td>@user Cara, revendo o filme pela 50ª vez eu fi...</td>\n",
              "      <td>2.00</td>\n",
              "      <td>Portuguese</td>\n",
              "    </tr>\n",
              "    <tr>\n",
              "      <th>7839</th>\n",
              "      <td>@user T’en a pas</td>\n",
              "      <td>1.00</td>\n",
              "      <td>French</td>\n",
              "    </tr>\n",
              "    <tr>\n",
              "      <th>8534</th>\n",
              "      <td>@user @user @user @user 🤣🤣🤣還是我拍照把自己拍矮了</td>\n",
              "      <td>2.80</td>\n",
              "      <td>Chinese</td>\n",
              "    </tr>\n",
              "  </tbody>\n",
              "</table>\n",
              "</div>\n",
              "      <button class=\"colab-df-convert\" onclick=\"convertToInteractive('df-023043c8-20dc-43d0-ab12-20bd0982e86a')\"\n",
              "              title=\"Convert this dataframe to an interactive table.\"\n",
              "              style=\"display:none;\">\n",
              "        \n",
              "  <svg xmlns=\"http://www.w3.org/2000/svg\" height=\"24px\"viewBox=\"0 0 24 24\"\n",
              "       width=\"24px\">\n",
              "    <path d=\"M0 0h24v24H0V0z\" fill=\"none\"/>\n",
              "    <path d=\"M18.56 5.44l.94 2.06.94-2.06 2.06-.94-2.06-.94-.94-2.06-.94 2.06-2.06.94zm-11 1L8.5 8.5l.94-2.06 2.06-.94-2.06-.94L8.5 2.5l-.94 2.06-2.06.94zm10 10l.94 2.06.94-2.06 2.06-.94-2.06-.94-.94-2.06-.94 2.06-2.06.94z\"/><path d=\"M17.41 7.96l-1.37-1.37c-.4-.4-.92-.59-1.43-.59-.52 0-1.04.2-1.43.59L10.3 9.45l-7.72 7.72c-.78.78-.78 2.05 0 2.83L4 21.41c.39.39.9.59 1.41.59.51 0 1.02-.2 1.41-.59l7.78-7.78 2.81-2.81c.8-.78.8-2.07 0-2.86zM5.41 20L4 18.59l7.72-7.72 1.47 1.35L5.41 20z\"/>\n",
              "  </svg>\n",
              "      </button>\n",
              "      \n",
              "  <style>\n",
              "    .colab-df-container {\n",
              "      display:flex;\n",
              "      flex-wrap:wrap;\n",
              "      gap: 12px;\n",
              "    }\n",
              "\n",
              "    .colab-df-convert {\n",
              "      background-color: #E8F0FE;\n",
              "      border: none;\n",
              "      border-radius: 50%;\n",
              "      cursor: pointer;\n",
              "      display: none;\n",
              "      fill: #1967D2;\n",
              "      height: 32px;\n",
              "      padding: 0 0 0 0;\n",
              "      width: 32px;\n",
              "    }\n",
              "\n",
              "    .colab-df-convert:hover {\n",
              "      background-color: #E2EBFA;\n",
              "      box-shadow: 0px 1px 2px rgba(60, 64, 67, 0.3), 0px 1px 3px 1px rgba(60, 64, 67, 0.15);\n",
              "      fill: #174EA6;\n",
              "    }\n",
              "\n",
              "    [theme=dark] .colab-df-convert {\n",
              "      background-color: #3B4455;\n",
              "      fill: #D2E3FC;\n",
              "    }\n",
              "\n",
              "    [theme=dark] .colab-df-convert:hover {\n",
              "      background-color: #434B5C;\n",
              "      box-shadow: 0px 1px 3px 1px rgba(0, 0, 0, 0.15);\n",
              "      filter: drop-shadow(0px 1px 2px rgba(0, 0, 0, 0.3));\n",
              "      fill: #FFFFFF;\n",
              "    }\n",
              "  </style>\n",
              "\n",
              "      <script>\n",
              "        const buttonEl =\n",
              "          document.querySelector('#df-023043c8-20dc-43d0-ab12-20bd0982e86a button.colab-df-convert');\n",
              "        buttonEl.style.display =\n",
              "          google.colab.kernel.accessAllowed ? 'block' : 'none';\n",
              "\n",
              "        async function convertToInteractive(key) {\n",
              "          const element = document.querySelector('#df-023043c8-20dc-43d0-ab12-20bd0982e86a');\n",
              "          const dataTable =\n",
              "            await google.colab.kernel.invokeFunction('convertToInteractive',\n",
              "                                                     [key], {});\n",
              "          if (!dataTable) return;\n",
              "\n",
              "          const docLinkHtml = 'Like what you see? Visit the ' +\n",
              "            '<a target=\"_blank\" href=https://colab.research.google.com/notebooks/data_table.ipynb>data table notebook</a>'\n",
              "            + ' to learn more about interactive tables.';\n",
              "          element.innerHTML = '';\n",
              "          dataTable['output_type'] = 'display_data';\n",
              "          await google.colab.output.renderOutput(dataTable, element);\n",
              "          const docLink = document.createElement('div');\n",
              "          docLink.innerHTML = docLinkHtml;\n",
              "          element.appendChild(docLink);\n",
              "        }\n",
              "      </script>\n",
              "    </div>\n",
              "  </div>\n",
              "  "
            ]
          },
          "metadata": {},
          "execution_count": 46
        }
      ],
      "source": [
        "twitter_df_train.sample(5)"
      ]
    },
    {
      "cell_type": "markdown",
      "metadata": {
        "id": "yhpoAUc_P1y3"
      },
      "source": [
        "Looking at the distribution of tweets in the dataset we can see that, approximately, there are equal number of tweets across all six languages."
      ]
    },
    {
      "cell_type": "code",
      "execution_count": null,
      "metadata": {
        "id": "aJQ8hf5OP1Hs",
        "colab": {
          "base_uri": "https://localhost:8080/"
        },
        "outputId": "2430bc38-c257-4f6b-b7e3-bd254068f398"
      },
      "outputs": [
        {
          "output_type": "execute_result",
          "data": {
            "text/plain": [
              "<pandas.io.formats.style.Styler at 0x7f3c8282bd00>"
            ],
            "text/html": [
              "<style type=\"text/css\">\n",
              "#T_c5109_row0_col1, #T_c5109_row1_col1 {\n",
              "  background-color: #023858;\n",
              "  color: #f1f1f1;\n",
              "}\n",
              "#T_c5109_row2_col1 {\n",
              "  background-color: #034871;\n",
              "  color: #f1f1f1;\n",
              "}\n",
              "#T_c5109_row3_col1 {\n",
              "  background-color: #04598c;\n",
              "  color: #f1f1f1;\n",
              "}\n",
              "#T_c5109_row4_col1 {\n",
              "  background-color: #045c90;\n",
              "  color: #f1f1f1;\n",
              "}\n",
              "#T_c5109_row5_col1 {\n",
              "  background-color: #fff7fb;\n",
              "  color: #000000;\n",
              "}\n",
              "</style>\n",
              "<table id=\"T_c5109_\" class=\"dataframe\">\n",
              "  <thead>\n",
              "    <tr>\n",
              "      <th class=\"blank level0\" >&nbsp;</th>\n",
              "      <th class=\"col_heading level0 col0\" >language</th>\n",
              "      <th class=\"col_heading level0 col1\" >document</th>\n",
              "    </tr>\n",
              "  </thead>\n",
              "  <tbody>\n",
              "    <tr>\n",
              "      <th id=\"T_c5109_level0_row0\" class=\"row_heading level0 row0\" >0</th>\n",
              "      <td id=\"T_c5109_row0_col0\" class=\"data row0 col0\" >Chinese</td>\n",
              "      <td id=\"T_c5109_row0_col1\" class=\"data row0 col1\" >1596</td>\n",
              "    </tr>\n",
              "    <tr>\n",
              "      <th id=\"T_c5109_level0_row1\" class=\"row_heading level0 row1\" >4</th>\n",
              "      <td id=\"T_c5109_row1_col0\" class=\"data row1 col0\" >Portuguese</td>\n",
              "      <td id=\"T_c5109_row1_col1\" class=\"data row1 col1\" >1596</td>\n",
              "    </tr>\n",
              "    <tr>\n",
              "      <th id=\"T_c5109_level0_row2\" class=\"row_heading level0 row2\" >5</th>\n",
              "      <td id=\"T_c5109_row2_col0\" class=\"data row2 col0\" >Spanish</td>\n",
              "      <td id=\"T_c5109_row2_col1\" class=\"data row2 col1\" >1592</td>\n",
              "    </tr>\n",
              "    <tr>\n",
              "      <th id=\"T_c5109_level0_row3\" class=\"row_heading level0 row3\" >2</th>\n",
              "      <td id=\"T_c5109_row3_col0\" class=\"data row3 col0\" >French</td>\n",
              "      <td id=\"T_c5109_row3_col1\" class=\"data row3 col1\" >1588</td>\n",
              "    </tr>\n",
              "    <tr>\n",
              "      <th id=\"T_c5109_level0_row4\" class=\"row_heading level0 row4\" >1</th>\n",
              "      <td id=\"T_c5109_row4_col0\" class=\"data row4 col0\" >English</td>\n",
              "      <td id=\"T_c5109_row4_col1\" class=\"data row4 col1\" >1587</td>\n",
              "    </tr>\n",
              "    <tr>\n",
              "      <th id=\"T_c5109_level0_row5\" class=\"row_heading level0 row5\" >3</th>\n",
              "      <td id=\"T_c5109_row5_col0\" class=\"data row5 col0\" >Italian</td>\n",
              "      <td id=\"T_c5109_row5_col1\" class=\"data row5 col1\" >1532</td>\n",
              "    </tr>\n",
              "  </tbody>\n",
              "</table>\n"
            ]
          },
          "metadata": {},
          "execution_count": 47
        }
      ],
      "source": [
        "tweet_distribution = twitter_df_train.groupby('language').count()['document']\\\n",
        "                      .reset_index().sort_values(by='document',ascending=False)\n",
        "tweet_distribution.style.background_gradient()"
      ]
    },
    {
      "cell_type": "markdown",
      "metadata": {
        "id": "-ILpCzzegdmC"
      },
      "source": [
        "### Reddit Dataset"
      ]
    },
    {
      "cell_type": "markdown",
      "metadata": {
        "id": "SPYMYQV6kWDA"
      },
      "source": [
        "The Reddit dataset has a total of 1797 rows and 2 columns which are:\n",
        "* Question - Textual content of the Reddit question in English\n",
        "* Intimacy Score - Intimacy score of the tweet, ranging from -1 (least intimate) to 1 (most intimate)."
      ]
    },
    {
      "cell_type": "code",
      "execution_count": null,
      "metadata": {
        "id": "Eq7g0U-gjApY",
        "colab": {
          "base_uri": "https://localhost:8080/"
        },
        "outputId": "99789c65-6fbc-4a11-b3d5-4afc24440c08"
      },
      "outputs": [
        {
          "output_type": "stream",
          "name": "stdout",
          "text": [
            "Dataset size: 1797 \n",
            "\n",
            "<class 'pandas.core.frame.DataFrame'>\n",
            "RangeIndex: 1797 entries, 0 to 1796\n",
            "Data columns (total 2 columns):\n",
            " #   Column    Non-Null Count  Dtype  \n",
            "---  ------    --------------  -----  \n",
            " 0   document  1797 non-null   object \n",
            " 1   label     1797 non-null   float64\n",
            "dtypes: float64(1), object(1)\n",
            "memory usage: 28.2+ KB\n"
          ]
        }
      ],
      "source": [
        "reddit_df_train = pd.read_csv('/content/annotated_question_intimacy_data/final_train.txt', \n",
        "                              sep='\\t', header=None, names=['document', 'label'])\n",
        "\n",
        "print(\"Dataset size:\", len(reddit_df_train), '\\n')\n",
        "reddit_df_train.info()"
      ]
    },
    {
      "cell_type": "code",
      "execution_count": null,
      "metadata": {
        "id": "EjEPL_CmkuNt",
        "colab": {
          "base_uri": "https://localhost:8080/"
        },
        "outputId": "7472abc2-9e47-4042-a71a-e5f7a44896c4"
      },
      "outputs": [
        {
          "output_type": "execute_result",
          "data": {
            "text/plain": [
              "                                            document     label\n",
              "0  What are the most mediocre animals in the anim... -0.338354\n",
              "1  What's the difference between an allergic reac...  0.035508\n",
              "2  What is your favorite subreddit that not every...  0.047134\n",
              "3  What's the most disgusting meal you've ever ea...  0.247764\n",
              "4           Whats one question you hate being asked?  0.516920"
            ],
            "text/html": [
              "\n",
              "  <div id=\"df-5caf8ca4-c6a4-4c52-8961-203c1ced825e\">\n",
              "    <div class=\"colab-df-container\">\n",
              "      <div>\n",
              "<style scoped>\n",
              "    .dataframe tbody tr th:only-of-type {\n",
              "        vertical-align: middle;\n",
              "    }\n",
              "\n",
              "    .dataframe tbody tr th {\n",
              "        vertical-align: top;\n",
              "    }\n",
              "\n",
              "    .dataframe thead th {\n",
              "        text-align: right;\n",
              "    }\n",
              "</style>\n",
              "<table border=\"1\" class=\"dataframe\">\n",
              "  <thead>\n",
              "    <tr style=\"text-align: right;\">\n",
              "      <th></th>\n",
              "      <th>document</th>\n",
              "      <th>label</th>\n",
              "    </tr>\n",
              "  </thead>\n",
              "  <tbody>\n",
              "    <tr>\n",
              "      <th>0</th>\n",
              "      <td>What are the most mediocre animals in the anim...</td>\n",
              "      <td>-0.338354</td>\n",
              "    </tr>\n",
              "    <tr>\n",
              "      <th>1</th>\n",
              "      <td>What's the difference between an allergic reac...</td>\n",
              "      <td>0.035508</td>\n",
              "    </tr>\n",
              "    <tr>\n",
              "      <th>2</th>\n",
              "      <td>What is your favorite subreddit that not every...</td>\n",
              "      <td>0.047134</td>\n",
              "    </tr>\n",
              "    <tr>\n",
              "      <th>3</th>\n",
              "      <td>What's the most disgusting meal you've ever ea...</td>\n",
              "      <td>0.247764</td>\n",
              "    </tr>\n",
              "    <tr>\n",
              "      <th>4</th>\n",
              "      <td>Whats one question you hate being asked?</td>\n",
              "      <td>0.516920</td>\n",
              "    </tr>\n",
              "  </tbody>\n",
              "</table>\n",
              "</div>\n",
              "      <button class=\"colab-df-convert\" onclick=\"convertToInteractive('df-5caf8ca4-c6a4-4c52-8961-203c1ced825e')\"\n",
              "              title=\"Convert this dataframe to an interactive table.\"\n",
              "              style=\"display:none;\">\n",
              "        \n",
              "  <svg xmlns=\"http://www.w3.org/2000/svg\" height=\"24px\"viewBox=\"0 0 24 24\"\n",
              "       width=\"24px\">\n",
              "    <path d=\"M0 0h24v24H0V0z\" fill=\"none\"/>\n",
              "    <path d=\"M18.56 5.44l.94 2.06.94-2.06 2.06-.94-2.06-.94-.94-2.06-.94 2.06-2.06.94zm-11 1L8.5 8.5l.94-2.06 2.06-.94-2.06-.94L8.5 2.5l-.94 2.06-2.06.94zm10 10l.94 2.06.94-2.06 2.06-.94-2.06-.94-.94-2.06-.94 2.06-2.06.94z\"/><path d=\"M17.41 7.96l-1.37-1.37c-.4-.4-.92-.59-1.43-.59-.52 0-1.04.2-1.43.59L10.3 9.45l-7.72 7.72c-.78.78-.78 2.05 0 2.83L4 21.41c.39.39.9.59 1.41.59.51 0 1.02-.2 1.41-.59l7.78-7.78 2.81-2.81c.8-.78.8-2.07 0-2.86zM5.41 20L4 18.59l7.72-7.72 1.47 1.35L5.41 20z\"/>\n",
              "  </svg>\n",
              "      </button>\n",
              "      \n",
              "  <style>\n",
              "    .colab-df-container {\n",
              "      display:flex;\n",
              "      flex-wrap:wrap;\n",
              "      gap: 12px;\n",
              "    }\n",
              "\n",
              "    .colab-df-convert {\n",
              "      background-color: #E8F0FE;\n",
              "      border: none;\n",
              "      border-radius: 50%;\n",
              "      cursor: pointer;\n",
              "      display: none;\n",
              "      fill: #1967D2;\n",
              "      height: 32px;\n",
              "      padding: 0 0 0 0;\n",
              "      width: 32px;\n",
              "    }\n",
              "\n",
              "    .colab-df-convert:hover {\n",
              "      background-color: #E2EBFA;\n",
              "      box-shadow: 0px 1px 2px rgba(60, 64, 67, 0.3), 0px 1px 3px 1px rgba(60, 64, 67, 0.15);\n",
              "      fill: #174EA6;\n",
              "    }\n",
              "\n",
              "    [theme=dark] .colab-df-convert {\n",
              "      background-color: #3B4455;\n",
              "      fill: #D2E3FC;\n",
              "    }\n",
              "\n",
              "    [theme=dark] .colab-df-convert:hover {\n",
              "      background-color: #434B5C;\n",
              "      box-shadow: 0px 1px 3px 1px rgba(0, 0, 0, 0.15);\n",
              "      filter: drop-shadow(0px 1px 2px rgba(0, 0, 0, 0.3));\n",
              "      fill: #FFFFFF;\n",
              "    }\n",
              "  </style>\n",
              "\n",
              "      <script>\n",
              "        const buttonEl =\n",
              "          document.querySelector('#df-5caf8ca4-c6a4-4c52-8961-203c1ced825e button.colab-df-convert');\n",
              "        buttonEl.style.display =\n",
              "          google.colab.kernel.accessAllowed ? 'block' : 'none';\n",
              "\n",
              "        async function convertToInteractive(key) {\n",
              "          const element = document.querySelector('#df-5caf8ca4-c6a4-4c52-8961-203c1ced825e');\n",
              "          const dataTable =\n",
              "            await google.colab.kernel.invokeFunction('convertToInteractive',\n",
              "                                                     [key], {});\n",
              "          if (!dataTable) return;\n",
              "\n",
              "          const docLinkHtml = 'Like what you see? Visit the ' +\n",
              "            '<a target=\"_blank\" href=https://colab.research.google.com/notebooks/data_table.ipynb>data table notebook</a>'\n",
              "            + ' to learn more about interactive tables.';\n",
              "          element.innerHTML = '';\n",
              "          dataTable['output_type'] = 'display_data';\n",
              "          await google.colab.output.renderOutput(dataTable, element);\n",
              "          const docLink = document.createElement('div');\n",
              "          docLink.innerHTML = docLinkHtml;\n",
              "          element.appendChild(docLink);\n",
              "        }\n",
              "      </script>\n",
              "    </div>\n",
              "  </div>\n",
              "  "
            ]
          },
          "metadata": {},
          "execution_count": 49
        }
      ],
      "source": [
        "reddit_df_train.head()"
      ]
    },
    {
      "cell_type": "markdown",
      "metadata": {
        "id": "gkGy0Ypl8I-y"
      },
      "source": [
        "#### Performing Linear Mapping on the Reddit Dataset\n",
        "\n",
        "Since the ```intimacy_scores``` in the Reddit dataset is on a range from -1 to 1, we will linearly map them from 1 to 5. The linear mapping with maintain a constant ratio between the points. \n",
        "\n",
        "We will perform the following:\n",
        "- A scaling operation to adjust the ranges to the same size, and\n",
        "- An offset operation to adjust range alignment. \n",
        "\n",
        "Source: http://learnwebgl.brown37.net/08_projections/projections_mapping.html "
      ]
    },
    {
      "cell_type": "code",
      "execution_count": null,
      "metadata": {
        "id": "gsOU_Stk9bSn",
        "colab": {
          "base_uri": "https://localhost:8080/"
        },
        "outputId": "807584d1-544f-4c8e-caab-519461e30625"
      },
      "outputs": [
        {
          "output_type": "execute_result",
          "data": {
            "text/plain": [
              "                                            document  label\n",
              "0  What are the most mediocre animals in the anim...    2.3\n",
              "1  What's the difference between an allergic reac...    3.1\n",
              "2  What is your favorite subreddit that not every...    3.1\n",
              "3  What's the most disgusting meal you've ever ea...    3.5\n",
              "4           Whats one question you hate being asked?    4.0"
            ],
            "text/html": [
              "\n",
              "  <div id=\"df-cf5adf1f-5302-4c43-a368-ea311516d6d9\">\n",
              "    <div class=\"colab-df-container\">\n",
              "      <div>\n",
              "<style scoped>\n",
              "    .dataframe tbody tr th:only-of-type {\n",
              "        vertical-align: middle;\n",
              "    }\n",
              "\n",
              "    .dataframe tbody tr th {\n",
              "        vertical-align: top;\n",
              "    }\n",
              "\n",
              "    .dataframe thead th {\n",
              "        text-align: right;\n",
              "    }\n",
              "</style>\n",
              "<table border=\"1\" class=\"dataframe\">\n",
              "  <thead>\n",
              "    <tr style=\"text-align: right;\">\n",
              "      <th></th>\n",
              "      <th>document</th>\n",
              "      <th>label</th>\n",
              "    </tr>\n",
              "  </thead>\n",
              "  <tbody>\n",
              "    <tr>\n",
              "      <th>0</th>\n",
              "      <td>What are the most mediocre animals in the anim...</td>\n",
              "      <td>2.3</td>\n",
              "    </tr>\n",
              "    <tr>\n",
              "      <th>1</th>\n",
              "      <td>What's the difference between an allergic reac...</td>\n",
              "      <td>3.1</td>\n",
              "    </tr>\n",
              "    <tr>\n",
              "      <th>2</th>\n",
              "      <td>What is your favorite subreddit that not every...</td>\n",
              "      <td>3.1</td>\n",
              "    </tr>\n",
              "    <tr>\n",
              "      <th>3</th>\n",
              "      <td>What's the most disgusting meal you've ever ea...</td>\n",
              "      <td>3.5</td>\n",
              "    </tr>\n",
              "    <tr>\n",
              "      <th>4</th>\n",
              "      <td>Whats one question you hate being asked?</td>\n",
              "      <td>4.0</td>\n",
              "    </tr>\n",
              "  </tbody>\n",
              "</table>\n",
              "</div>\n",
              "      <button class=\"colab-df-convert\" onclick=\"convertToInteractive('df-cf5adf1f-5302-4c43-a368-ea311516d6d9')\"\n",
              "              title=\"Convert this dataframe to an interactive table.\"\n",
              "              style=\"display:none;\">\n",
              "        \n",
              "  <svg xmlns=\"http://www.w3.org/2000/svg\" height=\"24px\"viewBox=\"0 0 24 24\"\n",
              "       width=\"24px\">\n",
              "    <path d=\"M0 0h24v24H0V0z\" fill=\"none\"/>\n",
              "    <path d=\"M18.56 5.44l.94 2.06.94-2.06 2.06-.94-2.06-.94-.94-2.06-.94 2.06-2.06.94zm-11 1L8.5 8.5l.94-2.06 2.06-.94-2.06-.94L8.5 2.5l-.94 2.06-2.06.94zm10 10l.94 2.06.94-2.06 2.06-.94-2.06-.94-.94-2.06-.94 2.06-2.06.94z\"/><path d=\"M17.41 7.96l-1.37-1.37c-.4-.4-.92-.59-1.43-.59-.52 0-1.04.2-1.43.59L10.3 9.45l-7.72 7.72c-.78.78-.78 2.05 0 2.83L4 21.41c.39.39.9.59 1.41.59.51 0 1.02-.2 1.41-.59l7.78-7.78 2.81-2.81c.8-.78.8-2.07 0-2.86zM5.41 20L4 18.59l7.72-7.72 1.47 1.35L5.41 20z\"/>\n",
              "  </svg>\n",
              "      </button>\n",
              "      \n",
              "  <style>\n",
              "    .colab-df-container {\n",
              "      display:flex;\n",
              "      flex-wrap:wrap;\n",
              "      gap: 12px;\n",
              "    }\n",
              "\n",
              "    .colab-df-convert {\n",
              "      background-color: #E8F0FE;\n",
              "      border: none;\n",
              "      border-radius: 50%;\n",
              "      cursor: pointer;\n",
              "      display: none;\n",
              "      fill: #1967D2;\n",
              "      height: 32px;\n",
              "      padding: 0 0 0 0;\n",
              "      width: 32px;\n",
              "    }\n",
              "\n",
              "    .colab-df-convert:hover {\n",
              "      background-color: #E2EBFA;\n",
              "      box-shadow: 0px 1px 2px rgba(60, 64, 67, 0.3), 0px 1px 3px 1px rgba(60, 64, 67, 0.15);\n",
              "      fill: #174EA6;\n",
              "    }\n",
              "\n",
              "    [theme=dark] .colab-df-convert {\n",
              "      background-color: #3B4455;\n",
              "      fill: #D2E3FC;\n",
              "    }\n",
              "\n",
              "    [theme=dark] .colab-df-convert:hover {\n",
              "      background-color: #434B5C;\n",
              "      box-shadow: 0px 1px 3px 1px rgba(0, 0, 0, 0.15);\n",
              "      filter: drop-shadow(0px 1px 2px rgba(0, 0, 0, 0.3));\n",
              "      fill: #FFFFFF;\n",
              "    }\n",
              "  </style>\n",
              "\n",
              "      <script>\n",
              "        const buttonEl =\n",
              "          document.querySelector('#df-cf5adf1f-5302-4c43-a368-ea311516d6d9 button.colab-df-convert');\n",
              "        buttonEl.style.display =\n",
              "          google.colab.kernel.accessAllowed ? 'block' : 'none';\n",
              "\n",
              "        async function convertToInteractive(key) {\n",
              "          const element = document.querySelector('#df-cf5adf1f-5302-4c43-a368-ea311516d6d9');\n",
              "          const dataTable =\n",
              "            await google.colab.kernel.invokeFunction('convertToInteractive',\n",
              "                                                     [key], {});\n",
              "          if (!dataTable) return;\n",
              "\n",
              "          const docLinkHtml = 'Like what you see? Visit the ' +\n",
              "            '<a target=\"_blank\" href=https://colab.research.google.com/notebooks/data_table.ipynb>data table notebook</a>'\n",
              "            + ' to learn more about interactive tables.';\n",
              "          element.innerHTML = '';\n",
              "          dataTable['output_type'] = 'display_data';\n",
              "          await google.colab.output.renderOutput(dataTable, element);\n",
              "          const docLink = document.createElement('div');\n",
              "          docLink.innerHTML = docLinkHtml;\n",
              "          element.appendChild(docLink);\n",
              "        }\n",
              "      </script>\n",
              "    </div>\n",
              "  </div>\n",
              "  "
            ]
          },
          "metadata": {},
          "execution_count": 50
        }
      ],
      "source": [
        "A, B, C, D = -1, 1, 1, 5\n",
        "scale = (D-C)/(B-A)\n",
        "offset = -A*(D-C)/(B-A) + C\n",
        "\n",
        "for index, row in reddit_df_train.iterrows():\n",
        "  iScore = row['label']\n",
        "\n",
        "  # If the cell is re-run without clearing local variables, we'll\n",
        "  # double convert the values between the 1-5 range resulting in values between\n",
        "  # 5-10. This condition makes sure original scores from Reddit are not already\n",
        "  #  greater than 1. \n",
        "  if iScore > 1:\n",
        "    break\n",
        "\n",
        "  q = iScore * scale + offset\n",
        "  reddit_df_train.at[index, 'label'] = round(q, 1)\n",
        "  \n",
        "reddit_df_train.head()"
      ]
    },
    {
      "cell_type": "markdown",
      "metadata": {
        "id": "C18zWc2ytm1y"
      },
      "source": [
        "## Define the Tokenizer"
      ]
    },
    {
      "cell_type": "code",
      "execution_count": null,
      "metadata": {
        "colab": {
          "base_uri": "https://localhost:8080/"
        },
        "id": "cJgSdTICDnVY",
        "outputId": "28d8e405-fbb7-48eb-e763-f3b7929cf2f4"
      },
      "outputs": [
        {
          "output_type": "stream",
          "name": "stdout",
          "text": [
            "Looking in indexes: https://pypi.org/simple, https://us-python.pkg.dev/colab-wheels/public/simple/\n",
            "Requirement already satisfied: sentencepiece in /usr/local/lib/python3.8/dist-packages (0.1.97)\n",
            "\u001b[33mWARNING: Running pip as the 'root' user can result in broken permissions and conflicting behaviour with the system package manager. It is recommended to use a virtual environment instead: https://pip.pypa.io/warnings/venv\u001b[0m\u001b[33m\n",
            "\u001b[0mLooking in indexes: https://pypi.org/simple, https://us-python.pkg.dev/colab-wheels/public/simple/\n",
            "Requirement already satisfied: transformers in /usr/local/lib/python3.8/dist-packages (4.25.1)\n",
            "Requirement already satisfied: huggingface-hub<1.0,>=0.10.0 in /usr/local/lib/python3.8/dist-packages (from transformers) (0.11.1)\n",
            "Requirement already satisfied: tokenizers!=0.11.3,<0.14,>=0.11.1 in /usr/local/lib/python3.8/dist-packages (from transformers) (0.13.2)\n",
            "Requirement already satisfied: tqdm>=4.27 in /usr/local/lib/python3.8/dist-packages (from transformers) (4.64.1)\n",
            "Requirement already satisfied: packaging>=20.0 in /usr/local/lib/python3.8/dist-packages (from transformers) (21.3)\n",
            "Requirement already satisfied: filelock in /usr/local/lib/python3.8/dist-packages (from transformers) (3.8.0)\n",
            "Requirement already satisfied: regex!=2019.12.17 in /usr/local/lib/python3.8/dist-packages (from transformers) (2022.6.2)\n",
            "Requirement already satisfied: pyyaml>=5.1 in /usr/local/lib/python3.8/dist-packages (from transformers) (6.0)\n",
            "Requirement already satisfied: requests in /usr/local/lib/python3.8/dist-packages (from transformers) (2.23.0)\n",
            "Requirement already satisfied: numpy>=1.17 in /usr/local/lib/python3.8/dist-packages (from transformers) (1.21.6)\n",
            "Requirement already satisfied: typing-extensions>=3.7.4.3 in /usr/local/lib/python3.8/dist-packages (from huggingface-hub<1.0,>=0.10.0->transformers) (4.4.0)\n",
            "Requirement already satisfied: pyparsing!=3.0.5,>=2.0.2 in /usr/local/lib/python3.8/dist-packages (from packaging>=20.0->transformers) (3.0.9)\n",
            "Requirement already satisfied: urllib3!=1.25.0,!=1.25.1,<1.26,>=1.21.1 in /usr/local/lib/python3.8/dist-packages (from requests->transformers) (1.25.11)\n",
            "Requirement already satisfied: chardet<4,>=3.0.2 in /usr/local/lib/python3.8/dist-packages (from requests->transformers) (3.0.4)\n",
            "Requirement already satisfied: idna<3,>=2.5 in /usr/local/lib/python3.8/dist-packages (from requests->transformers) (2.10)\n",
            "Requirement already satisfied: certifi>=2017.4.17 in /usr/local/lib/python3.8/dist-packages (from requests->transformers) (2022.9.24)\n",
            "\u001b[33mWARNING: Running pip as the 'root' user can result in broken permissions and conflicting behaviour with the system package manager. It is recommended to use a virtual environment instead: https://pip.pypa.io/warnings/venv\u001b[0m\u001b[33m\n",
            "\u001b[0mLooking in indexes: https://pypi.org/simple, https://us-python.pkg.dev/colab-wheels/public/simple/\n",
            "Requirement already satisfied: seqeval in /usr/local/lib/python3.8/dist-packages (1.2.2)\n",
            "Requirement already satisfied: scikit-learn>=0.21.3 in /usr/local/lib/python3.8/dist-packages (from seqeval) (1.0.2)\n",
            "Requirement already satisfied: numpy>=1.14.0 in /usr/local/lib/python3.8/dist-packages (from seqeval) (1.21.6)\n",
            "Requirement already satisfied: joblib>=0.11 in /usr/local/lib/python3.8/dist-packages (from scikit-learn>=0.21.3->seqeval) (1.2.0)\n",
            "Requirement already satisfied: threadpoolctl>=2.0.0 in /usr/local/lib/python3.8/dist-packages (from scikit-learn>=0.21.3->seqeval) (3.1.0)\n",
            "Requirement already satisfied: scipy>=1.1.0 in /usr/local/lib/python3.8/dist-packages (from scikit-learn>=0.21.3->seqeval) (1.7.3)\n",
            "\u001b[33mWARNING: Running pip as the 'root' user can result in broken permissions and conflicting behaviour with the system package manager. It is recommended to use a virtual environment instead: https://pip.pypa.io/warnings/venv\u001b[0m\u001b[33m\n",
            "\u001b[0mLooking in indexes: https://pypi.org/simple, https://us-python.pkg.dev/colab-wheels/public/simple/\n",
            "Requirement already satisfied: bertviz in /usr/local/lib/python3.8/dist-packages (1.4.0)\n",
            "Requirement already satisfied: torch>=1.0 in /usr/local/lib/python3.8/dist-packages (from bertviz) (1.13.0+cu116)\n",
            "Requirement already satisfied: regex in /usr/local/lib/python3.8/dist-packages (from bertviz) (2022.6.2)\n",
            "Requirement already satisfied: boto3 in /usr/local/lib/python3.8/dist-packages (from bertviz) (1.26.25)\n",
            "Requirement already satisfied: tqdm in /usr/local/lib/python3.8/dist-packages (from bertviz) (4.64.1)\n",
            "Requirement already satisfied: sentencepiece in /usr/local/lib/python3.8/dist-packages (from bertviz) (0.1.97)\n",
            "Requirement already satisfied: requests in /usr/local/lib/python3.8/dist-packages (from bertviz) (2.23.0)\n",
            "Requirement already satisfied: transformers>=2.0 in /usr/local/lib/python3.8/dist-packages (from bertviz) (4.25.1)\n",
            "Requirement already satisfied: typing-extensions in /usr/local/lib/python3.8/dist-packages (from torch>=1.0->bertviz) (4.4.0)\n",
            "Requirement already satisfied: huggingface-hub<1.0,>=0.10.0 in /usr/local/lib/python3.8/dist-packages (from transformers>=2.0->bertviz) (0.11.1)\n",
            "Requirement already satisfied: filelock in /usr/local/lib/python3.8/dist-packages (from transformers>=2.0->bertviz) (3.8.0)\n",
            "Requirement already satisfied: pyyaml>=5.1 in /usr/local/lib/python3.8/dist-packages (from transformers>=2.0->bertviz) (6.0)\n",
            "Requirement already satisfied: packaging>=20.0 in /usr/local/lib/python3.8/dist-packages (from transformers>=2.0->bertviz) (21.3)\n",
            "Requirement already satisfied: tokenizers!=0.11.3,<0.14,>=0.11.1 in /usr/local/lib/python3.8/dist-packages (from transformers>=2.0->bertviz) (0.13.2)\n",
            "Requirement already satisfied: numpy>=1.17 in /usr/local/lib/python3.8/dist-packages (from transformers>=2.0->bertviz) (1.21.6)\n",
            "Requirement already satisfied: s3transfer<0.7.0,>=0.6.0 in /usr/local/lib/python3.8/dist-packages (from boto3->bertviz) (0.6.0)\n",
            "Requirement already satisfied: jmespath<2.0.0,>=0.7.1 in /usr/local/lib/python3.8/dist-packages (from boto3->bertviz) (1.0.1)\n",
            "Requirement already satisfied: botocore<1.30.0,>=1.29.25 in /usr/local/lib/python3.8/dist-packages (from boto3->bertviz) (1.29.25)\n",
            "Requirement already satisfied: idna<3,>=2.5 in /usr/local/lib/python3.8/dist-packages (from requests->bertviz) (2.10)\n",
            "Requirement already satisfied: chardet<4,>=3.0.2 in /usr/local/lib/python3.8/dist-packages (from requests->bertviz) (3.0.4)\n",
            "Requirement already satisfied: urllib3!=1.25.0,!=1.25.1,<1.26,>=1.21.1 in /usr/local/lib/python3.8/dist-packages (from requests->bertviz) (1.25.11)\n",
            "Requirement already satisfied: certifi>=2017.4.17 in /usr/local/lib/python3.8/dist-packages (from requests->bertviz) (2022.9.24)\n",
            "Requirement already satisfied: python-dateutil<3.0.0,>=2.1 in /usr/local/lib/python3.8/dist-packages (from botocore<1.30.0,>=1.29.25->boto3->bertviz) (2.8.2)\n",
            "Requirement already satisfied: pyparsing!=3.0.5,>=2.0.2 in /usr/local/lib/python3.8/dist-packages (from packaging>=20.0->transformers>=2.0->bertviz) (3.0.9)\n",
            "Requirement already satisfied: six>=1.5 in /usr/local/lib/python3.8/dist-packages (from python-dateutil<3.0.0,>=2.1->botocore<1.30.0,>=1.29.25->boto3->bertviz) (1.15.0)\n",
            "\u001b[33mWARNING: Running pip as the 'root' user can result in broken permissions and conflicting behaviour with the system package manager. It is recommended to use a virtual environment instead: https://pip.pypa.io/warnings/venv\u001b[0m\u001b[33m\n",
            "\u001b[0mLooking in indexes: https://pypi.org/simple, https://us-python.pkg.dev/colab-wheels/public/simple/\n",
            "Requirement already satisfied: datasets in /usr/local/lib/python3.8/dist-packages (2.7.1)\n",
            "Requirement already satisfied: xxhash in /usr/local/lib/python3.8/dist-packages (from datasets) (3.1.0)\n",
            "Requirement already satisfied: pyyaml>=5.1 in /usr/local/lib/python3.8/dist-packages (from datasets) (6.0)\n",
            "Requirement already satisfied: pandas in /usr/local/lib/python3.8/dist-packages (from datasets) (1.3.5)\n",
            "Requirement already satisfied: pyarrow>=6.0.0 in /usr/local/lib/python3.8/dist-packages (from datasets) (9.0.0)\n",
            "Requirement already satisfied: numpy>=1.17 in /usr/local/lib/python3.8/dist-packages (from datasets) (1.21.6)\n",
            "Requirement already satisfied: tqdm>=4.62.1 in /usr/local/lib/python3.8/dist-packages (from datasets) (4.64.1)\n",
            "Requirement already satisfied: responses<0.19 in /usr/local/lib/python3.8/dist-packages (from datasets) (0.18.0)\n",
            "Requirement already satisfied: aiohttp in /usr/local/lib/python3.8/dist-packages (from datasets) (3.8.3)\n",
            "Requirement already satisfied: fsspec[http]>=2021.11.1 in /usr/local/lib/python3.8/dist-packages (from datasets) (2022.11.0)\n",
            "Requirement already satisfied: packaging in /usr/local/lib/python3.8/dist-packages (from datasets) (21.3)\n",
            "Requirement already satisfied: huggingface-hub<1.0.0,>=0.2.0 in /usr/local/lib/python3.8/dist-packages (from datasets) (0.11.1)\n",
            "Requirement already satisfied: dill<0.3.7 in /usr/local/lib/python3.8/dist-packages (from datasets) (0.3.6)\n",
            "Requirement already satisfied: multiprocess in /usr/local/lib/python3.8/dist-packages (from datasets) (0.70.14)\n",
            "Requirement already satisfied: requests>=2.19.0 in /usr/local/lib/python3.8/dist-packages (from datasets) (2.23.0)\n",
            "Requirement already satisfied: yarl<2.0,>=1.0 in /usr/local/lib/python3.8/dist-packages (from aiohttp->datasets) (1.8.2)\n",
            "Requirement already satisfied: attrs>=17.3.0 in /usr/local/lib/python3.8/dist-packages (from aiohttp->datasets) (22.1.0)\n",
            "Requirement already satisfied: multidict<7.0,>=4.5 in /usr/local/lib/python3.8/dist-packages (from aiohttp->datasets) (6.0.3)\n",
            "Requirement already satisfied: charset-normalizer<3.0,>=2.0 in /usr/local/lib/python3.8/dist-packages (from aiohttp->datasets) (2.1.1)\n",
            "Requirement already satisfied: async-timeout<5.0,>=4.0.0a3 in /usr/local/lib/python3.8/dist-packages (from aiohttp->datasets) (4.0.2)\n",
            "Requirement already satisfied: frozenlist>=1.1.1 in /usr/local/lib/python3.8/dist-packages (from aiohttp->datasets) (1.3.3)\n",
            "Requirement already satisfied: aiosignal>=1.1.2 in /usr/local/lib/python3.8/dist-packages (from aiohttp->datasets) (1.3.1)\n",
            "Requirement already satisfied: filelock in /usr/local/lib/python3.8/dist-packages (from huggingface-hub<1.0.0,>=0.2.0->datasets) (3.8.0)\n",
            "Requirement already satisfied: typing-extensions>=3.7.4.3 in /usr/local/lib/python3.8/dist-packages (from huggingface-hub<1.0.0,>=0.2.0->datasets) (4.4.0)\n",
            "Requirement already satisfied: pyparsing!=3.0.5,>=2.0.2 in /usr/local/lib/python3.8/dist-packages (from packaging->datasets) (3.0.9)\n",
            "Requirement already satisfied: idna<3,>=2.5 in /usr/local/lib/python3.8/dist-packages (from requests>=2.19.0->datasets) (2.10)\n",
            "Requirement already satisfied: certifi>=2017.4.17 in /usr/local/lib/python3.8/dist-packages (from requests>=2.19.0->datasets) (2022.9.24)\n",
            "Requirement already satisfied: chardet<4,>=3.0.2 in /usr/local/lib/python3.8/dist-packages (from requests>=2.19.0->datasets) (3.0.4)\n",
            "Requirement already satisfied: urllib3!=1.25.0,!=1.25.1,<1.26,>=1.21.1 in /usr/local/lib/python3.8/dist-packages (from requests>=2.19.0->datasets) (1.25.11)\n",
            "Requirement already satisfied: python-dateutil>=2.7.3 in /usr/local/lib/python3.8/dist-packages (from pandas->datasets) (2.8.2)\n",
            "Requirement already satisfied: pytz>=2017.3 in /usr/local/lib/python3.8/dist-packages (from pandas->datasets) (2022.6)\n",
            "Requirement already satisfied: six>=1.5 in /usr/local/lib/python3.8/dist-packages (from python-dateutil>=2.7.3->pandas->datasets) (1.15.0)\n",
            "\u001b[33mWARNING: Running pip as the 'root' user can result in broken permissions and conflicting behaviour with the system package manager. It is recommended to use a virtual environment instead: https://pip.pypa.io/warnings/venv\u001b[0m\u001b[33m\n",
            "\u001b[0m"
          ]
        }
      ],
      "source": [
        "! pip install sentencepiece\n",
        "! pip install transformers\n",
        "! pip install seqeval\n",
        "! pip install bertviz\n",
        "! pip install datasets"
      ]
    },
    {
      "cell_type": "code",
      "execution_count": null,
      "metadata": {
        "id": "pA_etpKruiSs"
      },
      "outputs": [],
      "source": [
        "import datasets\n",
        "import transformers\n",
        "\n",
        "# set up verbosity of libraries\n",
        "datasets.utils.logging.set_verbosity_error()\n",
        "transformers.utils.logging.set_verbosity_error()"
      ]
    },
    {
      "cell_type": "code",
      "execution_count": null,
      "metadata": {
        "id": "AIOjqyZNoHzb"
      },
      "outputs": [],
      "source": [
        "import torch\n",
        "\n",
        "# Set up device. Recommend to use GPU to accelerate training\n",
        "DEVICE = 'cuda:0' if torch.cuda.is_available() else 'cpu'"
      ]
    },
    {
      "cell_type": "code",
      "execution_count": null,
      "metadata": {
        "id": "1Vdt36Ofu1Oq"
      },
      "outputs": [],
      "source": [
        "PRETRAINED_MODEL_NAME = f\"cardiffnlp/twitter-xlm-roberta-base-sentiment\"\n",
        "\n",
        "IGNORE_INDEX = -100"
      ]
    },
    {
      "cell_type": "code",
      "execution_count": null,
      "metadata": {
        "id": "KYDyN1-Lurnf",
        "colab": {
          "base_uri": "https://localhost:8080/"
        },
        "outputId": "6a42ddfd-b7d6-498f-c40c-d9ad19b011c4"
      },
      "outputs": [
        {
          "output_type": "execute_result",
          "data": {
            "text/plain": [
              "PreTrainedTokenizerFast(name_or_path='cardiffnlp/twitter-xlm-roberta-base-sentiment', vocab_size=250002, model_max_len=1000000000000000019884624838656, is_fast=True, padding_side='right', truncation_side='right', special_tokens={'bos_token': '<s>', 'eos_token': '</s>', 'unk_token': '<unk>', 'sep_token': '</s>', 'pad_token': '<pad>', 'cls_token': '<s>', 'mask_token': '<mask>'})"
            ]
          },
          "metadata": {},
          "execution_count": 55
        }
      ],
      "source": [
        "from transformers import AutoTokenizer\n",
        "\n",
        "tokenizer = AutoTokenizer.from_pretrained(PRETRAINED_MODEL_NAME)\n",
        "tokenizer"
      ]
    },
    {
      "cell_type": "markdown",
      "metadata": {
        "id": "psgQJz7bdFGB"
      },
      "source": [
        "## Data split\n",
        "\n",
        "The data will be split into training and testing datasets.\n",
        "The training dataset will be 80% of the data from the Reddit and Twitter datasets. This dataset will be used to fine tune the model. "
      ]
    },
    {
      "cell_type": "code",
      "execution_count": null,
      "metadata": {
        "id": "mNynH9HWQxIH"
      },
      "outputs": [],
      "source": [
        "# Declare constants for commonly used strings\n",
        "TWEET = 'tweet'\n",
        "REDDIT = 'reddit'\n",
        "TRAIN = 'train'\n",
        "TEST = 'test'\n",
        "COMBINED = 'combined'"
      ]
    },
    {
      "cell_type": "code",
      "execution_count": null,
      "metadata": {
        "id": "eo1bIjE8grhU"
      },
      "outputs": [],
      "source": [
        "def split_dataset(dataset, train_size, test_size):\n",
        "  X = dataset['document']\n",
        "  y = dataset['label']\n",
        "\n",
        "  # Bin size = 1.0\n",
        "  bins = np.linspace(start=1.0, stop=5.0, num=5)\n",
        "\n",
        "  binned_y = np.digitize(y, bins)\n",
        "  X_train, X_rem, y_train, y_rem = train_test_split(X, y, \n",
        "                                                    stratify=binned_y, \n",
        "                                                    train_size=train_size)\n",
        "\n",
        "  binned_y_rem = np.digitize(y_rem, bins)\n",
        "  X_test, X_valid, y_test, y_valid = train_test_split(X_rem, y_rem, \n",
        "                                                      stratify=binned_y_rem, \n",
        "                                                      test_size=test_size)\n",
        "  \n",
        "  print (f'X_train: {X_train.shape}, X_rem: {X_rem.shape}, y_train: {y_train.shape}, y_rem: {y_rem.shape}')\n",
        "  print (f'X_test: {X_test.shape}, X_valid: {X_valid.shape}, y_test: {y_test.shape}, y_valid: {y_valid.shape}')\n",
        "  \n",
        "  return {'train': {'X': X_train, 'y': y_train},\n",
        "          'test': {'X': X_test, 'y': y_test},\n",
        "          'valid': {'X': X_valid, 'y': y_valid}}"
      ]
    },
    {
      "cell_type": "code",
      "execution_count": null,
      "metadata": {
        "id": "NVRW-Cy1kI4q"
      },
      "outputs": [],
      "source": [
        "\"\"\"\n",
        "Combines collections from the same split of two datasets into one collection to use as a split of the combined dataset.\n",
        "\"\"\"\n",
        "def combine_sets(a, b):\n",
        "  # Simple concatenation. Is there another way we want to try combining them\n",
        "  #  (e.g. zipping/mixing them together?)\n",
        "  return [a_item for a_item in a] + [b_item for b_item in b]\n",
        "\n",
        "def combine_splits(a_split, b_split):\n",
        "  return {split_name: {variable: combine_sets(a_split[split_name][variable], b_split[split_name][variable]) \n",
        "                       for variable in a_split[split_name]} \n",
        "          for split_name in a_split}"
      ]
    },
    {
      "cell_type": "code",
      "execution_count": null,
      "metadata": {
        "id": "DJk6fqGMIWvm",
        "colab": {
          "base_uri": "https://localhost:8080/"
        },
        "outputId": "fc450558-ecb6-492a-8b6f-d2f9bc147398"
      },
      "outputs": [
        {
          "output_type": "stream",
          "name": "stdout",
          "text": [
            "X_train: (7592,), X_rem: (1899,), y_train: (7592,), y_rem: (1899,)\n",
            "X_test: (949,), X_valid: (950,), y_test: (949,), y_valid: (950,)\n",
            "X_train: (1437,), X_rem: (360,), y_train: (1437,), y_rem: (360,)\n",
            "X_test: (180,), X_valid: (180,), y_test: (180,), y_valid: (180,)\n"
          ]
        }
      ],
      "source": [
        "from sklearn.model_selection import train_test_split\n",
        "import numpy as np\n",
        "\n",
        "# Pull x and y values from dataframe\n",
        "datasets = {'tweet': twitter_df_train, 'reddit': reddit_df_train}\n",
        "\n",
        "# Define train:test:valid split ratios\n",
        "split_ratios = {'tweet': {'train_total_ratio': 0.8,\n",
        "                          'test_rem_ratio': 0.5},\n",
        "                \n",
        "                # Train:test:valid ratio of 8:1:1 for Reddit dataset\n",
        "                'reddit': {'train_total_ratio': 0.8,\n",
        "                           'test_rem_ratio': 0.5}}\n",
        "\n",
        "# Split individual tweet/reddit datasets\n",
        "split_datasets = {key: split_dataset(datasets[key], \n",
        "                                     split_ratios[key]['train_total_ratio'],\n",
        "                                     split_ratios[key]['test_rem_ratio'])\n",
        "                  for key in datasets}\n",
        "\n",
        "# Create and split combined dataset\n",
        "split_datasets['combined'] = combine_splits(split_datasets['tweet'], \n",
        "                                            split_datasets['reddit'])"
      ]
    },
    {
      "cell_type": "code",
      "execution_count": null,
      "metadata": {
        "id": "4ka5_qlfBr5W",
        "colab": {
          "base_uri": "https://localhost:8080/"
        },
        "outputId": "ab885fd6-2ffc-44ea-c001-1010f1d8fee1"
      },
      "outputs": [
        {
          "output_type": "execute_result",
          "data": {
            "text/plain": [
              "dict_keys(['tweet', 'reddit', 'combined'])"
            ]
          },
          "metadata": {},
          "execution_count": 60
        }
      ],
      "source": [
        "split_datasets.keys()"
      ]
    },
    {
      "cell_type": "code",
      "execution_count": null,
      "metadata": {
        "id": "P4ukVb0RB0Tf",
        "colab": {
          "base_uri": "https://localhost:8080/"
        },
        "outputId": "8bda7bc2-caab-4ef1-aa06-a38ff549c9d4"
      },
      "outputs": [
        {
          "output_type": "stream",
          "name": "stdout",
          "text": [
            "Keys in tweet are dict_keys(['train', 'test', 'valid'])\n",
            "Keys in reddit are dict_keys(['train', 'test', 'valid'])\n",
            "Keys in combined are dict_keys(['train', 'test', 'valid'])\n"
          ]
        }
      ],
      "source": [
        "print (f'Keys in {TWEET} are {split_datasets[TWEET].keys()}')\n",
        "print (f'Keys in {REDDIT} are {split_datasets[REDDIT].keys()}')\n",
        "print (f'Keys in {COMBINED} are {split_datasets[COMBINED].keys()}')"
      ]
    },
    {
      "cell_type": "code",
      "execution_count": null,
      "metadata": {
        "id": "O2T_2R1dCS0J"
      },
      "outputs": [],
      "source": [
        "# Ensure the features were correctly combines\n",
        "features_in_twitter = len(split_datasets[TWEET][TRAIN]['X'])\n",
        "features_in_reddit = len(split_datasets[REDDIT][TRAIN]['X'])\n",
        "features_in_combined = len(split_datasets[COMBINED][TRAIN]['X'])\n",
        "\n",
        "assert features_in_combined == (features_in_twitter + features_in_reddit), f'Features do not match'\n",
        "\n",
        "# Ensure the labels were correctly combined\n",
        "labels_in_twitter = len(split_datasets[TWEET][TRAIN]['y'])\n",
        "labels_in_reddit = len(split_datasets[REDDIT][TRAIN]['y'])\n",
        "labels_in_combined = len(split_datasets[COMBINED][TRAIN]['y'])\n",
        "\n",
        "assert labels_in_combined == (labels_in_twitter + labels_in_reddit), f'Labels do not match'"
      ]
    },
    {
      "cell_type": "markdown",
      "metadata": {
        "id": "-jjesZVYGUcp"
      },
      "source": [
        "After splitting the dataset, we will be left with the following structure:\n",
        "\n",
        "```\n",
        "split_datasets\n",
        "├── tweet\n",
        "│   ├── train\n",
        "│   │   ├── X\n",
        "│   │   └── y\n",
        "│   ├── test\n",
        "│   └── valid\n",
        "├── reddit\n",
        "│   ├── train\n",
        "│   ├── test\n",
        "│   └── valid\n",
        "└── combined\n",
        "    ├── train\n",
        "    ├── test\n",
        "    └── valid\n",
        "```\n",
        "\n",
        "\n",
        "\n"
      ]
    },
    {
      "cell_type": "markdown",
      "metadata": {
        "id": "CG3BOzbvFVZi"
      },
      "source": [
        "## Research regarding data and data split\n",
        "\n",
        "Pei and Jurgens (2020) conducted analyses for an issue in pre-processing, where they were only able to do it for 1,000 tweets. They found that the distribution of the final annotated intimacy scores are not changed much while the fine-tuned XLM-T only achieved a Pearson’s r of 0.43 on the random sample, suggesting that the model trained on Reddit questions may not be reliable enough to detect intimacy in tweets. A potential goal of ours is too improve upon this making the model reliable for even reddit questions.\n",
        "\n",
        "(Liu et al., 2019) include two variants: one which is fine-tuned on 3M unannotated questions on a masked language modeling task, and a second which uses the default parameters in RoBERTa. Training uses only the 2,247 annotated Reddit questions, split 8:1:1 into training, validation, and test.\n"
      ]
    },
    {
      "cell_type": "markdown",
      "metadata": {
        "id": "f8UBMZXFiBkl"
      },
      "source": [
        "## Preparing data"
      ]
    },
    {
      "cell_type": "markdown",
      "metadata": {
        "id": "5qhe6gW2vQKx"
      },
      "source": [
        "Before sending the data to the model, we will preprocess it."
      ]
    },
    {
      "cell_type": "markdown",
      "source": [
        "### Create save location for models"
      ],
      "metadata": {
        "id": "qF3XgMBtzCGF"
      }
    },
    {
      "cell_type": "code",
      "execution_count": null,
      "metadata": {
        "colab": {
          "base_uri": "https://localhost:8080/"
        },
        "id": "9VQjKXJnojzV",
        "outputId": "0a2f7f73-d1c5-4d85-8db4-09ab6ee840c8"
      },
      "outputs": [
        {
          "output_type": "stream",
          "name": "stdout",
          "text": [
            "Drive already mounted at /content/drive; to attempt to forcibly remount, call drive.mount(\"/content/drive\", force_remount=True).\n"
          ]
        }
      ],
      "source": [
        "# Attach to the Google drive persistent storage\n",
        "from google.colab import drive\n",
        "drive.mount('/content/drive')\n",
        "\n",
        "# Create the folder for saving models if it doesn't already exist\n",
        "import os\n",
        "from os import path\n",
        "os.chdir('/content/drive/MyDrive')\n",
        "if not path.exists('/download_models'):\n",
        "  os.mkdir('/download_models')"
      ]
    },
    {
      "cell_type": "markdown",
      "metadata": {
        "id": "9XVIQKO4yUlA"
      },
      "source": [
        "### Define the datasets"
      ]
    },
    {
      "cell_type": "markdown",
      "metadata": {
        "id": "tYVVj8TCkdhE"
      },
      "source": [
        "We will have identifiers for each word in a language produced by tokenization. During this process, chunks of words, such as a sentence or a phrase, are broken down into smaller units. Each unit is called a token which could be words, numbers, or punctuation marks. \n",
        "\n",
        "Any word not in our dictionary will be replaced with the `unknown` token. \n",
        "\n",
        "Reference:\n",
        "- [Tokenizer - huggingface.co](https://huggingface.co/docs/transformers/main_classes/tokenizer)"
      ]
    },
    {
      "cell_type": "code",
      "execution_count": null,
      "metadata": {
        "id": "ntGh4lzSiT1V"
      },
      "outputs": [],
      "source": [
        "def tokenize_catch_unknown(word, tokenizer, vocab):\n",
        "  \"\"\"\n",
        "  Description: Tokenizes a word if it is known, but catches unknown words and replaces it with unknown tokens.\n",
        "  \n",
        "  \"\"\"\n",
        "  if vocab.get(word):\n",
        "    return tokenizer.tokenize(word)\n",
        "  else:\n",
        "    return [tokenizer.unk_token]"
      ]
    },
    {
      "cell_type": "code",
      "execution_count": null,
      "metadata": {
        "id": "_ve1a_GBqSDW"
      },
      "outputs": [],
      "source": [
        "def prepare_document_encoding(document, tokenizer, vocab):\n",
        "  \"\"\"\n",
        "  Description: Converts one document (a tweet or other text) into tokens in the model's vocabulary.\n",
        "  Returns a dictionary containing the tokens as text, the numerical ids of the tokens, and the score label for the document (already numerical here)\n",
        "\n",
        "  \"\"\"\n",
        "  tokenized = [tokenizer.cls_token] + [token for word in document for token in tokenize_catch_unknown(word, tokenizer, vocab)]\n",
        "  input_ids = [tokenizer.convert_tokens_to_ids(token) for token in tokenized]\n",
        "\n",
        "  return {\"tokenized\": tokenized, \n",
        "          \"input_ids\": input_ids}\n"
      ]
    },
    {
      "cell_type": "code",
      "execution_count": null,
      "metadata": {
        "id": "QxXyCQs_pA8B"
      },
      "outputs": [],
      "source": [
        "def prepare_data(data, tokenizer, vocab):\n",
        "  \"\"\"\n",
        "  Description: Converts the documents in the data into tokens in the model's vocabulary.\n",
        "\n",
        "  \"\"\"\n",
        "  for split in data:\n",
        "    data[split]['tokenized'] = []\n",
        "    data[split]['input_ids'] = []\n",
        "    data[split]['labels'] = []\n",
        "\n",
        "    for document, label in zip(data[split]['X'], data[split]['y']):\n",
        "      prepared_document = prepare_document_encoding(document, tokenizer, vocab)\n",
        "\n",
        "      data[split]['tokenized'] += [prepared_document['tokenized']]\n",
        "      data[split]['input_ids'] += [prepared_document['input_ids']]\n",
        "      data[split]['labels'] += [label]\n",
        "\n",
        "  return data\n"
      ]
    },
    {
      "cell_type": "code",
      "execution_count": null,
      "metadata": {
        "id": "0tBXz_-gvv1c"
      },
      "outputs": [],
      "source": [
        "import torch\n",
        "from torch.utils.data import Dataset\n",
        "\n",
        "class IADataset(Dataset):\n",
        "  def __init__(self, data, pad_token_id):\n",
        "        self.tokenized = data['tokenized']\n",
        "        self.input_ids = data['input_ids']\n",
        "        self.labels = data['labels']\n",
        "\n",
        "        self.pad_token_id = pad_token_id\n",
        "  \n",
        "  def __len__(self):\n",
        "        return len(self.input_ids)\n",
        "\n",
        "  def __getitem__(self, index):\n",
        "        return self.input_ids[index], self.labels[index]\n",
        "\n",
        "  # Try without batch collation\n",
        "  def collate_fn(self, batch):\n",
        "        \"\"\"\n",
        "        Description:\n",
        "            This function collates lists of samples into batches. It should be passed as the `collate_fn` argument when creating dataloaders.\n",
        "        Inputs:\n",
        "            - batch (List[Tuple]): a list of tuples. The tuple (Tuple[List]) in the batch is the return value (List[List]) of \n",
        "              `__getitem(self, index)` function. The elements are: 1) a List[int] (input_ids) and 2) a real (label).\n",
        "        Outputs:\n",
        "            - input_dict (Dict[str, torch.LongTensor]): a dictionary containing a mapping between input names and input values. The `input_ids` \n",
        "              (torch.LongTensor of shape (batch_size, sequence_length)) and `labels` (torch.FloatTensor of shape (batch_size, sequence_length)) \n",
        "              in the dictionary are token indexes and label values, respectively.\n",
        "        \"\"\"\n",
        "\n",
        "        # unwrap the batch into every field\n",
        "        input_ids, labels = map(list, zip(*batch))\n",
        "\n",
        "        max_length = max(map(len, input_ids))\n",
        "\n",
        "        padded_input_ids = [i + [self.pad_token_id] * (max_length - len(i)) for i in input_ids]\n",
        "        attention_masks = [[1 for id in i] + [0] * (max_length - len(i)) for i in input_ids]\n",
        "\n",
        "        input_dict = {\n",
        "            'input_ids': torch.tensor(padded_input_ids).long(),\n",
        "            'attention_masks': torch.tensor(attention_masks).long(),\n",
        "            'labels': torch.tensor(labels).to(torch.float64)\n",
        "        }\n",
        "\n",
        "        return input_dict"
      ]
    },
    {
      "cell_type": "code",
      "execution_count": null,
      "metadata": {
        "id": "TvHaduy9yDyp"
      },
      "outputs": [],
      "source": [
        "def get_ia_splits(data, pad_token_id):\n",
        "  \"\"\"\n",
        "  Description: Creates IADatasets around each split of the dataset.\n",
        "  \"\"\"\n",
        "  ia_splits = {split: IADataset(data[split], pad_token_id)\n",
        "                  for split in data}\n",
        "\n",
        "  return ia_splits"
      ]
    },
    {
      "cell_type": "code",
      "execution_count": null,
      "metadata": {
        "colab": {
          "base_uri": "https://localhost:8080/"
        },
        "id": "LB7ox430t3bx",
        "outputId": "0052a655-a281-46b0-b2eb-328d3e4d4411"
      },
      "outputs": [
        {
          "output_type": "execute_result",
          "data": {
            "text/plain": [
              "dict_keys(['tweet', 'reddit', 'combined'])"
            ]
          },
          "metadata": {},
          "execution_count": 69
        }
      ],
      "source": [
        "# Convert the documents into sequences of input ids in the model's vocabulary\n",
        "vocab = tokenizer.get_vocab()\n",
        "\n",
        "prepared_datasets = {key: prepare_data(split_datasets[key], tokenizer, vocab) for key in split_datasets}\n",
        "\n",
        "prepared_datasets.keys()"
      ]
    },
    {
      "cell_type": "code",
      "execution_count": null,
      "metadata": {
        "id": "kW_b35tDED9u"
      },
      "outputs": [],
      "source": [
        "assert len(prepared_datasets[TWEET][TRAIN]['X']) == features_in_twitter, f\"Mismatched sizes, expected {features_in_twitter}, got {len(prepared_datasets[TWEET][TRAIN]['X'])}\"\n",
        "assert len(prepared_datasets[REDDIT][TRAIN]['X']) == features_in_reddit, f\"Mismatched sizes, expected {features_in_reddit}, got {len(prepared_datasets[REDDIT][TRAIN]['X'])}\"\n",
        "assert len(prepared_datasets[COMBINED][TRAIN]['X']) == features_in_combined, f\"Mismatched sizes, expected {features_in_combined}, got {len(prepared_datasets[COMBINED][TRAIN]['X'])}\"\n",
        "\n",
        "assert len(prepared_datasets[TWEET][TRAIN]['y']) == labels_in_twitter, f\"Mismatched sizes, expected {labels_in_twitter}, got {len(prepared_datasets[TWEET][TRAIN]['y'])}\"\n",
        "assert len(prepared_datasets[REDDIT][TRAIN]['y']) == labels_in_reddit, f\"Mismatched sizes, expected {labels_in_reddit}, got {len(prepared_datasets[REDDIT][TRAIN]['y'])}\"\n",
        "assert len(prepared_datasets[COMBINED][TRAIN]['y']) == labels_in_combined, f\"Mismatched sizes, expected {labels_in_combined}, got {len(prepared_datasets[COMBINED][TRAIN]['y'])}\"\n"
      ]
    },
    {
      "cell_type": "code",
      "execution_count": null,
      "metadata": {
        "colab": {
          "base_uri": "https://localhost:8080/"
        },
        "id": "q_zb4zynba0N",
        "outputId": "1de3bba4-3079-4afc-f475-9687e65ec798"
      },
      "outputs": [
        {
          "output_type": "execute_result",
          "data": {
            "text/plain": [
              "{'tweet': {'train': <__main__.IADataset at 0x7f3d5c6b34f0>,\n",
              "  'test': <__main__.IADataset at 0x7f3d5c6b3a00>,\n",
              "  'valid': <__main__.IADataset at 0x7f3d5c6b3160>},\n",
              " 'reddit': {'train': <__main__.IADataset at 0x7f3d5c6b38b0>,\n",
              "  'test': <__main__.IADataset at 0x7f3d5c6b3d60>,\n",
              "  'valid': <__main__.IADataset at 0x7f3d5c6b3520>},\n",
              " 'combined': {'train': <__main__.IADataset at 0x7f3c74800190>,\n",
              "  'test': <__main__.IADataset at 0x7f3c74800fd0>,\n",
              "  'valid': <__main__.IADataset at 0x7f3c74800df0>}}"
            ]
          },
          "metadata": {},
          "execution_count": 71
        }
      ],
      "source": [
        "ia_datasets = {key: get_ia_splits(prepared_datasets[key], \n",
        "                                    pad_token_id=tokenizer.pad_token_id) \n",
        "               for key in prepared_datasets}\n",
        "ia_datasets"
      ]
    },
    {
      "cell_type": "code",
      "execution_count": null,
      "metadata": {
        "id": "kkZPB5qgWuhy"
      },
      "outputs": [],
      "source": [
        "assert len(ia_datasets[TWEET][TRAIN].tokenized) == features_in_twitter, f\"Mismatched sizes, expected {features_in_twitter}, got {len(ia_datasets[TWEET][TRAIN].tokenized)}\"\n",
        "assert len(ia_datasets[REDDIT][TRAIN].tokenized) == features_in_reddit, f\"Mismatched sizes, expected {features_in_reddit}, got {len(ia_datasets[REDDIT][TRAIN].tokenized)}\"\n",
        "assert len(ia_datasets[COMBINED][TRAIN].tokenized) == features_in_combined, f\"Mismatched sizes, expected {features_in_combined}, got {len(ia_datasets[COMBINED][TRAIN].tokenized)}\""
      ]
    },
    {
      "cell_type": "code",
      "execution_count": null,
      "metadata": {
        "colab": {
          "base_uri": "https://localhost:8080/"
        },
        "id": "4Pmai-1BKwC2",
        "outputId": "a722b7cd-ff23-43f9-93a6-97747486d912"
      },
      "outputs": [
        {
          "output_type": "stream",
          "name": "stdout",
          "text": [
            "--TRAIN--\n",
            "IA Dataset Twitter length: 7592\n",
            "IA Dataset Reddit length: 1437\n",
            "IA Dataset combined length: 9029\n",
            "--TEST--\n",
            "IA Dataset Twitter length: 949\n",
            "IA Dataset Reddit length: 180\n",
            "IA Dataset combined length: 1129\n"
          ]
        }
      ],
      "source": [
        "print ('--TRAIN--')\n",
        "print (f'IA Dataset Twitter length: {len(ia_datasets[TWEET][TRAIN].tokenized)}')\n",
        "print (f'IA Dataset Reddit length: {len(ia_datasets[REDDIT][TRAIN].tokenized)}')\n",
        "print (f'IA Dataset combined length: {len(ia_datasets[COMBINED][TRAIN].tokenized)}')\n",
        "\n",
        "print ('--TEST--')\n",
        "print (f'IA Dataset Twitter length: {len(ia_datasets[TWEET][TEST].tokenized)}')\n",
        "print (f'IA Dataset Reddit length: {len(ia_datasets[REDDIT][TEST].tokenized)}')\n",
        "print (f'IA Dataset combined length: {len(ia_datasets[COMBINED][TEST].tokenized)}')\n",
        "\n",
        "assert len(ia_datasets[TWEET][TRAIN].tokenized) == features_in_twitter, f\"Mismatched sizes, expected {features_in_twitter}, got {len(ia_datasets[TWEET][TRAIN].tokenized)}\"\n",
        "assert len(ia_datasets[REDDIT][TRAIN].tokenized) == features_in_reddit, f\"Mismatched sizes, expected {features_in_reddit}, got {len(ia_datasets[REDDIT][TRAIN].tokenized)}\"\n",
        "assert len(ia_datasets[COMBINED][TRAIN].tokenized) == features_in_combined, f\"Mismatched sizes, expected {features_in_combined}, got {len(ia_datasets[COMBINED][TRAIN].tokenized)}\""
      ]
    },
    {
      "cell_type": "markdown",
      "metadata": {
        "id": "TbHVI5-LMV7S"
      },
      "source": [
        "The folder structure for `ia_datasets` will be:\n",
        "```\n",
        "ia_datasets\n",
        "├── tweet\n",
        "│   ├── train\n",
        "│   │   ├── tokenized\n",
        "│   │   ├── input_ids\n",
        "│   │   ├── labels\n",
        "│   │   └── pad_token_ids\n",
        "│   ├── test\n",
        "│   └── valid\n",
        "├── reddit\n",
        "└── combined\n",
        "```"
      ]
    },
    {
      "cell_type": "code",
      "execution_count": null,
      "metadata": {
        "colab": {
          "base_uri": "https://localhost:8080/"
        },
        "id": "Kc2y6CjmjOkk",
        "outputId": "cd1fdff9-3816-44e7-b1b7-5f9a4549925c"
      },
      "outputs": [
        {
          "output_type": "execute_result",
          "data": {
            "text/plain": [
              "0"
            ]
          },
          "metadata": {},
          "execution_count": 74
        }
      ],
      "source": [
        "# Cleanup to save RAM\n",
        "del prepared_datasets\n",
        "del split_datasets\n",
        "del reddit_df_train\n",
        "del twitter_df_train\n",
        "\n",
        "import gc\n",
        "\n",
        "gc.collect()"
      ]
    },
    {
      "cell_type": "markdown",
      "metadata": {
        "id": "wGYgcEyZyfBd"
      },
      "source": [
        "### Define the DataLoaders"
      ]
    },
    {
      "cell_type": "markdown",
      "metadata": {
        "id": "lKGXEDu2vX4j"
      },
      "source": [
        "Dataloaders are constructs of the PyTorch library which define and control data preprocessing. The data will be fed in batches to the model. This is important because it is inefficient to load the data altogether in memory at once. The size of the data loaded at any given time into memory is controlled by the `batch_size` which is 32 for the training, validation and testing datasets.  \n",
        "\n",
        "Every DataLoader has a Sampler which is used internally to get the indices for each batch. \n",
        "\n",
        "The `SequentialSampler` iterates over the dataset in a sequential order. For example: `[1,2,3]` -> `1,2,3`. Here the `shuffle` parameter is set to `false`.\n",
        "\n",
        "The `RandomSampler` is just like it's sequential counterpart, but with `shuffle=True`.\n",
        "\n",
        "\n",
        "References:\n",
        "- [torch.utils.data — PyTorch 1.13 documentation](https://pytorch.org/docs/stable/data.html)\n",
        "- [SequentialSampler](https://www.scottcondron.com/jupyter/visualisation/audio/2020/12/02/dataloaders-samplers-collate.html#SequentialSampler)"
      ]
    },
    {
      "cell_type": "code",
      "execution_count": null,
      "metadata": {
        "colab": {
          "base_uri": "https://localhost:8080/"
        },
        "id": "69lZIC8YyeRQ",
        "outputId": "34bebf8f-28d5-4971-c2bf-4d17d36edfc6"
      },
      "outputs": [
        {
          "output_type": "execute_result",
          "data": {
            "text/plain": [
              "{'tweet': {'train': <torch.utils.data.dataloader.DataLoader at 0x7f3c691c2e20>,\n",
              "  'test': <torch.utils.data.dataloader.DataLoader at 0x7f3c691c2eb0>,\n",
              "  'valid': <torch.utils.data.dataloader.DataLoader at 0x7f3c691c2f40>},\n",
              " 'reddit': {'train': <torch.utils.data.dataloader.DataLoader at 0x7f3c691bf250>,\n",
              "  'test': <torch.utils.data.dataloader.DataLoader at 0x7f3c691bf2e0>,\n",
              "  'valid': <torch.utils.data.dataloader.DataLoader at 0x7f3c691bf370>},\n",
              " 'combined': {'train': <torch.utils.data.dataloader.DataLoader at 0x7f3c691bf6a0>,\n",
              "  'test': <torch.utils.data.dataloader.DataLoader at 0x7f3c691bf730>,\n",
              "  'valid': <torch.utils.data.dataloader.DataLoader at 0x7f3c691bf7c0>}}"
            ]
          },
          "metadata": {},
          "execution_count": 75
        }
      ],
      "source": [
        "from torch.utils.data import BatchSampler, DataLoader, RandomSampler, SequentialSampler\n",
        "\n",
        "def get_dataloaders(datasets, train_batch_size, eval_batch_size):\n",
        "    \"\"\"\n",
        "    Description:\n",
        "        This function implements batch training by creating dataloaders for datasets to acclerate training.\n",
        "    Inputs:\n",
        "        - datasets (Dict[str, Dict]): a dictionary containing a mapping between dataset names and dataset values. \n",
        "        - train_batch_size (int): an integer which is used as the batch size when creating the train dataloader\n",
        "        - eval_batch_size (int): an integer which is used as the batch size when creating the validation and test dataloader\n",
        "    \"\"\"\n",
        "    # Retrieve the dataset split labels (\"train\", \"validation\", \"test\")\n",
        "    splits = datasets.keys()\n",
        "\n",
        "    # Choose different parameters for each dataset split\n",
        "    sampler_classes = {split: \n",
        "                       (RandomSampler if split == \"train\" else SequentialSampler) \n",
        "                       for split in splits}\n",
        "\n",
        "    batch_sizes = {split: \n",
        "                   (train_batch_size if split == \"train\" else eval_batch_size) \n",
        "                   for split in splits}\n",
        "\n",
        "    # Initialize the BatchSamplers with the differentiated parameters\n",
        "    batch_samplers = {split: \n",
        "                      BatchSampler(sampler_classes[split](datasets[split]),\n",
        "                                   batch_sizes[split],\n",
        "                                   drop_last=False)\n",
        "                      for split in splits}\n",
        "\n",
        "    # Build the dataloaders from the initialized BatchSamplers and the custom collate_fn\n",
        "    dataloaders = {split: \n",
        "                   DataLoader(datasets[split], \n",
        "                              batch_sampler=batch_samplers[split],\n",
        "                              collate_fn=datasets[split].collate_fn)\n",
        "                   for split in splits}\n",
        "\n",
        "    return dataloaders\n",
        "\n",
        "TRAIN_BATCH_SIZE = 32\n",
        "EVAL_BATCH_SIZE = 32\n",
        "\n",
        "dataloaders = {key: get_dataloaders(ia_datasets[key], train_batch_size=TRAIN_BATCH_SIZE, eval_batch_size=EVAL_BATCH_SIZE) \n",
        "               for key in ia_datasets}\n",
        "dataloaders"
      ]
    },
    {
      "cell_type": "markdown",
      "metadata": {
        "id": "vcE3nPt_REtM"
      },
      "source": [
        "Check to ensure that lengths of dataset are as expected."
      ]
    },
    {
      "cell_type": "code",
      "execution_count": null,
      "metadata": {
        "colab": {
          "base_uri": "https://localhost:8080/"
        },
        "id": "En9tAuxiM3rJ",
        "outputId": "df72907b-4929-405e-f765-a34102c02b0d"
      },
      "outputs": [
        {
          "output_type": "stream",
          "name": "stdout",
          "text": [
            "tweet's train length is 238.\n",
            "tweet's test length is 30.\n",
            "tweet's valid length is 30.\n",
            "tweet is good.\n",
            "\n",
            "reddit's train length is 45.\n",
            "reddit's test length is 6.\n",
            "reddit's valid length is 6.\n",
            "reddit is good.\n",
            "\n",
            "combined's train length is 283.\n",
            "combined's test length is 36.\n",
            "combined's valid length is 36.\n",
            "combined is good.\n",
            "\n",
            "All good - sizes are as expected!\n"
          ]
        }
      ],
      "source": [
        "import math \n",
        "\n",
        "def check_size(dataType, partitionType):\n",
        "  if partitionType == TRAIN: batchSize = TRAIN_BATCH_SIZE\n",
        "  else: batchSize = EVAL_BATCH_SIZE\n",
        "\n",
        "  got = len(dataloaders[dataType][partitionType])\n",
        "  expected = math.ceil(len(ia_datasets[dataType][partitionType].tokenized)/batchSize)\n",
        "  assert got == expected, f'Got {got}, expected {expected}'\n",
        "\n",
        "  print (f'{dataType}\\'s {partitionType} length is {expected}.')\n",
        "\n",
        "for d in [TWEET, REDDIT, COMBINED]:\n",
        "  for p in [TRAIN, TEST, 'valid']:\n",
        "    check_size(d, p)\n",
        "  print (f'{d} is good.\\n')\n",
        "    \n",
        "print ('All good - sizes are as expected!')"
      ]
    },
    {
      "cell_type": "markdown",
      "metadata": {
        "id": "k0rmOLQcDI7C"
      },
      "source": [
        "## RoBERTa Model Architecture"
      ]
    },
    {
      "cell_type": "code",
      "execution_count": null,
      "metadata": {
        "colab": {
          "base_uri": "https://localhost:8080/"
        },
        "id": "2-tiBzI6yFW4",
        "outputId": "ae31776a-451a-45fe-de80-719165091bdc"
      },
      "outputs": [
        {
          "output_type": "execute_result",
          "data": {
            "text/plain": [
              "XLMRobertaConfig {\n",
              "  \"_name_or_path\": \"cardiffnlp/twitter-xlm-roberta-base-sentiment\",\n",
              "  \"architectures\": [\n",
              "    \"XLMRobertaForSequenceClassification\"\n",
              "  ],\n",
              "  \"attention_probs_dropout_prob\": 0.1,\n",
              "  \"bos_token_id\": 0,\n",
              "  \"classifier_dropout\": null,\n",
              "  \"eos_token_id\": 2,\n",
              "  \"gradient_checkpointing\": false,\n",
              "  \"hidden_act\": \"gelu\",\n",
              "  \"hidden_dropout_prob\": 0.1,\n",
              "  \"hidden_size\": 768,\n",
              "  \"id2label\": {\n",
              "    \"0\": \"negative\",\n",
              "    \"1\": \"neutral\",\n",
              "    \"2\": \"positive\"\n",
              "  },\n",
              "  \"initializer_range\": 0.02,\n",
              "  \"intermediate_size\": 3072,\n",
              "  \"label2id\": {\n",
              "    \"negative\": 0,\n",
              "    \"neutral\": 1,\n",
              "    \"positive\": 2\n",
              "  },\n",
              "  \"layer_norm_eps\": 1e-05,\n",
              "  \"max_position_embeddings\": 514,\n",
              "  \"model_type\": \"xlm-roberta\",\n",
              "  \"num_attention_heads\": 12,\n",
              "  \"num_hidden_layers\": 12,\n",
              "  \"output_past\": true,\n",
              "  \"pad_token_id\": 1,\n",
              "  \"position_embedding_type\": \"absolute\",\n",
              "  \"transformers_version\": \"4.25.1\",\n",
              "  \"type_vocab_size\": 1,\n",
              "  \"use_cache\": true,\n",
              "  \"vocab_size\": 250002\n",
              "}"
            ]
          },
          "metadata": {},
          "execution_count": 77
        }
      ],
      "source": [
        "from transformers import AutoConfig\n",
        "\n",
        "# set up the configuration for BERT model\n",
        "config = AutoConfig.from_pretrained(PRETRAINED_MODEL_NAME)\n",
        "config"
      ]
    },
    {
      "cell_type": "markdown",
      "metadata": {
        "id": "I-bXQPBBVyEH"
      },
      "source": [
        "#### RobERTa Regressor - New"
      ]
    },
    {
      "cell_type": "code",
      "execution_count": null,
      "metadata": {
        "colab": {
          "base_uri": "https://localhost:8080/",
          "height": 35
        },
        "id": "75IywPoWi9F3",
        "outputId": "ec1575a5-49df-4687-e2e8-5af03b95fd29"
      },
      "outputs": [
        {
          "output_type": "execute_result",
          "data": {
            "text/plain": [
              "'cpu'"
            ],
            "application/vnd.google.colaboratory.intrinsic+json": {
              "type": "string"
            }
          },
          "metadata": {},
          "execution_count": 78
        }
      ],
      "source": [
        "import torch\n",
        "\n",
        "PRETRAINED_MODEL_NAME = f\"cardiffnlp/twitter-xlm-roberta-base-sentiment\"\n",
        "\n",
        "DEVICE = 'cuda:0' if torch.cuda.is_available() else 'cpu'\n",
        "DEVICE"
      ]
    },
    {
      "cell_type": "code",
      "execution_count": null,
      "metadata": {
        "id": "_FmHWfNOV1iv"
      },
      "outputs": [],
      "source": [
        "import torch.nn as nn\n",
        "from transformers import XLMRobertaModel, XLMRobertaPreTrainedModel\n",
        "\n",
        "class XLMRobertaRegressor(nn.Module):\n",
        "    \n",
        "    def __init__(self, pretrained_model_name_or_path, drop_rate=0.2, freeze_camembert=False):\n",
        "\n",
        "        super(XLMRobertaRegressor, self).__init__()\n",
        "        D_in, D_out = 768, 1\n",
        "        \n",
        "        self.xlmroberta = XLMRobertaModel.from_pretrained(pretrained_model_name_or_path)\n",
        "        self.regressor = nn.Sequential(\n",
        "            nn.Dropout(drop_rate),\n",
        "            nn.Linear(D_in, D_out)\n",
        "            )\n",
        "\n",
        "\n",
        "    def forward(self, input_ids, attention_masks):\n",
        "        outputs = self.xlmroberta(input_ids, attention_masks)\n",
        "        class_label_output = outputs[1]\n",
        "        outputs = self.regressor(class_label_output)\n",
        "        return outputs"
      ]
    },
    {
      "cell_type": "markdown",
      "metadata": {
        "id": "TLSbvhNJe7xg"
      },
      "source": [
        "## Training"
      ]
    },
    {
      "cell_type": "markdown",
      "source": [
        "In the report (Liu et al., 2019), the parameters: \n",
        "- Batch size is 128 and learning rate is 0.0001 with max length set to 50.\n",
        "- AdamW (Kingma and Ba, 2014) used for optimization.\n",
        "- All the other hyperparameters and the model size are the same as the default roberta-base model\n",
        "\n",
        "**Training**\n",
        "They trained model for five epochs, selecting model with lowest MSE on validation set. \n",
        "\n",
        "**fine-tuning process**: They followed all default settings recommended by Hugging Face.\n",
        "\n",
        "**Tuning Learning Rate**: 0.0001 and 0.00001 both achieved good scores regarding MSE and Pearson r."
      ],
      "metadata": {
        "id": "6r610hDipzT4"
      }
    },
    {
      "cell_type": "markdown",
      "metadata": {
        "id": "MIhkV6Rbd2ju"
      },
      "source": [
        "#### Training Loop\n",
        "\n",
        "Define the custom training loop for the regression task.  "
      ]
    },
    {
      "cell_type": "code",
      "source": [
        "from torch.nn.utils.clip_grad import clip_grad_norm\n",
        "from tqdm import tqdm\n",
        "\n",
        "def train(model, optimizer, scheduler, loss_function, epochs,       \n",
        "          train_dataloader, device, clip_value=2):\n",
        "  \n",
        "\n",
        "    for epoch in range(epochs):\n",
        "        print(f'Epoch #{epoch}')\n",
        "\n",
        "        best_loss = 1e10\n",
        "        model.train()\n",
        "\n",
        "        for step, batch in enumerate(tqdm(train_dataloader)): \n",
        "\n",
        "            batch_inputs, batch_masks, batch_labels = \\\n",
        "                               tuple(batch[field].to(device) for field in batch)\n",
        "\n",
        "\n",
        "            model.zero_grad()\n",
        "            outputs = model(batch_inputs, batch_masks)           \n",
        "            \n",
        "            outputs = outputs.to(torch.float64)\n",
        "            batch_masks = batch_masks.to(torch.float64)\n",
        "\n",
        "            loss = loss_function(outputs.squeeze(), \n",
        "                             batch_labels.squeeze())\n",
        "\n",
        "            loss.backward()\n",
        "            clip_grad_norm(model.parameters(), clip_value)\n",
        "            optimizer.step()\n",
        "            scheduler.step()\n",
        "                \n",
        "    return model"
      ],
      "metadata": {
        "id": "ovmD-wbxcipF"
      },
      "execution_count": null,
      "outputs": []
    },
    {
      "cell_type": "markdown",
      "source": [
        "Train on one dataset, save to persistent storage and delete to free up space."
      ],
      "metadata": {
        "id": "qE48qsQAi7Mj"
      }
    },
    {
      "cell_type": "code",
      "source": [
        "from transformers import AdamW\n",
        "from transformers import get_linear_schedule_with_warmup\n",
        "\n",
        "SAVED_MODEL_PATH = '/content/drive/MyDrive/download_models/model_state_dict_'\n",
        "\n",
        "def train_and_save(variant_name):\n",
        "  print (f'Training on {variant_name}')\n",
        "\n",
        "  # Create default model\n",
        "  model = XLMRobertaRegressor(PRETRAINED_MODEL_NAME, drop_rate=0.2).to(DEVICE)\n",
        "\n",
        "  # Define optimizer\n",
        "  optimizer = AdamW(model.parameters(),\n",
        "                  lr=5e-5,\n",
        "                  eps=1e-8)\n",
        "  \n",
        "  # Define scheduler\n",
        "  epochs = 10\n",
        "  total_steps = len(dataloaders[TWEET][TRAIN]) * epochs\n",
        "  scheduler = get_linear_schedule_with_warmup(optimizer,       \n",
        "                 num_warmup_steps=0, num_training_steps=total_steps)\n",
        "  \n",
        "  # Define loss function\n",
        "  loss_function = nn.MSELoss()\n",
        "\n",
        "  # Fine-tune on one of our datasets\n",
        "  model = train(model, optimizer, scheduler, loss_function, epochs, \n",
        "            dataloaders[variant_name][TRAIN], DEVICE, clip_value=2)\n",
        "  \n",
        "  # Save the model's learned state so it can be recovered for evaluation\n",
        "  torch.save(model.state_dict(), SAVED_MODEL_PATH + variant_name)\n",
        "\n",
        "  # Delete the model to free up GPU memory space\n",
        "  del model\n"
      ],
      "metadata": {
        "id": "CRJL67rmiggq"
      },
      "execution_count": null,
      "outputs": []
    },
    {
      "cell_type": "markdown",
      "source": [
        "Train, save each version of the fine tuned model."
      ],
      "metadata": {
        "id": "D7U1Ze-O4KmR"
      }
    },
    {
      "cell_type": "code",
      "source": [
        "for name in [TWEET, REDDIT, COMBINED]:\n",
        "  train_and_save(name)"
      ],
      "metadata": {
        "colab": {
          "base_uri": "https://localhost:8080/"
        },
        "id": "ibjlqzz_kIsZ",
        "outputId": "4d0335b5-0e92-4362-c3ec-55d9a7740c73"
      },
      "execution_count": null,
      "outputs": [
        {
          "output_type": "stream",
          "name": "stdout",
          "text": [
            "Training on tweet\n"
          ]
        },
        {
          "output_type": "stream",
          "name": "stderr",
          "text": [
            "/usr/local/lib/python3.8/dist-packages/transformers/optimization.py:306: FutureWarning: This implementation of AdamW is deprecated and will be removed in a future version. Use the PyTorch implementation torch.optim.AdamW instead, or set `no_deprecation_warning=True` to disable this warning\n",
            "  warnings.warn(\n"
          ]
        },
        {
          "output_type": "stream",
          "name": "stdout",
          "text": [
            "Epoch #0\n"
          ]
        },
        {
          "output_type": "stream",
          "name": "stderr",
          "text": [
            "\r  0%|          | 0/238 [00:00<?, ?it/s]<ipython-input-80-5fed698139d4>:30: UserWarning: torch.nn.utils.clip_grad_norm is now deprecated in favor of torch.nn.utils.clip_grad_norm_.\n",
            "  clip_grad_norm(model.parameters(), clip_value)\n",
            "  0%|          | 1/238 [00:43<2:52:37, 43.70s/it]"
          ]
        }
      ]
    },
    {
      "cell_type": "markdown",
      "metadata": {
        "id": "TeWs14NTCxgB"
      },
      "source": [
        "## Evaluation"
      ]
    },
    {
      "cell_type": "markdown",
      "metadata": {
        "id": "D3L-jqfgTMYt"
      },
      "source": [
        "### Reload models\n",
        "\n",
        "The three models can also be downloaded from these VIEW-ONLY links. These models are around 1GB in size. \n",
        "\n",
        "- `model_state_dict_combined`: https://drive.google.com/file/d/1-E66ega1p2xWBU2sVAjMU4I1jZX17cqy/view?usp=sharing \n",
        "- `model_state_dict_reddit`: https://drive.google.com/file/d/1-2taTlLRWZrcDA6Z2jgtOUzd_U74YHFF/view?usp=sharing \n",
        "- `model_state_dict_twitter`: https://drive.google.com/file/d/1HGkVfRGPVORGO1qCAEXxGVCjpjPtRKpt/view?usp=sharing "
      ]
    },
    {
      "cell_type": "code",
      "execution_count": null,
      "metadata": {
        "id": "6-Mq1wqjRm-C"
      },
      "outputs": [],
      "source": [
        "model_variants = {}\n",
        "\n",
        "for name in [TWEET, REDDIT, COMBINED]:\n",
        "  model = XLMRobertaRegressor(PRETRAINED_MODEL_NAME, drop_rate=0.2).to(DEVICE)\n",
        "  model.load_state_dict(torch.load(SAVED_MODEL_PATH + name,  map_location=torch.device('cpu')))\n",
        "  model.eval()\n",
        "\n",
        "  model_variants[name] = model\n",
        "\n",
        "model_variants.keys()"
      ]
    },
    {
      "cell_type": "markdown",
      "metadata": {
        "id": "78jPntFQd6eY"
      },
      "source": [
        "### Evaluation Loop"
      ]
    },
    {
      "cell_type": "code",
      "execution_count": null,
      "metadata": {
        "id": "srRkqr5nBk2L"
      },
      "outputs": [],
      "source": [
        "def evaluate(model, dataloader, device):\n",
        "    # Deactivate the model gradients so the model will save time and not learn from the test data\n",
        "    with torch.no_grad():\n",
        "\n",
        "      model.to(device)\n",
        "\n",
        "      model.eval()\n",
        "\n",
        "      predicted_labels = []\n",
        "      true_labels = []\n",
        "      for step, batch in enumerate(tqdm(dataloader)):\n",
        "          batch_inputs, batch_masks, batch_labels = tuple(\n",
        "              batch[field].to(device) for field in batch)\n",
        "\n",
        "          predicted_labels += [p for p in model(batch_inputs, batch_masks)]\n",
        "          true_labels += [l.data.detach().cpu().tolist() for l in batch_labels]\n",
        "          \n",
        "          del batch_inputs, batch_masks, batch_labels\n",
        "        \n",
        "      return predicted_labels, true_labels"
      ]
    },
    {
      "cell_type": "markdown",
      "source": [
        "Evaluate and report on accuracy score metrics"
      ],
      "metadata": {
        "id": "ebyj-ZHdo1_d"
      }
    },
    {
      "cell_type": "code",
      "source": [
        "import numpy as np\n",
        "from scipy.stats import pearsonr\n",
        "from scipy.stats import spearmanr\n",
        "from seqeval.metrics import classification_report\n",
        "from tqdm import tqdm \n",
        "\n",
        "def eval_score(train_name, test_name):\n",
        "  test_preds, test_truth = evaluate(model_variants[train_name], dataloaders[test_name]['test'], device=DEVICE)\n",
        "  test_preds = np.squeeze(np.asarray([p.cpu().numpy() for p in test_preds]))\n",
        "  test_truth = np.array(test_truth)\n",
        "\n",
        "  print(\"Trained on:\", train_name)\n",
        "  print(\"Tested on:\", test_name)\n",
        "\n",
        "  print(\"Pearson's R score:\",pearsonr(test_preds, test_truth)[0])\n",
        "  print(\"Spearman's rho score:\", spearmanr(test_preds, test_truth)[0])\n",
        "  print(\"MSE:\", ((test_preds - test_truth) ** 2).mean())\n",
        "  print(\"RMSE:\" ,(np.sqrt ((  (test_preds - test_truth) ** 2).mean())).item())\n",
        "  print(\"MAE:\" ,(np.abs(test_preds - test_truth)).mean().item())"
      ],
      "metadata": {
        "id": "fxvtiDuvnCqQ"
      },
      "execution_count": null,
      "outputs": []
    },
    {
      "cell_type": "markdown",
      "source": [
        "Evaluate each dataset's test split on the same dataset's train split and the other dataset's train split."
      ],
      "metadata": {
        "id": "ZFV1pcNgovRJ"
      }
    },
    {
      "cell_type": "code",
      "execution_count": null,
      "metadata": {
        "id": "FKb9nIL4Bk2R"
      },
      "outputs": [],
      "source": [
        "eval_score(TWEET, TWEET)\n",
        "eval_score(TWEET, REDDIT)\n",
        "eval_score(TWEET, COMBINED)\n",
        "eval_score(REDDIT, TWEET)\n",
        "eval_score(REDDIT, REDDIT)\n",
        "eval_score(REDDIT, COMBINED)\n",
        "eval_score(COMBINED, TWEET)\n",
        "eval_score(COMBINED, REDDIT)\n",
        "eval_score(COMBINED, COMBINED)"
      ]
    },
    {
      "cell_type": "markdown",
      "metadata": {
        "id": "KQKXVas1LzW_"
      },
      "source": [
        "## Base Line"
      ]
    },
    {
      "cell_type": "markdown",
      "metadata": {
        "id": "Djjtifb61X6h"
      },
      "source": [
        "Baseline models to test:\n",
        "1. BERT (Devlin et al., 2018): multilingual\n",
        "BERT model.\n",
        "2. XLM-R (Conneau et al., 2019): multilingual\n",
        "RoBERTa model.\n",
        "3. XLM-T (Barbieri et al., 2021): Multilingual\n",
        "RoBERTa model trained over 200M tweets.\n",
        "4. DistillBERT (Sanh et al., 2019): Multilingual\n",
        "distilled BERT model.\n",
        "5. MiniLM (Wang et al., 2020): Multilingual\n",
        "MiniLM model.\n",
        "\n",
        "(Liu et al., 2019) found that XLM-T achieved the best performance over 7 languages, suggesting that domain specific language model training is beneficial for our tweet intimacy analysis task\n",
        "(Liu et al., 2019) found that for zero-shot tasks, models has varying performances for different languages: The zero-shot performance is generally lower compared with the tasks with in-domain training. This suggests that the zero-shot task is challenging. We should explore different strategies to improve the zero-shot intimacy prediction performance.\n",
        "\n",
        "The baseline testing was performed in a separate notebook, available at\n",
        "https://github.com/aishafarooque/Tweet-Intimacy-Analysis/blob/main/Baseline_BERT_Regression.ipynb\n"
      ]
    },
    {
      "cell_type": "markdown",
      "metadata": {
        "id": "JmHosmNwkvQt"
      },
      "source": [
        "## State of the Art\n",
        "State of the art model should be regarded as XLM-T mode : Multilingual RoBERTa model trained over 200M tweets. Although this model in particular perfromed poorly on languages; Chinese, Hindi, Dutch, Korean,"
      ]
    }
  ],
  "metadata": {
    "accelerator": "GPU",
    "colab": {
      "collapsed_sections": [
        "kpHFYYTKKuLP",
        "Opsn06XGc9z5",
        "mv0p2FnOS2XK",
        "-ILpCzzegdmC",
        "gkGy0Ypl8I-y",
        "C18zWc2ytm1y",
        "psgQJz7bdFGB",
        "CG3BOzbvFVZi",
        "f8UBMZXFiBkl",
        "qF3XgMBtzCGF",
        "9XVIQKO4yUlA",
        "wGYgcEyZyfBd",
        "k0rmOLQcDI7C",
        "I-bXQPBBVyEH",
        "JmHosmNwkvQt"
      ],
      "provenance": [],
      "include_colab_link": true
    },
    "gpuClass": "standard",
    "kernelspec": {
      "display_name": "Python 3",
      "name": "python3"
    },
    "language_info": {
      "name": "python"
    }
  },
  "nbformat": 4,
  "nbformat_minor": 0
}